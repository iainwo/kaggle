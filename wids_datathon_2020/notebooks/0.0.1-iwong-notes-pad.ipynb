{
 "cells": [
  {
   "cell_type": "code",
   "execution_count": null,
   "metadata": {
    "Collapsed": "false"
   },
   "outputs": [],
   "source": []
  },
  {
   "cell_type": "markdown",
   "metadata": {
    "Collapsed": "false"
   },
   "source": [
    "TODO:\n",
    "- feature selection\n",
    "- object selection"
   ]
  },
  {
   "cell_type": "markdown",
   "metadata": {
    "Collapsed": "false"
   },
   "source": [
    "- Selection bias, medical practice differences, and other factors can be visible within the distributions of the variables of interest. This is why it is so important to have a severity of illness score that will not assume uniformity across hospitals and/or countries.\n",
    "    -  It is clear from this review of the databases that practice variation which occurs across geographically distinct institutions can result in dissimilar data distributions.\n",
    "    \n",
    " \n",
    "- stratify by db/source\n",
    "- malfeasance in countries icu\n",
    "- population of country's icu\n",
    "\n",
    "- what about confounding covariates?\n",
    "    - . Given that APACHE variables depend on the APACHE score, they were treated separately from the rest of the variables.\n",
    "\n",
    "- cat bimodals as min/max\n",
    "\n",
    "- The main issue of existing severity of illness systems is the lack of generalizability: SAPS 3 is one of the most\n",
    "common severity of illness scores, and its calibration varies based on geographical area, having\n",
    "the worst predictive results in Central and South America. [4] This dependence is likely due to\n",
    "differences across ICUs in staffing, capacity for special diagnostic tests and interventions,\n",
    "variation in the culture of quality and patient safety, and others. [2]\n",
    "-  200 variables of interest were identified and extracted from\n",
    "the databases, when possible. Some variables showed different distributions throughout the\n",
    "databases that can be attributed to differences in medical practices and selection bias of\n",
    "hospitals. Thus, the predictive models that were trained in one database scored poorly when\n",
    "tested on a different database. Thus, a combination of the extracted variables from different\n",
    "databases with some necessary data manipulation should create a more generalizable severity\n",
    "of illness score.\n",
    "- investigate ventilation flag, process induces shift in variables\n",
    "\n",
    "\n",
    "- These differences, in their great majority, may be attributed to practice and selection bias, and should be considered when building models."
   ]
  },
  {
   "cell_type": "markdown",
   "metadata": {
    "Collapsed": "false"
   },
   "source": [
    "Databases\n",
    "    \n",
    "1. Australian and New Zealand intensive Care Society (ANZICS)\n",
    "    - one hundred thirty-eight intensive\n",
    "care units in Australia and New Zealand totaling more than 900,000 ICU stays. \n",
    "    - The ratio of New Zealand to Australia data 1:10 is somewhat representative of the ratio of population of 1:5.\n",
    "    -  data was evaluated using the Directory of Clinical Databases (DoCDat) criteria, and it ranked as a high-quality ICU database\n",
    "2. eICU Collaborative Research Database v1.0\n",
    "    - multiple ICUs throughout the United States of America.\n",
    "    - 2013, the database contained over 1.5 million ICU stays, and incrementing about 400,000 patient records per year from over 180 subscribing hospitals in the country\n",
    "3. Medical Information Mart for Intensive Care (MIMIC-III)\n",
    "    - a freely accessible critical care database comprising information of patients admitted to critical care units at Beth Israel Deaconess Medical Center in Boston, Massachusetts.\n",
    "    - spans more than one decade of health records totaling to 49,785 hospital admissions.\n",
    "4. ORganizational CHaractEriSTics in cRitical cAre (ORCHESTRA)\n",
    "    - 59,693 patients from 78 ICUs at 51 hospitals in 11 Brazilian states that account for one year of records (2013)\n",
    "    - screened for missing data, outliers, and logical errors. Missing data on patient’s characteristics was imputed using the normal category.\n",
    "    - Specifics about the database can be found on Soares M. et al including the imputation method used, exclusion criteria, and specific distribution of the ICUs throughout the hospitals and states.\n",
    "    - "
   ]
  },
  {
   "cell_type": "markdown",
   "metadata": {
    "Collapsed": "false"
   },
   "source": [
    "Differences in DB Distributions\n",
    "\n",
    "Similar Vars:\n",
    "- age_avg\n",
    "- age_med\n",
    "- age_std\n",
    "- d1_wbc_min_avg\n",
    "- d1_wbc_min_med\n",
    "- d1_wbc_min_std\n",
    "\n",
    "Notes:\n",
    "- platelet measurements in the North American hospitals are only acquired for select patients with specific conditions driving the distribution to more extreme values. - - \n",
    "- However, even among variables with similar completeness (such as mean blood pressure), ORCHESTRA patients appear to have values closer to reference levels (Figure (3B)). This may imply that these variables have been able to capture a selection bias introduced by Brazilian hospitals of healthier patients admitted into the ICU. "
   ]
  },
  {
   "cell_type": "code",
   "execution_count": null,
   "metadata": {
    "Collapsed": "false"
   },
   "outputs": [],
   "source": []
  }
 ],
 "metadata": {
  "kernelspec": {
   "display_name": "wids-datathon-2020",
   "language": "python",
   "name": "valence"
  },
  "language_info": {
   "codemirror_mode": {
    "name": "ipython",
    "version": 3
   },
   "file_extension": ".py",
   "mimetype": "text/x-python",
   "name": "python",
   "nbconvert_exporter": "python",
   "pygments_lexer": "ipython3",
   "version": "3.7.3"
  }
 },
 "nbformat": 4,
 "nbformat_minor": 4
}
