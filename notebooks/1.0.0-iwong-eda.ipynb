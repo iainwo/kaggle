{
 "cells": [
  {
   "cell_type": "code",
   "execution_count": 26,
   "metadata": {
    "Collapsed": "false"
   },
   "outputs": [],
   "source": [
    "import pandas as pd\n",
    "pd.set_option(\"display.max_rows\", 100)\n",
    "pd.set_option(\"display.max_columns\", 100)"
   ]
  },
  {
   "cell_type": "code",
   "execution_count": 27,
   "metadata": {
    "Collapsed": "false"
   },
   "outputs": [],
   "source": [
    "datadict = pd.read_csv('../data/raw/WiDS Datathon 2020 Dictionary.csv')"
   ]
  },
  {
   "cell_type": "code",
   "execution_count": 28,
   "metadata": {
    "Collapsed": "false"
   },
   "outputs": [],
   "source": [
    "train = pd.read_csv('../data/raw/training_v2.csv')"
   ]
  },
  {
   "cell_type": "code",
   "execution_count": 33,
   "metadata": {
    "Collapsed": "false"
   },
   "outputs": [
    {
     "data": {
      "text/html": [
       "<div>\n",
       "<style scoped>\n",
       "    .dataframe tbody tr th:only-of-type {\n",
       "        vertical-align: middle;\n",
       "    }\n",
       "\n",
       "    .dataframe tbody tr th {\n",
       "        vertical-align: top;\n",
       "    }\n",
       "\n",
       "    .dataframe thead th {\n",
       "        text-align: right;\n",
       "    }\n",
       "</style>\n",
       "<table border=\"1\" class=\"dataframe\">\n",
       "  <thead>\n",
       "    <tr style=\"text-align: right;\">\n",
       "      <th></th>\n",
       "      <th>Category</th>\n",
       "      <th>Variable Name</th>\n",
       "      <th>Unit of Measure</th>\n",
       "      <th>Data Type</th>\n",
       "      <th>Description</th>\n",
       "      <th>Example</th>\n",
       "    </tr>\n",
       "  </thead>\n",
       "  <tbody>\n",
       "    <tr>\n",
       "      <th>0</th>\n",
       "      <td>identifier</td>\n",
       "      <td>encounter_id</td>\n",
       "      <td>None</td>\n",
       "      <td>integer</td>\n",
       "      <td>Unique identifier associated with a patient un...</td>\n",
       "      <td>None</td>\n",
       "    </tr>\n",
       "    <tr>\n",
       "      <th>1</th>\n",
       "      <td>identifier</td>\n",
       "      <td>hospital_id</td>\n",
       "      <td>None</td>\n",
       "      <td>integer</td>\n",
       "      <td>Unique identifier associated with a hospital</td>\n",
       "      <td>None</td>\n",
       "    </tr>\n",
       "    <tr>\n",
       "      <th>2</th>\n",
       "      <td>identifier</td>\n",
       "      <td>patient_id</td>\n",
       "      <td>None</td>\n",
       "      <td>integer</td>\n",
       "      <td>Unique identifier associated with a patient</td>\n",
       "      <td>None</td>\n",
       "    </tr>\n",
       "    <tr>\n",
       "      <th>3</th>\n",
       "      <td>demographic</td>\n",
       "      <td>hospital_death</td>\n",
       "      <td>None</td>\n",
       "      <td>binary</td>\n",
       "      <td>Whether the patient died during this hospitali...</td>\n",
       "      <td>0</td>\n",
       "    </tr>\n",
       "    <tr>\n",
       "      <th>4</th>\n",
       "      <td>demographic</td>\n",
       "      <td>age</td>\n",
       "      <td>Years</td>\n",
       "      <td>numeric</td>\n",
       "      <td>The age of the patient on unit admission</td>\n",
       "      <td>None</td>\n",
       "    </tr>\n",
       "  </tbody>\n",
       "</table>\n",
       "</div>"
      ],
      "text/plain": [
       "      Category   Variable Name Unit of Measure Data Type  \\\n",
       "0   identifier    encounter_id            None   integer   \n",
       "1   identifier     hospital_id            None   integer   \n",
       "2   identifier      patient_id            None   integer   \n",
       "3  demographic  hospital_death            None    binary   \n",
       "4  demographic             age           Years   numeric   \n",
       "\n",
       "                                         Description Example  \n",
       "0  Unique identifier associated with a patient un...    None  \n",
       "1       Unique identifier associated with a hospital    None  \n",
       "2        Unique identifier associated with a patient    None  \n",
       "3  Whether the patient died during this hospitali...       0  \n",
       "4           The age of the patient on unit admission    None  "
      ]
     },
     "execution_count": 33,
     "metadata": {},
     "output_type": "execute_result"
    }
   ],
   "source": [
    "datadict.head()"
   ]
  },
  {
   "cell_type": "code",
   "execution_count": 4,
   "metadata": {
    "Collapsed": "false"
   },
   "outputs": [
    {
     "data": {
      "text/plain": [
       "array(['None', 'Years', 'kilograms/metres^2', 'centimetres', 'Days',\n",
       "       'kilograms', 'g/L', 'micromol/L', 'mmol/L', 'Fraction',\n",
       "       'Beats per minute', 'Millimetres of mercury', 'Breaths per minute',\n",
       "       'Degrees Celsius', 'Millilitres', '10^9/L', 'Percentage', 'g/dL'],\n",
       "      dtype=object)"
      ]
     },
     "execution_count": 4,
     "metadata": {},
     "output_type": "execute_result"
    }
   ],
   "source": [
    "datadict['Unit of Measure'].unique()"
   ]
  },
  {
   "cell_type": "code",
   "execution_count": 5,
   "metadata": {
    "Collapsed": "false"
   },
   "outputs": [
    {
     "data": {
      "text/plain": [
       "array(['integer', 'binary', 'numeric', 'string'], dtype=object)"
      ]
     },
     "execution_count": 5,
     "metadata": {},
     "output_type": "execute_result"
    }
   ],
   "source": [
    "datadict['Data Type'].unique()"
   ]
  },
  {
   "cell_type": "code",
   "execution_count": 6,
   "metadata": {
    "Collapsed": "false"
   },
   "outputs": [],
   "source": [
    "# check if columns are same"
   ]
  },
  {
   "cell_type": "code",
   "execution_count": 8,
   "metadata": {
    "Collapsed": "false"
   },
   "outputs": [
    {
     "data": {
      "text/plain": [
       "(186, 188, 186)"
      ]
     },
     "execution_count": 8,
     "metadata": {},
     "output_type": "execute_result"
    }
   ],
   "source": [
    "train_cols = set(train.columns)\n",
    "datadict_cols = set(datadict['Variable Name'].unique())\n",
    "\n",
    "len(train_cols), len(datadict_cols), len(train_cols.intersection(datadict_cols))"
   ]
  },
  {
   "cell_type": "code",
   "execution_count": 31,
   "metadata": {
    "Collapsed": "false"
   },
   "outputs": [
    {
     "data": {
      "text/plain": [
       "{'icu_admit_type', 'pred'}"
      ]
     },
     "execution_count": 31,
     "metadata": {},
     "output_type": "execute_result"
    }
   ],
   "source": [
    "datadict_cols.difference(train_cols)"
   ]
  },
  {
   "cell_type": "code",
   "execution_count": 10,
   "metadata": {
    "Collapsed": "false"
   },
   "outputs": [],
   "source": [
    "# they're congruent, leverage dict defs to build out typecast column lists"
   ]
  },
  {
   "cell_type": "code",
   "execution_count": 36,
   "metadata": {
    "Collapsed": "false"
   },
   "outputs": [],
   "source": [
    "continuous_cols = list(\n",
    "    list(datadict[datadict['Data Type'] == 'integer']['Variable Name'].unique())\n",
    "    + list(datadict[datadict['Data Type'] == 'numeric']['Variable Name'].unique())\n",
    ")\n",
    "categorical_cols = list(datadict[datadict['Data Type'] == 'string']['Variable Name'].unique())\n",
    "binary_cols = list(datadict[datadict['Data Type'] == 'binary']['Variable Name'].unique())\n",
    "target_cols = 'hospital_death'\n",
    "\n",
    "#continuous_cols.remove(target_cols)"
   ]
  },
  {
   "cell_type": "code",
   "execution_count": 37,
   "metadata": {
    "Collapsed": "false"
   },
   "outputs": [
    {
     "data": {
      "text/plain": [
       "'hospital_death'"
      ]
     },
     "execution_count": 37,
     "metadata": {},
     "output_type": "execute_result"
    }
   ],
   "source": [
    "target_cols"
   ]
  },
  {
   "cell_type": "code",
   "execution_count": 38,
   "metadata": {
    "Collapsed": "false"
   },
   "outputs": [
    {
     "data": {
      "text/plain": [
       "['encounter_id',\n",
       " 'hospital_id',\n",
       " 'patient_id',\n",
       " 'icu_id',\n",
       " 'gcs_eyes_apache',\n",
       " 'gcs_motor_apache',\n",
       " 'gcs_verbal_apache',\n",
       " 'age',\n",
       " 'height',\n",
       " 'pre_icu_los_days',\n",
       " 'weight',\n",
       " 'albumin_apache',\n",
       " 'bilirubin_apache',\n",
       " 'bun_apache',\n",
       " 'creatinine_apache',\n",
       " 'fio2_apache',\n",
       " 'glucose_apache',\n",
       " 'heart_rate_apache',\n",
       " 'hematocrit_apache',\n",
       " 'map_apache',\n",
       " 'paco2_apache',\n",
       " 'paco2_for_ph_apache',\n",
       " 'pao2_apache',\n",
       " 'ph_apache',\n",
       " 'resprate_apache',\n",
       " 'sodium_apache',\n",
       " 'temp_apache',\n",
       " 'urineoutput_apache',\n",
       " 'wbc_apache',\n",
       " 'd1_diasbp_invasive_max',\n",
       " 'd1_diasbp_invasive_min',\n",
       " 'd1_diasbp_max',\n",
       " 'd1_diasbp_min',\n",
       " 'd1_diasbp_noninvasive_max',\n",
       " 'd1_diasbp_noninvasive_min',\n",
       " 'd1_heartrate_max',\n",
       " 'd1_heartrate_min',\n",
       " 'd1_mbp_invasive_max',\n",
       " 'd1_mbp_invasive_min',\n",
       " 'd1_mbp_max',\n",
       " 'd1_mbp_min',\n",
       " 'd1_mbp_noninvasive_max',\n",
       " 'd1_mbp_noninvasive_min',\n",
       " 'd1_resprate_max',\n",
       " 'd1_resprate_min',\n",
       " 'd1_spo2_max',\n",
       " 'd1_spo2_min',\n",
       " 'd1_sysbp_invasive_max',\n",
       " 'd1_sysbp_invasive_min',\n",
       " 'd1_sysbp_max',\n",
       " 'd1_sysbp_min',\n",
       " 'd1_sysbp_noninvasive_max',\n",
       " 'd1_sysbp_noninvasive_min',\n",
       " 'd1_temp_max',\n",
       " 'd1_temp_min',\n",
       " 'h1_diasbp_invasive_max',\n",
       " 'h1_diasbp_invasive_min',\n",
       " 'h1_diasbp_max',\n",
       " 'h1_diasbp_min',\n",
       " 'h1_diasbp_noninvasive_max',\n",
       " 'h1_diasbp_noninvasive_min',\n",
       " 'h1_heartrate_max',\n",
       " 'h1_heartrate_min',\n",
       " 'h1_mbp_invasive_max',\n",
       " 'h1_mbp_invasive_min',\n",
       " 'h1_mbp_max',\n",
       " 'h1_mbp_min',\n",
       " 'h1_mbp_noninvasive_max',\n",
       " 'h1_mbp_noninvasive_min',\n",
       " 'h1_resprate_max',\n",
       " 'h1_resprate_min',\n",
       " 'h1_spo2_max',\n",
       " 'h1_spo2_min',\n",
       " 'h1_sysbp_invasive_max',\n",
       " 'h1_sysbp_invasive_min',\n",
       " 'h1_sysbp_max',\n",
       " 'h1_sysbp_min',\n",
       " 'h1_sysbp_noninvasive_max',\n",
       " 'h1_sysbp_noninvasive_min',\n",
       " 'h1_temp_max',\n",
       " 'h1_temp_min',\n",
       " 'd1_albumin_max',\n",
       " 'd1_albumin_min',\n",
       " 'd1_bilirubin_max',\n",
       " 'd1_bilirubin_min',\n",
       " 'd1_bun_max',\n",
       " 'd1_bun_min',\n",
       " 'd1_calcium_max',\n",
       " 'd1_calcium_min',\n",
       " 'd1_creatinine_max',\n",
       " 'd1_creatinine_min',\n",
       " 'd1_glucose_max',\n",
       " 'd1_glucose_min',\n",
       " 'd1_hco3_max',\n",
       " 'd1_hco3_min',\n",
       " 'd1_hemaglobin_max',\n",
       " 'd1_hemaglobin_min',\n",
       " 'd1_hematocrit_max',\n",
       " 'd1_hematocrit_min',\n",
       " 'd1_inr_max',\n",
       " 'd1_inr_min',\n",
       " 'd1_lactate_max',\n",
       " 'd1_lactate_min',\n",
       " 'd1_platelets_max',\n",
       " 'd1_platelets_min',\n",
       " 'd1_potassium_max',\n",
       " 'd1_potassium_min',\n",
       " 'd1_sodium_max',\n",
       " 'd1_sodium_min',\n",
       " 'd1_wbc_max',\n",
       " 'd1_wbc_min',\n",
       " 'h1_albumin_max',\n",
       " 'h1_albumin_min',\n",
       " 'h1_bilirubin_max',\n",
       " 'h1_bilirubin_min',\n",
       " 'h1_bun_max',\n",
       " 'h1_bun_min',\n",
       " 'h1_calcium_max',\n",
       " 'h1_calcium_min',\n",
       " 'h1_creatinine_max',\n",
       " 'h1_creatinine_min',\n",
       " 'h1_glucose_max',\n",
       " 'h1_glucose_min',\n",
       " 'h1_hco3_max',\n",
       " 'h1_hco3_min',\n",
       " 'h1_hemaglobin_max',\n",
       " 'h1_hemaglobin_min',\n",
       " 'h1_hematocrit_max',\n",
       " 'h1_hematocrit_min',\n",
       " 'h1_inr_max',\n",
       " 'h1_inr_min',\n",
       " 'h1_lactate_max',\n",
       " 'h1_lactate_min',\n",
       " 'h1_platelets_max',\n",
       " 'h1_platelets_min',\n",
       " 'h1_potassium_max',\n",
       " 'h1_potassium_min',\n",
       " 'h1_sodium_max',\n",
       " 'h1_sodium_min',\n",
       " 'h1_wbc_max',\n",
       " 'h1_wbc_min',\n",
       " 'd1_arterial_pco2_max',\n",
       " 'd1_arterial_pco2_min',\n",
       " 'd1_arterial_ph_max',\n",
       " 'd1_arterial_ph_min',\n",
       " 'd1_arterial_po2_max',\n",
       " 'd1_arterial_po2_min',\n",
       " 'd1_pao2fio2ratio_max',\n",
       " 'd1_pao2fio2ratio_min',\n",
       " 'h1_arterial_pco2_max',\n",
       " 'h1_arterial_pco2_min',\n",
       " 'h1_arterial_ph_max',\n",
       " 'h1_arterial_ph_min',\n",
       " 'h1_arterial_po2_max',\n",
       " 'h1_arterial_po2_min',\n",
       " 'h1_pao2fio2ratio_max',\n",
       " 'h1_pao2fio2ratio_min',\n",
       " 'apache_4a_hospital_death_prob',\n",
       " 'apache_4a_icu_death_prob',\n",
       " 'pred']"
      ]
     },
     "execution_count": 38,
     "metadata": {},
     "output_type": "execute_result"
    }
   ],
   "source": [
    "continuous_cols"
   ]
  },
  {
   "cell_type": "code",
   "execution_count": 24,
   "metadata": {
    "Collapsed": "false"
   },
   "outputs": [
    {
     "data": {
      "text/plain": [
       "['bmi',\n",
       " 'ethnicity',\n",
       " 'gender',\n",
       " 'hospital_admit_source',\n",
       " 'icu_admit_source',\n",
       " 'icu_admit_type',\n",
       " 'icu_stay_type',\n",
       " 'icu_type',\n",
       " 'apache_2_diagnosis',\n",
       " 'apache_3j_diagnosis',\n",
       " 'apache_3j_bodysystem',\n",
       " 'apache_2_bodysystem']"
      ]
     },
     "execution_count": 24,
     "metadata": {},
     "output_type": "execute_result"
    }
   ],
   "source": [
    "categorical_cols"
   ]
  },
  {
   "cell_type": "code",
   "execution_count": 25,
   "metadata": {
    "Collapsed": "false"
   },
   "outputs": [
    {
     "data": {
      "text/plain": [
       "['hospital_death',\n",
       " 'elective_surgery',\n",
       " 'readmission_status',\n",
       " 'apache_post_operative',\n",
       " 'arf_apache',\n",
       " 'gcs_unable_apache',\n",
       " 'intubated_apache',\n",
       " 'ventilated_apache',\n",
       " 'aids',\n",
       " 'cirrhosis',\n",
       " 'diabetes_mellitus',\n",
       " 'hepatic_failure',\n",
       " 'immunosuppression',\n",
       " 'leukemia',\n",
       " 'lymphoma',\n",
       " 'solid_tumor_with_metastasis']"
      ]
     },
     "execution_count": 25,
     "metadata": {},
     "output_type": "execute_result"
    }
   ],
   "source": [
    "binary_cols"
   ]
  },
  {
   "cell_type": "code",
   "execution_count": null,
   "metadata": {
    "Collapsed": "false"
   },
   "outputs": [],
   "source": []
  }
 ],
 "metadata": {
  "kernelspec": {
   "display_name": "wids-datathon-2020",
   "language": "python",
   "name": "valence"
  },
  "language_info": {
   "codemirror_mode": {
    "name": "ipython",
    "version": 3
   },
   "file_extension": ".py",
   "mimetype": "text/x-python",
   "name": "python",
   "nbconvert_exporter": "python",
   "pygments_lexer": "ipython3",
   "version": "3.7.3"
  }
 },
 "nbformat": 4,
 "nbformat_minor": 4
}
