{
 "cells": [
  {
   "cell_type": "markdown",
   "metadata": {
    "Collapsed": "false"
   },
   "source": [
    "## Read Data"
   ]
  },
  {
   "cell_type": "code",
   "execution_count": 45,
   "metadata": {
    "Collapsed": "false"
   },
   "outputs": [],
   "source": [
    "import pandas as pd\n",
    "from pathlib import Path\n",
    "import pickle\n",
    "from sklearn.preprocessing import StandardScaler\n",
    "from sklearn.preprocessing import LabelEncoder\n",
    "import bisect\n",
    "import numpy as np"
   ]
  },
  {
   "cell_type": "code",
   "execution_count": 57,
   "metadata": {
    "Collapsed": "false"
   },
   "outputs": [],
   "source": [
    "input_filepath = '../data/interim/'\n",
    "output_filepath = '../data/processed/'\n",
    "\n",
    "# cols\n",
    "BINARY_COLS = Path.cwd().joinpath(input_filepath).joinpath('binary-cols.pickle')\n",
    "CATEGORICAL_COLS = Path.cwd().joinpath(input_filepath).joinpath('categorical-cols.pickle')\n",
    "CONTINUOUS_COLS = Path.cwd().joinpath(input_filepath).joinpath('continuous-cols.pickle')\n",
    "TARGET_COL = Path.cwd().joinpath(input_filepath).joinpath('target-col.pickle')\n",
    "\n",
    "BINARY_COLS_OUT = Path.cwd().joinpath(output_filepath).joinpath('binary-cols.pickle')\n",
    "CATEGORICAL_COLS_OUT = Path.cwd().joinpath(output_filepath).joinpath('categorical-cols.pickle')\n",
    "CONTINUOUS_COLS_OUT = Path.cwd().joinpath(output_filepath).joinpath('continuous-cols.pickle')\n",
    "TARGET_COL_OUT = Path.cwd().joinpath(output_filepath).joinpath('target-col.pickle')\n",
    "\n",
    "# data\n",
    "TRAIN_CSV = Path.cwd().joinpath(input_filepath).joinpath('train.csv')\n",
    "VAL_CSV = Path.cwd().joinpath(input_filepath).joinpath('val.csv')\n",
    "TEST_CSV = Path.cwd().joinpath(input_filepath).joinpath('test.csv')\n",
    "\n",
    "TRAIN_CSV_OUT = Path.cwd().joinpath(output_filepath).joinpath('train.csv')\n",
    "VAL_CSV_OUT = Path.cwd().joinpath(output_filepath).joinpath('val.csv')\n",
    "TEST_CSV_OUT = Path.cwd().joinpath(output_filepath).joinpath('test.csv')\n",
    "\n",
    "# metadata\n",
    "BINARY_ENCODERS = Path.cwd().joinpath(output_filepath).joinpath('binary-encoders.pickle')\n",
    "CATEGORICAL_ENCODERS = Path.cwd().joinpath(output_filepath).joinpath('categorical-encoders.pickle')\n",
    "TARGET_ENCODERS = Path.cwd().joinpath(output_filepath).joinpath('target-encoders.pickle')\n",
    "CONTINUOUS_SCALERS = Path.cwd().joinpath(output_filepath).joinpath('continuous-scalers.pickle')"
   ]
  },
  {
   "cell_type": "code",
   "execution_count": 34,
   "metadata": {
    "Collapsed": "false"
   },
   "outputs": [],
   "source": [
    "def read_obj(path):\n",
    "    with open(path, 'rb') as f:\n",
    "        return pickle.load(f)\n",
    "    return None"
   ]
  },
  {
   "cell_type": "code",
   "execution_count": 35,
   "metadata": {
    "Collapsed": "false"
   },
   "outputs": [],
   "source": [
    "binary_cols = read_obj(BINARY_COLS)\n",
    "categorical_cols = read_obj(CATEGORICAL_COLS)\n",
    "continuous_cols = read_obj(CONTINUOUS_COLS)\n",
    "target_col = read_obj(TARGET_COL)\n",
    "\n",
    "train = pd.read_csv(TRAIN_CSV)\n",
    "val = pd.read_csv(VAL_CSV)\n",
    "test = pd.read_csv(TEST_CSV)"
   ]
  },
  {
   "cell_type": "markdown",
   "metadata": {
    "Collapsed": "false"
   },
   "source": [
    "## Typify"
   ]
  },
  {
   "cell_type": "code",
   "execution_count": 36,
   "metadata": {
    "Collapsed": "false"
   },
   "outputs": [],
   "source": [
    "train[continuous_cols] = train[continuous_cols].astype('float32')\n",
    "val[continuous_cols] = val[continuous_cols].astype('float32')\n",
    "test[continuous_cols] = test[continuous_cols].astype('float32')"
   ]
  },
  {
   "cell_type": "code",
   "execution_count": 37,
   "metadata": {
    "Collapsed": "false"
   },
   "outputs": [],
   "source": [
    "train[categorical_cols] = train[categorical_cols].astype('str').astype('category')\n",
    "val[categorical_cols] = val[categorical_cols].astype('str').astype('category')\n",
    "test[categorical_cols] = test[categorical_cols].astype('str').astype('category')"
   ]
  },
  {
   "cell_type": "code",
   "execution_count": 38,
   "metadata": {
    "Collapsed": "false"
   },
   "outputs": [],
   "source": [
    "train[binary_cols] = train[binary_cols].astype('str').astype('category')\n",
    "val[binary_cols] = val[binary_cols].astype('str').astype('category')\n",
    "test[binary_cols] = test[binary_cols].astype('str').astype('category')"
   ]
  },
  {
   "cell_type": "code",
   "execution_count": 39,
   "metadata": {
    "Collapsed": "false"
   },
   "outputs": [],
   "source": [
    "train[target_col] = train[target_col].astype('str').astype('category')\n",
    "val[target_col] = val[target_col].astype('str').astype('category')\n",
    "test[target_col] = test[target_col].astype('str').astype('category')"
   ]
  },
  {
   "cell_type": "markdown",
   "metadata": {
    "Collapsed": "false"
   },
   "source": [
    "## Fill Data"
   ]
  },
  {
   "cell_type": "code",
   "execution_count": 40,
   "metadata": {
    "Collapsed": "false"
   },
   "outputs": [],
   "source": [
    "train[continuous_cols] = train[continuous_cols].fillna(0)\n",
    "val[continuous_cols] = val[continuous_cols].fillna(0)\n",
    "test[continuous_cols] = test[continuous_cols].fillna(0)"
   ]
  },
  {
   "cell_type": "markdown",
   "metadata": {
    "Collapsed": "false"
   },
   "source": [
    "## Normalize"
   ]
  },
  {
   "cell_type": "code",
   "execution_count": 41,
   "metadata": {
    "Collapsed": "false"
   },
   "outputs": [],
   "source": [
    "def normalize(df, cols, scalers=None):\n",
    "    if None is scalers:\n",
    "        scalers = dict()\n",
    "        \n",
    "    for col in cols:\n",
    "        if col not in scalers:\n",
    "            scalers[col] = StandardScaler(with_mean=True, with_std=True)\n",
    "            scalers[col].fit(df[col].values.reshape(-1,1))\n",
    "        \n",
    "        scaler = scalers[col]\n",
    "        df[col] = scaler.transform(df[col].values.reshape(-1,1))\n",
    "    return df, scalers"
   ]
  },
  {
   "cell_type": "code",
   "execution_count": 42,
   "metadata": {
    "Collapsed": "false"
   },
   "outputs": [],
   "source": [
    "train, scalers = normalize(train, continuous_cols)\n",
    "val, _ = normalize(val, continuous_cols, scalers)\n",
    "test, _ = normalize(test, continuous_cols, scalers)"
   ]
  },
  {
   "cell_type": "code",
   "execution_count": 49,
   "metadata": {
    "Collapsed": "false"
   },
   "outputs": [
    {
     "data": {
      "text/html": [
       "<div>\n",
       "<style scoped>\n",
       "    .dataframe tbody tr th:only-of-type {\n",
       "        vertical-align: middle;\n",
       "    }\n",
       "\n",
       "    .dataframe tbody tr th {\n",
       "        vertical-align: top;\n",
       "    }\n",
       "\n",
       "    .dataframe thead th {\n",
       "        text-align: right;\n",
       "    }\n",
       "</style>\n",
       "<table border=\"1\" class=\"dataframe\">\n",
       "  <thead>\n",
       "    <tr style=\"text-align: right;\">\n",
       "      <th></th>\n",
       "      <th>encounter_id</th>\n",
       "      <th>hospital_id</th>\n",
       "      <th>patient_id</th>\n",
       "      <th>icu_id</th>\n",
       "      <th>gcs_eyes_apache</th>\n",
       "      <th>gcs_motor_apache</th>\n",
       "      <th>gcs_verbal_apache</th>\n",
       "      <th>age</th>\n",
       "      <th>height</th>\n",
       "      <th>pre_icu_los_days</th>\n",
       "      <th>...</th>\n",
       "      <th>h1_arterial_pco2_max</th>\n",
       "      <th>h1_arterial_pco2_min</th>\n",
       "      <th>h1_arterial_ph_max</th>\n",
       "      <th>h1_arterial_ph_min</th>\n",
       "      <th>h1_arterial_po2_max</th>\n",
       "      <th>h1_arterial_po2_min</th>\n",
       "      <th>h1_pao2fio2ratio_max</th>\n",
       "      <th>h1_pao2fio2ratio_min</th>\n",
       "      <th>apache_4a_hospital_death_prob</th>\n",
       "      <th>apache_4a_icu_death_prob</th>\n",
       "    </tr>\n",
       "  </thead>\n",
       "  <tbody>\n",
       "    <tr>\n",
       "      <th>0</th>\n",
       "      <td>1.270796</td>\n",
       "      <td>0.626662</td>\n",
       "      <td>-1.004430</td>\n",
       "      <td>0.538333</td>\n",
       "      <td>-0.369069</td>\n",
       "      <td>0.429796</td>\n",
       "      <td>0.053745</td>\n",
       "      <td>0.932812</td>\n",
       "      <td>0.473337</td>\n",
       "      <td>2.871473</td>\n",
       "      <td>...</td>\n",
       "      <td>-0.429592</td>\n",
       "      <td>-0.429957</td>\n",
       "      <td>-0.448565</td>\n",
       "      <td>-0.448563</td>\n",
       "      <td>-0.363765</td>\n",
       "      <td>-0.365583</td>\n",
       "      <td>-0.330597</td>\n",
       "      <td>-0.32983</td>\n",
       "      <td>0.254966</td>\n",
       "      <td>-0.002326</td>\n",
       "    </tr>\n",
       "    <tr>\n",
       "      <th>1</th>\n",
       "      <td>0.017563</td>\n",
       "      <td>-0.868366</td>\n",
       "      <td>1.594456</td>\n",
       "      <td>0.826916</td>\n",
       "      <td>-0.369069</td>\n",
       "      <td>0.429796</td>\n",
       "      <td>0.661245</td>\n",
       "      <td>0.216715</td>\n",
       "      <td>0.796378</td>\n",
       "      <td>10.234639</td>\n",
       "      <td>...</td>\n",
       "      <td>-0.429592</td>\n",
       "      <td>-0.429957</td>\n",
       "      <td>-0.448565</td>\n",
       "      <td>-0.448563</td>\n",
       "      <td>-0.363765</td>\n",
       "      <td>-0.365583</td>\n",
       "      <td>-0.330597</td>\n",
       "      <td>-0.32983</td>\n",
       "      <td>1.179493</td>\n",
       "      <td>0.479394</td>\n",
       "    </tr>\n",
       "    <tr>\n",
       "      <th>2</th>\n",
       "      <td>1.287226</td>\n",
       "      <td>1.040180</td>\n",
       "      <td>0.665916</td>\n",
       "      <td>-0.458589</td>\n",
       "      <td>0.570437</td>\n",
       "      <td>0.429796</td>\n",
       "      <td>0.661245</td>\n",
       "      <td>-1.167739</td>\n",
       "      <td>-0.312439</td>\n",
       "      <td>-0.269217</td>\n",
       "      <td>...</td>\n",
       "      <td>-0.429592</td>\n",
       "      <td>-0.429957</td>\n",
       "      <td>-0.448565</td>\n",
       "      <td>-0.448563</td>\n",
       "      <td>-0.363765</td>\n",
       "      <td>-0.365583</td>\n",
       "      <td>-0.330597</td>\n",
       "      <td>-0.32983</td>\n",
       "      <td>-0.333369</td>\n",
       "      <td>-0.195014</td>\n",
       "    </tr>\n",
       "    <tr>\n",
       "      <th>3</th>\n",
       "      <td>-1.112161</td>\n",
       "      <td>1.405985</td>\n",
       "      <td>1.051252</td>\n",
       "      <td>0.372180</td>\n",
       "      <td>-0.369069</td>\n",
       "      <td>0.429796</td>\n",
       "      <td>0.053745</td>\n",
       "      <td>-0.117463</td>\n",
       "      <td>0.036795</td>\n",
       "      <td>-0.286198</td>\n",
       "      <td>...</td>\n",
       "      <td>-0.429592</td>\n",
       "      <td>-0.429957</td>\n",
       "      <td>-0.448565</td>\n",
       "      <td>-0.448563</td>\n",
       "      <td>-0.363765</td>\n",
       "      <td>-0.365583</td>\n",
       "      <td>-0.330597</td>\n",
       "      <td>-0.32983</td>\n",
       "      <td>-0.039201</td>\n",
       "      <td>-0.050498</td>\n",
       "    </tr>\n",
       "    <tr>\n",
       "      <th>4</th>\n",
       "      <td>-0.788018</td>\n",
       "      <td>-0.216279</td>\n",
       "      <td>1.345416</td>\n",
       "      <td>0.866268</td>\n",
       "      <td>0.570437</td>\n",
       "      <td>0.429796</td>\n",
       "      <td>0.661245</td>\n",
       "      <td>-1.597397</td>\n",
       "      <td>0.464606</td>\n",
       "      <td>-0.045956</td>\n",
       "      <td>...</td>\n",
       "      <td>-0.429592</td>\n",
       "      <td>-0.429957</td>\n",
       "      <td>-0.448565</td>\n",
       "      <td>-0.448563</td>\n",
       "      <td>-0.363765</td>\n",
       "      <td>-0.365583</td>\n",
       "      <td>-0.330597</td>\n",
       "      <td>-0.32983</td>\n",
       "      <td>-0.333369</td>\n",
       "      <td>-0.195014</td>\n",
       "    </tr>\n",
       "  </tbody>\n",
       "</table>\n",
       "<p>5 rows × 159 columns</p>\n",
       "</div>"
      ],
      "text/plain": [
       "   encounter_id  hospital_id  patient_id    icu_id  gcs_eyes_apache  \\\n",
       "0      1.270796     0.626662   -1.004430  0.538333        -0.369069   \n",
       "1      0.017563    -0.868366    1.594456  0.826916        -0.369069   \n",
       "2      1.287226     1.040180    0.665916 -0.458589         0.570437   \n",
       "3     -1.112161     1.405985    1.051252  0.372180        -0.369069   \n",
       "4     -0.788018    -0.216279    1.345416  0.866268         0.570437   \n",
       "\n",
       "   gcs_motor_apache  gcs_verbal_apache       age    height  pre_icu_los_days  \\\n",
       "0          0.429796           0.053745  0.932812  0.473337          2.871473   \n",
       "1          0.429796           0.661245  0.216715  0.796378         10.234639   \n",
       "2          0.429796           0.661245 -1.167739 -0.312439         -0.269217   \n",
       "3          0.429796           0.053745 -0.117463  0.036795         -0.286198   \n",
       "4          0.429796           0.661245 -1.597397  0.464606         -0.045956   \n",
       "\n",
       "   ...  h1_arterial_pco2_max  h1_arterial_pco2_min  h1_arterial_ph_max  \\\n",
       "0  ...             -0.429592             -0.429957           -0.448565   \n",
       "1  ...             -0.429592             -0.429957           -0.448565   \n",
       "2  ...             -0.429592             -0.429957           -0.448565   \n",
       "3  ...             -0.429592             -0.429957           -0.448565   \n",
       "4  ...             -0.429592             -0.429957           -0.448565   \n",
       "\n",
       "   h1_arterial_ph_min  h1_arterial_po2_max  h1_arterial_po2_min  \\\n",
       "0           -0.448563            -0.363765            -0.365583   \n",
       "1           -0.448563            -0.363765            -0.365583   \n",
       "2           -0.448563            -0.363765            -0.365583   \n",
       "3           -0.448563            -0.363765            -0.365583   \n",
       "4           -0.448563            -0.363765            -0.365583   \n",
       "\n",
       "   h1_pao2fio2ratio_max  h1_pao2fio2ratio_min  apache_4a_hospital_death_prob  \\\n",
       "0             -0.330597              -0.32983                       0.254966   \n",
       "1             -0.330597              -0.32983                       1.179493   \n",
       "2             -0.330597              -0.32983                      -0.333369   \n",
       "3             -0.330597              -0.32983                      -0.039201   \n",
       "4             -0.330597              -0.32983                      -0.333369   \n",
       "\n",
       "   apache_4a_icu_death_prob  \n",
       "0                 -0.002326  \n",
       "1                  0.479394  \n",
       "2                 -0.195014  \n",
       "3                 -0.050498  \n",
       "4                 -0.195014  \n",
       "\n",
       "[5 rows x 159 columns]"
      ]
     },
     "execution_count": 49,
     "metadata": {},
     "output_type": "execute_result"
    }
   ],
   "source": [
    "train[continuous_cols].head()"
   ]
  },
  {
   "cell_type": "markdown",
   "metadata": {
    "Collapsed": "false"
   },
   "source": [
    "## Label Encode"
   ]
  },
  {
   "cell_type": "code",
   "execution_count": 46,
   "metadata": {
    "Collapsed": "false"
   },
   "outputs": [],
   "source": [
    "def labelencode(df, cols, encoders=None, unknown_value='UNK'):\n",
    "    if None is encoders:\n",
    "        encoders = dict()\n",
    "        \n",
    "    for col in cols:\n",
    "        if col not in encoders:\n",
    "            le = LabelEncoder()\n",
    "            le.fit(df[col].values)\n",
    "            \n",
    "            # add unknown val to cats\n",
    "            cats = le.classes_.tolist()\n",
    "            bisect.insort_left(cats, unknown_value)\n",
    "            \n",
    "            # redefine cats on le\n",
    "            le.classes_ = np.asarray(cats)\n",
    "\n",
    "            encoders[col] = le\n",
    "        \n",
    "        le = encoders[col]\n",
    "        df[col] = df[col].map(lambda x: unknown_value if x not in le.classes_ else x)\n",
    "        df[col] = le.transform(df[col].values)\n",
    "        \n",
    "    return df, encoders"
   ]
  },
  {
   "cell_type": "code",
   "execution_count": 47,
   "metadata": {
    "Collapsed": "false"
   },
   "outputs": [],
   "source": [
    "train, label_encoders = labelencode(train, categorical_cols)\n",
    "val, _ = labelencode(val, categorical_cols, label_encoders)\n",
    "test, _ = labelencode(test, categorical_cols, label_encoders)"
   ]
  },
  {
   "cell_type": "code",
   "execution_count": 48,
   "metadata": {
    "Collapsed": "false"
   },
   "outputs": [
    {
     "data": {
      "text/html": [
       "<div>\n",
       "<style scoped>\n",
       "    .dataframe tbody tr th:only-of-type {\n",
       "        vertical-align: middle;\n",
       "    }\n",
       "\n",
       "    .dataframe tbody tr th {\n",
       "        vertical-align: top;\n",
       "    }\n",
       "\n",
       "    .dataframe thead th {\n",
       "        text-align: right;\n",
       "    }\n",
       "</style>\n",
       "<table border=\"1\" class=\"dataframe\">\n",
       "  <thead>\n",
       "    <tr style=\"text-align: right;\">\n",
       "      <th></th>\n",
       "      <th>bmi</th>\n",
       "      <th>ethnicity</th>\n",
       "      <th>gender</th>\n",
       "      <th>hospital_admit_source</th>\n",
       "      <th>icu_admit_source</th>\n",
       "      <th>icu_stay_type</th>\n",
       "      <th>icu_type</th>\n",
       "      <th>apache_2_diagnosis</th>\n",
       "      <th>apache_3j_diagnosis</th>\n",
       "      <th>apache_3j_bodysystem</th>\n",
       "      <th>apache_2_bodysystem</th>\n",
       "    </tr>\n",
       "  </thead>\n",
       "  <tbody>\n",
       "    <tr>\n",
       "      <th>0</th>\n",
       "      <td>15514</td>\n",
       "      <td>0</td>\n",
       "      <td>1</td>\n",
       "      <td>12</td>\n",
       "      <td>2</td>\n",
       "      <td>1</td>\n",
       "      <td>3</td>\n",
       "      <td>43</td>\n",
       "      <td>226</td>\n",
       "      <td>6</td>\n",
       "      <td>10</td>\n",
       "    </tr>\n",
       "    <tr>\n",
       "      <th>1</th>\n",
       "      <td>931</td>\n",
       "      <td>2</td>\n",
       "      <td>1</td>\n",
       "      <td>16</td>\n",
       "      <td>1</td>\n",
       "      <td>1</td>\n",
       "      <td>4</td>\n",
       "      <td>37</td>\n",
       "      <td>34</td>\n",
       "      <td>0</td>\n",
       "      <td>0</td>\n",
       "    </tr>\n",
       "    <tr>\n",
       "      <th>2</th>\n",
       "      <td>18745</td>\n",
       "      <td>2</td>\n",
       "      <td>0</td>\n",
       "      <td>8</td>\n",
       "      <td>2</td>\n",
       "      <td>1</td>\n",
       "      <td>1</td>\n",
       "      <td>37</td>\n",
       "      <td>76</td>\n",
       "      <td>0</td>\n",
       "      <td>0</td>\n",
       "    </tr>\n",
       "    <tr>\n",
       "      <th>3</th>\n",
       "      <td>1304</td>\n",
       "      <td>0</td>\n",
       "      <td>0</td>\n",
       "      <td>3</td>\n",
       "      <td>0</td>\n",
       "      <td>1</td>\n",
       "      <td>6</td>\n",
       "      <td>36</td>\n",
       "      <td>296</td>\n",
       "      <td>7</td>\n",
       "      <td>4</td>\n",
       "    </tr>\n",
       "    <tr>\n",
       "      <th>4</th>\n",
       "      <td>30520</td>\n",
       "      <td>5</td>\n",
       "      <td>1</td>\n",
       "      <td>16</td>\n",
       "      <td>2</td>\n",
       "      <td>1</td>\n",
       "      <td>5</td>\n",
       "      <td>30</td>\n",
       "      <td>114</td>\n",
       "      <td>1</td>\n",
       "      <td>1</td>\n",
       "    </tr>\n",
       "  </tbody>\n",
       "</table>\n",
       "</div>"
      ],
      "text/plain": [
       "     bmi  ethnicity  gender  hospital_admit_source  icu_admit_source  \\\n",
       "0  15514          0       1                     12                 2   \n",
       "1    931          2       1                     16                 1   \n",
       "2  18745          2       0                      8                 2   \n",
       "3   1304          0       0                      3                 0   \n",
       "4  30520          5       1                     16                 2   \n",
       "\n",
       "   icu_stay_type  icu_type  apache_2_diagnosis  apache_3j_diagnosis  \\\n",
       "0              1         3                  43                  226   \n",
       "1              1         4                  37                   34   \n",
       "2              1         1                  37                   76   \n",
       "3              1         6                  36                  296   \n",
       "4              1         5                  30                  114   \n",
       "\n",
       "   apache_3j_bodysystem  apache_2_bodysystem  \n",
       "0                     6                   10  \n",
       "1                     0                    0  \n",
       "2                     0                    0  \n",
       "3                     7                    4  \n",
       "4                     1                    1  "
      ]
     },
     "execution_count": 48,
     "metadata": {},
     "output_type": "execute_result"
    }
   ],
   "source": [
    "train[categorical_cols].head()"
   ]
  },
  {
   "cell_type": "markdown",
   "metadata": {
    "Collapsed": "false"
   },
   "source": [
    "## One-Hot Encode"
   ]
  },
  {
   "cell_type": "code",
   "execution_count": 51,
   "metadata": {
    "Collapsed": "false"
   },
   "outputs": [],
   "source": [
    "# todo"
   ]
  },
  {
   "cell_type": "code",
   "execution_count": 52,
   "metadata": {
    "Collapsed": "false"
   },
   "outputs": [],
   "source": [
    "train, ohe_encoders = labelencode(train, binary_cols)\n",
    "val, _ = labelencode(val, binary_cols, ohe_encoders)\n",
    "test, _ = labelencode(test, binary_cols, ohe_encoders)"
   ]
  },
  {
   "cell_type": "code",
   "execution_count": 53,
   "metadata": {
    "Collapsed": "false"
   },
   "outputs": [
    {
     "data": {
      "text/html": [
       "<div>\n",
       "<style scoped>\n",
       "    .dataframe tbody tr th:only-of-type {\n",
       "        vertical-align: middle;\n",
       "    }\n",
       "\n",
       "    .dataframe tbody tr th {\n",
       "        vertical-align: top;\n",
       "    }\n",
       "\n",
       "    .dataframe thead th {\n",
       "        text-align: right;\n",
       "    }\n",
       "</style>\n",
       "<table border=\"1\" class=\"dataframe\">\n",
       "  <thead>\n",
       "    <tr style=\"text-align: right;\">\n",
       "      <th></th>\n",
       "      <th>elective_surgery</th>\n",
       "      <th>readmission_status</th>\n",
       "      <th>apache_post_operative</th>\n",
       "      <th>arf_apache</th>\n",
       "      <th>gcs_unable_apache</th>\n",
       "      <th>intubated_apache</th>\n",
       "      <th>ventilated_apache</th>\n",
       "      <th>aids</th>\n",
       "      <th>cirrhosis</th>\n",
       "      <th>diabetes_mellitus</th>\n",
       "      <th>hepatic_failure</th>\n",
       "      <th>immunosuppression</th>\n",
       "      <th>leukemia</th>\n",
       "      <th>lymphoma</th>\n",
       "      <th>solid_tumor_with_metastasis</th>\n",
       "    </tr>\n",
       "  </thead>\n",
       "  <tbody>\n",
       "    <tr>\n",
       "      <th>0</th>\n",
       "      <td>1</td>\n",
       "      <td>0</td>\n",
       "      <td>1</td>\n",
       "      <td>0</td>\n",
       "      <td>0</td>\n",
       "      <td>0</td>\n",
       "      <td>0</td>\n",
       "      <td>0</td>\n",
       "      <td>0</td>\n",
       "      <td>1</td>\n",
       "      <td>0</td>\n",
       "      <td>0</td>\n",
       "      <td>0</td>\n",
       "      <td>0</td>\n",
       "      <td>0</td>\n",
       "    </tr>\n",
       "    <tr>\n",
       "      <th>1</th>\n",
       "      <td>0</td>\n",
       "      <td>0</td>\n",
       "      <td>0</td>\n",
       "      <td>1</td>\n",
       "      <td>0</td>\n",
       "      <td>1</td>\n",
       "      <td>1</td>\n",
       "      <td>0</td>\n",
       "      <td>0</td>\n",
       "      <td>0</td>\n",
       "      <td>0</td>\n",
       "      <td>0</td>\n",
       "      <td>0</td>\n",
       "      <td>0</td>\n",
       "      <td>0</td>\n",
       "    </tr>\n",
       "    <tr>\n",
       "      <th>2</th>\n",
       "      <td>1</td>\n",
       "      <td>0</td>\n",
       "      <td>1</td>\n",
       "      <td>0</td>\n",
       "      <td>0</td>\n",
       "      <td>0</td>\n",
       "      <td>0</td>\n",
       "      <td>0</td>\n",
       "      <td>0</td>\n",
       "      <td>0</td>\n",
       "      <td>0</td>\n",
       "      <td>0</td>\n",
       "      <td>0</td>\n",
       "      <td>0</td>\n",
       "      <td>0</td>\n",
       "    </tr>\n",
       "    <tr>\n",
       "      <th>3</th>\n",
       "      <td>0</td>\n",
       "      <td>0</td>\n",
       "      <td>0</td>\n",
       "      <td>0</td>\n",
       "      <td>0</td>\n",
       "      <td>0</td>\n",
       "      <td>0</td>\n",
       "      <td>0</td>\n",
       "      <td>0</td>\n",
       "      <td>0</td>\n",
       "      <td>0</td>\n",
       "      <td>0</td>\n",
       "      <td>0</td>\n",
       "      <td>0</td>\n",
       "      <td>0</td>\n",
       "    </tr>\n",
       "    <tr>\n",
       "      <th>4</th>\n",
       "      <td>0</td>\n",
       "      <td>0</td>\n",
       "      <td>1</td>\n",
       "      <td>0</td>\n",
       "      <td>0</td>\n",
       "      <td>1</td>\n",
       "      <td>1</td>\n",
       "      <td>0</td>\n",
       "      <td>0</td>\n",
       "      <td>0</td>\n",
       "      <td>0</td>\n",
       "      <td>0</td>\n",
       "      <td>0</td>\n",
       "      <td>0</td>\n",
       "      <td>0</td>\n",
       "    </tr>\n",
       "  </tbody>\n",
       "</table>\n",
       "</div>"
      ],
      "text/plain": [
       "   elective_surgery  readmission_status  apache_post_operative  arf_apache  \\\n",
       "0                 1                   0                      1           0   \n",
       "1                 0                   0                      0           1   \n",
       "2                 1                   0                      1           0   \n",
       "3                 0                   0                      0           0   \n",
       "4                 0                   0                      1           0   \n",
       "\n",
       "   gcs_unable_apache  intubated_apache  ventilated_apache  aids  cirrhosis  \\\n",
       "0                  0                 0                  0     0          0   \n",
       "1                  0                 1                  1     0          0   \n",
       "2                  0                 0                  0     0          0   \n",
       "3                  0                 0                  0     0          0   \n",
       "4                  0                 1                  1     0          0   \n",
       "\n",
       "   diabetes_mellitus  hepatic_failure  immunosuppression  leukemia  lymphoma  \\\n",
       "0                  1                0                  0         0         0   \n",
       "1                  0                0                  0         0         0   \n",
       "2                  0                0                  0         0         0   \n",
       "3                  0                0                  0         0         0   \n",
       "4                  0                0                  0         0         0   \n",
       "\n",
       "   solid_tumor_with_metastasis  \n",
       "0                            0  \n",
       "1                            0  \n",
       "2                            0  \n",
       "3                            0  \n",
       "4                            0  "
      ]
     },
     "execution_count": 53,
     "metadata": {},
     "output_type": "execute_result"
    }
   ],
   "source": [
    "train[binary_cols].head()"
   ]
  },
  {
   "cell_type": "markdown",
   "metadata": {
    "Collapsed": "false"
   },
   "source": [
    "## Label Encode Targets"
   ]
  },
  {
   "cell_type": "code",
   "execution_count": 54,
   "metadata": {
    "Collapsed": "false"
   },
   "outputs": [],
   "source": [
    "train, target_encoders = labelencode(train, [target_col])\n",
    "val, _ = labelencode(val, [target_col], target_encoders)\n",
    "test, _ = labelencode(test, [target_col], target_encoders)"
   ]
  },
  {
   "cell_type": "code",
   "execution_count": 55,
   "metadata": {
    "Collapsed": "false"
   },
   "outputs": [
    {
     "data": {
      "text/plain": [
       "0    0\n",
       "1    0\n",
       "2    0\n",
       "3    0\n",
       "4    0\n",
       "Name: hospital_death, dtype: int64"
      ]
     },
     "execution_count": 55,
     "metadata": {},
     "output_type": "execute_result"
    }
   ],
   "source": [
    "train[target_col].head()"
   ]
  },
  {
   "cell_type": "markdown",
   "metadata": {
    "Collapsed": "false"
   },
   "source": [
    "## Persist Data and Metadata"
   ]
  },
  {
   "cell_type": "code",
   "execution_count": 59,
   "metadata": {
    "Collapsed": "false"
   },
   "outputs": [],
   "source": [
    "def pickle_obj(path, obj):\n",
    "    with open(path, 'wb') as f:\n",
    "        pickle.dump(obj, f)"
   ]
  },
  {
   "cell_type": "code",
   "execution_count": 61,
   "metadata": {
    "Collapsed": "false"
   },
   "outputs": [],
   "source": [
    "# cols\n",
    "pickle_obj(BINARY_COLS_OUT, binary_cols)\n",
    "pickle_obj(CATEGORICAL_COLS_OUT, categorical_cols)\n",
    "pickle_obj(CONTINUOUS_COLS_OUT, continuous_cols)\n",
    "pickle_obj(TARGET_COL_OUT, target_col)\n",
    "\n",
    "# metadata\n",
    "pickle_obj(BINARY_ENCODERS, ohe_encoders)\n",
    "pickle_obj(CATEGORICAL_ENCODERS, label_encoders)\n",
    "pickle_obj(TARGET_ENCODERS, target_encoders)\n",
    "pickle_obj(CONTINUOUS_SCALERS, scalers)\n",
    "\n",
    "# data\n",
    "train.to_csv(TRAIN_CSV_OUT, index=False)\n",
    "val.to_csv(VAL_CSV_OUT, index=False)\n",
    "test.to_csv(TEST_CSV_OUT, index=False)"
   ]
  },
  {
   "cell_type": "code",
   "execution_count": null,
   "metadata": {
    "Collapsed": "false"
   },
   "outputs": [],
   "source": []
  }
 ],
 "metadata": {
  "kernelspec": {
   "display_name": "wids-datathon-2020",
   "language": "python",
   "name": "valence"
  },
  "language_info": {
   "codemirror_mode": {
    "name": "ipython",
    "version": 3
   },
   "file_extension": ".py",
   "mimetype": "text/x-python",
   "name": "python",
   "nbconvert_exporter": "python",
   "pygments_lexer": "ipython3",
   "version": "3.7.3"
  }
 },
 "nbformat": 4,
 "nbformat_minor": 4
}
