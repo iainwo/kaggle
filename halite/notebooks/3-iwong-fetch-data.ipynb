{
 "cells": [
  {
   "cell_type": "markdown",
   "metadata": {
    "Collapsed": "false"
   },
   "source": [
    "# Fetch Data"
   ]
  },
  {
   "cell_type": "markdown",
   "metadata": {
    "Collapsed": "false"
   },
   "source": [
    "__The Purpose of this notebook is to fetch data from the halite game and obtain qualitative intuitions; we want to visualize gameplay data__"
   ]
  },
  {
   "cell_type": "markdown",
   "metadata": {
    "Collapsed": "false"
   },
   "source": [
    "## Load Dependencies"
   ]
  },
  {
   "cell_type": "code",
   "execution_count": 1,
   "metadata": {
    "Collapsed": "false"
   },
   "outputs": [],
   "source": [
    "from kaggle_environments import make"
   ]
  },
  {
   "cell_type": "markdown",
   "metadata": {
    "Collapsed": "false"
   },
   "source": [
    "## Determine Datasources"
   ]
  },
  {
   "cell_type": "markdown",
   "metadata": {
    "Collapsed": "false"
   },
   "source": [
    "Where can we get the data from? Since this is a game; we can obtain information from (1) the game definition and (2) gameplay."
   ]
  },
  {
   "cell_type": "markdown",
   "metadata": {
    "Collapsed": "false"
   },
   "source": [
    "### Use Kaggle Users Dataset"
   ]
  },
  {
   "cell_type": "markdown",
   "metadata": {
    "Collapsed": "false"
   },
   "source": [
    "A user David1013 wrote a scraper and has iteratively pulled data into a Kaggle Dataset here: https://www.kaggle.com/david1013/halite-top-games"
   ]
  },
  {
   "cell_type": "markdown",
   "metadata": {
    "Collapsed": "false"
   },
   "source": [
    "You can find his scraper here: https://www.kaggle.com/david1013/halite-game-scraper/"
   ]
  },
  {
   "cell_type": "markdown",
   "metadata": {
    "Collapsed": "true"
   },
   "source": [
    "### Game Definition"
   ]
  },
  {
   "cell_type": "code",
   "execution_count": 2,
   "metadata": {
    "Collapsed": "false"
   },
   "outputs": [],
   "source": [
    "env = make(\"halite\", debug=True)"
   ]
  },
  {
   "cell_type": "code",
   "execution_count": 3,
   "metadata": {
    "Collapsed": "false"
   },
   "outputs": [
    {
     "data": {
      "text/plain": [
       "{'description': 'Actions taken per asset (ship or shipyard).',\n",
       " 'type': 'object',\n",
       " 'additionalProperties': {'description': 'Key: uid of the asset. Value: action. SPAWN for shipyards, remaining for ships.',\n",
       "  'enum': ['CONVERT', 'SPAWN', 'NORTH', 'SOUTH', 'EAST', 'WEST']},\n",
       " 'default': 0}"
      ]
     },
     "execution_count": 3,
     "metadata": {},
     "output_type": "execute_result"
    }
   ],
   "source": [
    "env.specification.action"
   ]
  },
  {
   "cell_type": "code",
   "execution_count": 4,
   "metadata": {
    "Collapsed": "false"
   },
   "outputs": [
    {
     "data": {
      "text/plain": [
       "{'halite': {'description': 'Serialized list of available halite per cell on the board.',\n",
       "  'type': 'array',\n",
       "  'shared': True},\n",
       " 'players': {'description': 'List of players and their assets.',\n",
       "  'type': 'array',\n",
       "  'shared': True},\n",
       " 'player': {'description': \"The current agent's player index.\",\n",
       "  'type': 'integer',\n",
       "  'defaults': [0, 1, 2, 3]},\n",
       " 'step': {'description': 'The current step index within the episode.',\n",
       "  'type': 'integer',\n",
       "  'shared': True,\n",
       "  'minimum': 0}}"
      ]
     },
     "execution_count": 4,
     "metadata": {},
     "output_type": "execute_result"
    }
   ],
   "source": [
    "env.specification.observation"
   ]
  },
  {
   "cell_type": "code",
   "execution_count": 5,
   "metadata": {
    "Collapsed": "false"
   },
   "outputs": [
    {
     "data": {
      "text/plain": [
       "{'episodeSteps': {'description': 'Maximum number of steps in the episode.',\n",
       "  'type': 'integer',\n",
       "  'minimum': 1,\n",
       "  'default': 400},\n",
       " 'agentExec': {'description': 'How the agent is executed alongside the running envionment.',\n",
       "  'type': 'string',\n",
       "  'default': 'LOCAL',\n",
       "  'enum': ['LOCAL', 'PROCESS']},\n",
       " 'agentTimeout': {'description': 'Maximum runtime (seconds) to initialize an agent.',\n",
       "  'type': 'integer',\n",
       "  'minimum': 1,\n",
       "  'default': 30},\n",
       " 'actTimeout': {'description': 'Maximum runtime (seconds) to obtain an action from an agent.',\n",
       "  'type': 'integer',\n",
       "  'minimum': 1,\n",
       "  'default': 6},\n",
       " 'runTimeout': {'description': 'Maximum runtime (seconds) of an episode (not necessarily DONE).',\n",
       "  'type': 'integer',\n",
       "  'minimum': 1,\n",
       "  'default': 9600},\n",
       " 'startingHalite': {'description': 'The starting amount of halite available on the board.',\n",
       "  'type': 'integer',\n",
       "  'default': 24000},\n",
       " 'size': {'description': 'The number of cells vertically and horizontally on the board.',\n",
       "  'type': 'integer',\n",
       "  'default': 21,\n",
       "  'minimum': 2},\n",
       " 'spawnCost': {'description': 'The amount of halite to spawn a new ship.',\n",
       "  'type': 'integer',\n",
       "  'default': 500,\n",
       "  'minimum': 0},\n",
       " 'convertCost': {'description': 'The amount of halite to convert a ship into a shipyard.',\n",
       "  'type': 'integer',\n",
       "  'default': 500,\n",
       "  'minimum': 0},\n",
       " 'moveCost': {'description': \"The percent deducted from ship's current halite per move.\",\n",
       "  'type': 'number',\n",
       "  'default': 0,\n",
       "  'minimum': 0},\n",
       " 'collectRate': {'description': 'The rate of halite collected by a ship from a cell by not moving.',\n",
       "  'type': 'number',\n",
       "  'default': 0.25,\n",
       "  'minimum': 0},\n",
       " 'regenRate': {'description': 'The rate halite regenerates on the board.',\n",
       "  'type': 'number',\n",
       "  'default': 0.02,\n",
       "  'minimum': 0},\n",
       " 'maxCellHalite': {'description': 'The maximum halite that can be in any cell.',\n",
       "  'type': 'integer',\n",
       "  'default': 500,\n",
       "  'minimum': 0},\n",
       " 'randomSeed': {'description': 'The seed used to initialize the random number generator.',\n",
       "  'type': 'integer',\n",
       "  'default': None}}"
      ]
     },
     "execution_count": 5,
     "metadata": {},
     "output_type": "execute_result"
    }
   ],
   "source": [
    "env.specification.configuration"
   ]
  },
  {
   "cell_type": "markdown",
   "metadata": {
    "Collapsed": "true"
   },
   "source": [
    "### Scrape JSON from Kaggle"
   ]
  },
  {
   "cell_type": "code",
   "execution_count": 1,
   "metadata": {
    "Collapsed": "false"
   },
   "outputs": [],
   "source": [
    "base_url = 'https://www.kaggle.com/c/halite/leaderboard'"
   ]
  },
  {
   "cell_type": "code",
   "execution_count": 6,
   "metadata": {
    "Collapsed": "false"
   },
   "outputs": [],
   "source": [
    "from kaggle_environments import get_episode_replay, list_episodes, list_episodes_for_team, list_episodes_for_submission"
   ]
  },
  {
   "cell_type": "code",
   "execution_count": 7,
   "metadata": {
    "Collapsed": "false",
    "collapsed": true,
    "jupyter": {
     "outputs_hidden": true
    }
   },
   "outputs": [
    {
     "data": {
      "text/plain": [
       "{'result': {'episodes': [{'id': 100000,\n",
       "    'competitionId': 17592,\n",
       "    'createTime': {'seconds': 1580104752, 'nanos': 208496000},\n",
       "    'endTime': {'seconds': 1580104776, 'nanos': 202911600},\n",
       "    'replayUrl': 'gs://kaggle-episode-replays/100000.json',\n",
       "    'adminNotes': None,\n",
       "    'state': 'completed',\n",
       "    'type': 'public',\n",
       "    'agents': [{'id': 197423,\n",
       "      'submissionId': 14115616,\n",
       "      'reward': 0.0,\n",
       "      'index': 0,\n",
       "      'initialScore': 703.2480497822609,\n",
       "      'initialConfidence': 20.0,\n",
       "      'updatedScore': 701.9174567483943,\n",
       "      'updatedConfidence': 20.0,\n",
       "      'state': 'unspecified',\n",
       "      'submission': {'id': 14115616,\n",
       "       'title': '',\n",
       "       'details': '',\n",
       "       'submittedUserId': 0,\n",
       "       'dateSubmitted': {'seconds': 1578693663, 'nanos': 280000000},\n",
       "       'teamId': 4212968,\n",
       "       'privateScore': None,\n",
       "       'publicScore': 0.0,\n",
       "       'isSelected': False,\n",
       "       'status': 'pending',\n",
       "       'isAfterDeadline': False,\n",
       "       'publicScoreAdditionalDetails': '',\n",
       "       'privateScoreAdditionalDetails': '',\n",
       "       'processingDetails': '',\n",
       "       'contentLength': 0,\n",
       "       'sourceScriptVersionId': 0,\n",
       "       'clonedFromSubmissionId': 0,\n",
       "       'dateInvalidated': None,\n",
       "       'syncRerunId': 0,\n",
       "       'publicConfidence': 25.0,\n",
       "       'team': None,\n",
       "       'sourceKernelRun': None,\n",
       "       'syncRerunState': None}},\n",
       "     {'id': 197428,\n",
       "      'submissionId': 14100614,\n",
       "      'reward': 1.0,\n",
       "      'index': 1,\n",
       "      'initialScore': 790.4481070845972,\n",
       "      'initialConfidence': 20.0,\n",
       "      'updatedScore': 791.7787001184637,\n",
       "      'updatedConfidence': 20.0,\n",
       "      'state': 'unspecified',\n",
       "      'submission': {'id': 14100614,\n",
       "       'title': '',\n",
       "       'details': '',\n",
       "       'submittedUserId': 0,\n",
       "       'dateSubmitted': {'seconds': 1578596049, 'nanos': 763000000},\n",
       "       'teamId': 4232142,\n",
       "       'privateScore': None,\n",
       "       'publicScore': 0.0,\n",
       "       'isSelected': False,\n",
       "       'status': 'pending',\n",
       "       'isAfterDeadline': False,\n",
       "       'publicScoreAdditionalDetails': '',\n",
       "       'privateScoreAdditionalDetails': '',\n",
       "       'processingDetails': '',\n",
       "       'contentLength': 0,\n",
       "       'sourceScriptVersionId': 0,\n",
       "       'clonedFromSubmissionId': 0,\n",
       "       'dateInvalidated': None,\n",
       "       'syncRerunId': 0,\n",
       "       'publicConfidence': 25.0,\n",
       "       'team': None,\n",
       "       'sourceKernelRun': None,\n",
       "       'syncRerunState': None}}]},\n",
       "   {'id': 100001,\n",
       "    'competitionId': 17592,\n",
       "    'createTime': {'seconds': 1580104752, 'nanos': 231354000},\n",
       "    'endTime': {'seconds': 1580104774, 'nanos': 168200200},\n",
       "    'replayUrl': 'gs://kaggle-episode-replays/100001.json',\n",
       "    'adminNotes': None,\n",
       "    'state': 'completed',\n",
       "    'type': 'public',\n",
       "    'agents': [{'id': 197435,\n",
       "      'submissionId': 14147556,\n",
       "      'reward': 0.0,\n",
       "      'index': 0,\n",
       "      'initialScore': 826.8465421554362,\n",
       "      'initialConfidence': 20.0,\n",
       "      'updatedScore': 824.1964192538993,\n",
       "      'updatedConfidence': 20.0,\n",
       "      'state': 'unspecified',\n",
       "      'submission': {'id': 14147556,\n",
       "       'title': '',\n",
       "       'details': '',\n",
       "       'submittedUserId': 0,\n",
       "       'dateSubmitted': {'seconds': 1578938385, 'nanos': 780000000},\n",
       "       'teamId': 4211884,\n",
       "       'privateScore': None,\n",
       "       'publicScore': 0.0,\n",
       "       'isSelected': False,\n",
       "       'status': 'pending',\n",
       "       'isAfterDeadline': False,\n",
       "       'publicScoreAdditionalDetails': '',\n",
       "       'privateScoreAdditionalDetails': '',\n",
       "       'processingDetails': '',\n",
       "       'contentLength': 0,\n",
       "       'sourceScriptVersionId': 0,\n",
       "       'clonedFromSubmissionId': 0,\n",
       "       'dateInvalidated': None,\n",
       "       'syncRerunId': 0,\n",
       "       'publicConfidence': 23.261424503107943,\n",
       "       'team': None,\n",
       "       'sourceKernelRun': None,\n",
       "       'syncRerunState': None}},\n",
       "     {'id': 197436,\n",
       "      'submissionId': 14082765,\n",
       "      'reward': 1.0,\n",
       "      'index': 1,\n",
       "      'initialScore': 802.136975781611,\n",
       "      'initialConfidence': 20.0,\n",
       "      'updatedScore': 804.7870986831479,\n",
       "      'updatedConfidence': 20.0,\n",
       "      'state': 'unspecified',\n",
       "      'submission': {'id': 14082765,\n",
       "       'title': '',\n",
       "       'details': '',\n",
       "       'submittedUserId': 0,\n",
       "       'dateSubmitted': {'seconds': 1578482877, 'nanos': 60000000},\n",
       "       'teamId': 4211484,\n",
       "       'privateScore': None,\n",
       "       'publicScore': 0.0,\n",
       "       'isSelected': False,\n",
       "       'status': 'pending',\n",
       "       'isAfterDeadline': False,\n",
       "       'publicScoreAdditionalDetails': '',\n",
       "       'privateScoreAdditionalDetails': '',\n",
       "       'processingDetails': '',\n",
       "       'contentLength': 0,\n",
       "       'sourceScriptVersionId': 0,\n",
       "       'clonedFromSubmissionId': 0,\n",
       "       'dateInvalidated': None,\n",
       "       'syncRerunId': 0,\n",
       "       'publicConfidence': 25.0,\n",
       "       'team': None,\n",
       "       'sourceKernelRun': None,\n",
       "       'syncRerunState': None}}]},\n",
       "   {'id': 100002,\n",
       "    'competitionId': 17592,\n",
       "    'createTime': {'seconds': 1580104752, 'nanos': 227258900},\n",
       "    'endTime': {'seconds': 1580104770, 'nanos': 980832800},\n",
       "    'replayUrl': 'gs://kaggle-episode-replays/100002.json',\n",
       "    'adminNotes': None,\n",
       "    'state': 'completed',\n",
       "    'type': 'public',\n",
       "    'agents': [{'id': 197422,\n",
       "      'submissionId': 14216035,\n",
       "      'reward': 0.0,\n",
       "      'index': 0,\n",
       "      'initialScore': 279.6328188061378,\n",
       "      'initialConfidence': 22.50128871142593,\n",
       "      'updatedScore': 275.9673709387306,\n",
       "      'updatedConfidence': 22.30115187826908,\n",
       "      'state': 'unspecified',\n",
       "      'submission': {'id': 14216035,\n",
       "       'title': '',\n",
       "       'details': '',\n",
       "       'submittedUserId': 0,\n",
       "       'dateSubmitted': {'seconds': 1579406866, 'nanos': 327000000},\n",
       "       'teamId': 4262580,\n",
       "       'privateScore': None,\n",
       "       'publicScore': 0.0,\n",
       "       'isSelected': False,\n",
       "       'status': 'pending',\n",
       "       'isAfterDeadline': False,\n",
       "       'publicScoreAdditionalDetails': '',\n",
       "       'privateScoreAdditionalDetails': '',\n",
       "       'processingDetails': '',\n",
       "       'contentLength': 0,\n",
       "       'sourceScriptVersionId': 0,\n",
       "       'clonedFromSubmissionId': 0,\n",
       "       'dateInvalidated': None,\n",
       "       'syncRerunId': 0,\n",
       "       'publicConfidence': 20.6703751582161,\n",
       "       'team': None,\n",
       "       'sourceKernelRun': None,\n",
       "       'syncRerunState': None}},\n",
       "     {'id': 197426,\n",
       "      'submissionId': 14035016,\n",
       "      'reward': 1.0,\n",
       "      'index': 1,\n",
       "      'initialScore': 236.4975403201979,\n",
       "      'initialConfidence': 20.0,\n",
       "      'updatedScore': 239.39336492751033,\n",
       "      'updatedConfidence': 20.0,\n",
       "      'state': 'unspecified',\n",
       "      'submission': {'id': 14035016,\n",
       "       'title': '',\n",
       "       'details': '',\n",
       "       'submittedUserId': 0,\n",
       "       'dateSubmitted': {'seconds': 1578145449, 'nanos': 90000000},\n",
       "       'teamId': 4212444,\n",
       "       'privateScore': None,\n",
       "       'publicScore': 0.0,\n",
       "       'isSelected': False,\n",
       "       'status': 'pending',\n",
       "       'isAfterDeadline': False,\n",
       "       'publicScoreAdditionalDetails': '',\n",
       "       'privateScoreAdditionalDetails': '',\n",
       "       'processingDetails': '',\n",
       "       'contentLength': 0,\n",
       "       'sourceScriptVersionId': 0,\n",
       "       'clonedFromSubmissionId': 0,\n",
       "       'dateInvalidated': None,\n",
       "       'syncRerunId': 0,\n",
       "       'publicConfidence': 25.0,\n",
       "       'team': None,\n",
       "       'sourceKernelRun': None,\n",
       "       'syncRerunState': None}}]}],\n",
       "  'teams': [{'id': 4211484,\n",
       "    'teamName': 'Sergey Zaitsev',\n",
       "    'competitionId': 17592,\n",
       "    'teamLeaderId': 1140191,\n",
       "    'isBenchmark': False,\n",
       "    'createdAfterDeadline': False,\n",
       "    'medal': 0,\n",
       "    'dateMedalAwarded': None,\n",
       "    'submissionCount': 0,\n",
       "    'lastSubmissionDate': None,\n",
       "    'publicLeaderboardSubmissionId': None,\n",
       "    'publicLeaderboardScore': None,\n",
       "    'publicLeaderboardRank': None,\n",
       "    'privateLeaderboardSubmissionId': None,\n",
       "    'privateLeaderboardScore': None,\n",
       "    'privateLeaderboardRank': None,\n",
       "    'competition': None,\n",
       "    'teamMembers': [],\n",
       "    'inboundMergeRequests': [],\n",
       "    'outboundMergeRequests': []},\n",
       "   {'id': 4211884,\n",
       "    'teamName': 'David Pérez',\n",
       "    'competitionId': 17592,\n",
       "    'teamLeaderId': 407754,\n",
       "    'isBenchmark': False,\n",
       "    'createdAfterDeadline': False,\n",
       "    'medal': 0,\n",
       "    'dateMedalAwarded': None,\n",
       "    'submissionCount': 0,\n",
       "    'lastSubmissionDate': None,\n",
       "    'publicLeaderboardSubmissionId': None,\n",
       "    'publicLeaderboardScore': None,\n",
       "    'publicLeaderboardRank': None,\n",
       "    'privateLeaderboardSubmissionId': None,\n",
       "    'privateLeaderboardScore': None,\n",
       "    'privateLeaderboardRank': None,\n",
       "    'competition': None,\n",
       "    'teamMembers': [],\n",
       "    'inboundMergeRequests': [],\n",
       "    'outboundMergeRequests': []},\n",
       "   {'id': 4212444,\n",
       "    'teamName': 'stano',\n",
       "    'competitionId': 17592,\n",
       "    'teamLeaderId': 359327,\n",
       "    'isBenchmark': False,\n",
       "    'createdAfterDeadline': False,\n",
       "    'medal': 0,\n",
       "    'dateMedalAwarded': None,\n",
       "    'submissionCount': 0,\n",
       "    'lastSubmissionDate': None,\n",
       "    'publicLeaderboardSubmissionId': None,\n",
       "    'publicLeaderboardScore': None,\n",
       "    'publicLeaderboardRank': None,\n",
       "    'privateLeaderboardSubmissionId': None,\n",
       "    'privateLeaderboardScore': None,\n",
       "    'privateLeaderboardRank': None,\n",
       "    'competition': None,\n",
       "    'teamMembers': [],\n",
       "    'inboundMergeRequests': [],\n",
       "    'outboundMergeRequests': []},\n",
       "   {'id': 4212968,\n",
       "    'teamName': 'Evdilos_Ikaria',\n",
       "    'competitionId': 17592,\n",
       "    'teamLeaderId': 74276,\n",
       "    'isBenchmark': False,\n",
       "    'createdAfterDeadline': False,\n",
       "    'medal': 0,\n",
       "    'dateMedalAwarded': None,\n",
       "    'submissionCount': 0,\n",
       "    'lastSubmissionDate': None,\n",
       "    'publicLeaderboardSubmissionId': None,\n",
       "    'publicLeaderboardScore': None,\n",
       "    'publicLeaderboardRank': None,\n",
       "    'privateLeaderboardSubmissionId': None,\n",
       "    'privateLeaderboardScore': None,\n",
       "    'privateLeaderboardRank': None,\n",
       "    'competition': None,\n",
       "    'teamMembers': [],\n",
       "    'inboundMergeRequests': [],\n",
       "    'outboundMergeRequests': []},\n",
       "   {'id': 4232142,\n",
       "    'teamName': 'Galmiza',\n",
       "    'competitionId': 17592,\n",
       "    'teamLeaderId': 98679,\n",
       "    'isBenchmark': False,\n",
       "    'createdAfterDeadline': False,\n",
       "    'medal': 0,\n",
       "    'dateMedalAwarded': None,\n",
       "    'submissionCount': 0,\n",
       "    'lastSubmissionDate': None,\n",
       "    'publicLeaderboardSubmissionId': None,\n",
       "    'publicLeaderboardScore': None,\n",
       "    'publicLeaderboardRank': None,\n",
       "    'privateLeaderboardSubmissionId': None,\n",
       "    'privateLeaderboardScore': None,\n",
       "    'privateLeaderboardRank': None,\n",
       "    'competition': None,\n",
       "    'teamMembers': [],\n",
       "    'inboundMergeRequests': [],\n",
       "    'outboundMergeRequests': []},\n",
       "   {'id': 4262580,\n",
       "    'teamName': 'Kaggle_junI',\n",
       "    'competitionId': 17592,\n",
       "    'teamLeaderId': 4296953,\n",
       "    'isBenchmark': False,\n",
       "    'createdAfterDeadline': False,\n",
       "    'medal': 0,\n",
       "    'dateMedalAwarded': None,\n",
       "    'submissionCount': 0,\n",
       "    'lastSubmissionDate': None,\n",
       "    'publicLeaderboardSubmissionId': None,\n",
       "    'publicLeaderboardScore': None,\n",
       "    'publicLeaderboardRank': None,\n",
       "    'privateLeaderboardSubmissionId': None,\n",
       "    'privateLeaderboardScore': None,\n",
       "    'privateLeaderboardRank': None,\n",
       "    'competition': None,\n",
       "    'teamMembers': [],\n",
       "    'inboundMergeRequests': [],\n",
       "    'outboundMergeRequests': []}]},\n",
       " 'wasSuccessful': True}"
      ]
     },
     "execution_count": 7,
     "metadata": {},
     "output_type": "execute_result"
    }
   ],
   "source": [
    "# Returns metadata for all episodes passed by id\n",
    "list_episodes([100000, 100001, 100002])"
   ]
  },
  {
   "cell_type": "code",
   "execution_count": 10,
   "metadata": {
    "Collapsed": "false"
   },
   "outputs": [
    {
     "data": {
      "text/plain": [
       "{'result': {'episodes': [], 'teams': []}, 'wasSuccessful': True}"
      ]
     },
     "execution_count": 10,
     "metadata": {},
     "output_type": "execute_result"
    }
   ],
   "source": [
    "# Returns metadata for all episodes for a particular submission\n",
    "# You can find your submission id at the top of the list of episodes for your agent on the leaderboard\n",
    "list_episodes_for_submission(100000)"
   ]
  },
  {
   "cell_type": "code",
   "execution_count": 12,
   "metadata": {
    "Collapsed": "false"
   },
   "outputs": [
    {
     "data": {
      "text/plain": [
       "{'result': {'episodes': [], 'teams': []}, 'wasSuccessful': True}"
      ]
     },
     "execution_count": 12,
     "metadata": {},
     "output_type": "execute_result"
    }
   ],
   "source": [
    "# Returns metadata for all episodes for a particular team\n",
    "# You can get your team id by calling the list_episodes_for_submission method with one of your submissions\n",
    "list_episodes_for_team(100003)"
   ]
  },
  {
   "cell_type": "code",
   "execution_count": 13,
   "metadata": {
    "Collapsed": "false"
   },
   "outputs": [
    {
     "data": {
      "text/plain": [
       "{'result': {'replay': '{\"configuration\": {\"columns\": 7, \"inarow\": 4, \"rows\": 6, \"steps\": 1000, \"timeout\": 5}, \"description\": \"Classic Connect in a row but configurable.\", \"name\": \"connectx\", \"rewards\": [0, 1], \"schema_version\": 1, \"specification\": {\"action\": {\"default\": 0, \"description\": \"Column to drop a checker onto the board.\", \"minimum\": 0, \"type\": \"integer\"}, \"agents\": [2], \"configuration\": {\"columns\": {\"default\": 7, \"description\": \"The number of columns on the board\", \"minimum\": 1, \"type\": \"integer\"}, \"inarow\": {\"default\": 4, \"description\": \"The number of checkers in a row required to win.\", \"minimum\": 1, \"type\": \"integer\"}, \"rows\": {\"default\": 6, \"description\": \"The number of rows on the board\", \"minimum\": 1, \"type\": \"integer\"}, \"steps\": {\"default\": 1000, \"description\": \"Maximum number of steps the environment can run.\", \"minimum\": 1, \"type\": \"integer\"}, \"timeout\": {\"default\": 5, \"description\": \"Seconds an agent can run before timing out.\", \"minimum\": 1, \"type\": \"integer\"}}, \"info\": {}, \"observation\": {\"board\": {\"default\": [], \"description\": \"Serialized grid (rows x columns). 0 = Empty, 1 = P1, 2 = P2\", \"type\": \"array\"}, \"mark\": {\"default\": 0, \"description\": \"Which checkers are the agents.\", \"enum\": [1, 2]}}, \"reset\": {\"observation\": [{\"mark\": 1}, {\"mark\": 2}], \"status\": [\"ACTIVE\", \"INACTIVE\"]}, \"reward\": {\"default\": 0.5, \"description\": \"0 = Lost, 0.5 = Draw, 1 = Won\", \"enum\": [0, 0.5, 1], \"type\": [\"number\", \"null\"]}}, \"statuses\": [\"DONE\", \"DONE\"], \"steps\": [[{\"action\": 0, \"info\": {}, \"observation\": {\"board\": [0, 0, 0, 0, 0, 0, 0, 0, 0, 0, 0, 0, 0, 0, 0, 0, 0, 0, 0, 0, 0, 0, 0, 0, 0, 0, 0, 0, 0, 0, 0, 0, 0, 0, 0, 0, 0, 0, 0, 0, 0, 0], \"mark\": 1}, \"reward\": 0.5, \"status\": \"ACTIVE\"}, {\"action\": 0, \"info\": {}, \"observation\": {\"board\": [0, 0, 0, 0, 0, 0, 0, 0, 0, 0, 0, 0, 0, 0, 0, 0, 0, 0, 0, 0, 0, 0, 0, 0, 0, 0, 0, 0, 0, 0, 0, 0, 0, 0, 0, 0, 0, 0, 0, 0, 0, 0], \"mark\": 2}, \"reward\": 0.5, \"status\": \"INACTIVE\"}], [{\"action\": 0, \"info\": {}, \"observation\": {\"board\": [0, 0, 0, 0, 0, 0, 0, 0, 0, 0, 0, 0, 0, 0, 0, 0, 0, 0, 0, 0, 0, 0, 0, 0, 0, 0, 0, 0, 0, 0, 0, 0, 0, 0, 0, 1, 0, 0, 0, 0, 0, 0], \"mark\": 1}, \"reward\": 0.5, \"status\": \"INACTIVE\"}, {\"action\": 0, \"info\": {}, \"observation\": {\"board\": [0, 0, 0, 0, 0, 0, 0, 0, 0, 0, 0, 0, 0, 0, 0, 0, 0, 0, 0, 0, 0, 0, 0, 0, 0, 0, 0, 0, 0, 0, 0, 0, 0, 0, 0, 1, 0, 0, 0, 0, 0, 0], \"mark\": 2}, \"reward\": 0.5, \"status\": \"ACTIVE\"}], [{\"action\": 0, \"info\": {}, \"observation\": {\"board\": [0, 0, 0, 0, 0, 0, 0, 0, 0, 0, 0, 0, 0, 0, 0, 0, 0, 0, 0, 0, 0, 0, 0, 0, 0, 0, 0, 0, 2, 0, 0, 0, 0, 0, 0, 1, 0, 0, 0, 0, 0, 0], \"mark\": 1}, \"reward\": 0.5, \"status\": \"ACTIVE\"}, {\"action\": 0, \"info\": {}, \"observation\": {\"board\": [0, 0, 0, 0, 0, 0, 0, 0, 0, 0, 0, 0, 0, 0, 0, 0, 0, 0, 0, 0, 0, 0, 0, 0, 0, 0, 0, 0, 2, 0, 0, 0, 0, 0, 0, 1, 0, 0, 0, 0, 0, 0], \"mark\": 2}, \"reward\": 0.5, \"status\": \"INACTIVE\"}], [{\"action\": 1, \"info\": {}, \"observation\": {\"board\": [0, 0, 0, 0, 0, 0, 0, 0, 0, 0, 0, 0, 0, 0, 0, 0, 0, 0, 0, 0, 0, 0, 0, 0, 0, 0, 0, 0, 2, 0, 0, 0, 0, 0, 0, 1, 1, 0, 0, 0, 0, 0], \"mark\": 1}, \"reward\": 0.5, \"status\": \"INACTIVE\"}, {\"action\": 0, \"info\": {}, \"observation\": {\"board\": [0, 0, 0, 0, 0, 0, 0, 0, 0, 0, 0, 0, 0, 0, 0, 0, 0, 0, 0, 0, 0, 0, 0, 0, 0, 0, 0, 0, 2, 0, 0, 0, 0, 0, 0, 1, 1, 0, 0, 0, 0, 0], \"mark\": 2}, \"reward\": 0.5, \"status\": \"ACTIVE\"}], [{\"action\": 0, \"info\": {}, \"observation\": {\"board\": [0, 0, 0, 0, 0, 0, 0, 0, 0, 0, 0, 0, 0, 0, 0, 0, 0, 0, 0, 0, 0, 2, 0, 0, 0, 0, 0, 0, 2, 0, 0, 0, 0, 0, 0, 1, 1, 0, 0, 0, 0, 0], \"mark\": 1}, \"reward\": 0.5, \"status\": \"ACTIVE\"}, {\"action\": 0, \"info\": {}, \"observation\": {\"board\": [0, 0, 0, 0, 0, 0, 0, 0, 0, 0, 0, 0, 0, 0, 0, 0, 0, 0, 0, 0, 0, 2, 0, 0, 0, 0, 0, 0, 2, 0, 0, 0, 0, 0, 0, 1, 1, 0, 0, 0, 0, 0], \"mark\": 2}, \"reward\": 0.5, \"status\": \"INACTIVE\"}], [{\"action\": 2, \"info\": {}, \"observation\": {\"board\": [0, 0, 0, 0, 0, 0, 0, 0, 0, 0, 0, 0, 0, 0, 0, 0, 0, 0, 0, 0, 0, 2, 0, 0, 0, 0, 0, 0, 2, 0, 0, 0, 0, 0, 0, 1, 1, 1, 0, 0, 0, 0], \"mark\": 1}, \"reward\": 0.5, \"status\": \"INACTIVE\"}, {\"action\": 0, \"info\": {}, \"observation\": {\"board\": [0, 0, 0, 0, 0, 0, 0, 0, 0, 0, 0, 0, 0, 0, 0, 0, 0, 0, 0, 0, 0, 2, 0, 0, 0, 0, 0, 0, 2, 0, 0, 0, 0, 0, 0, 1, 1, 1, 0, 0, 0, 0], \"mark\": 2}, \"reward\": 0.5, \"status\": \"ACTIVE\"}], [{\"action\": 0, \"info\": {}, \"observation\": {\"board\": [0, 0, 0, 0, 0, 0, 0, 0, 0, 0, 0, 0, 0, 0, 0, 0, 0, 0, 0, 0, 0, 2, 0, 0, 0, 0, 0, 0, 2, 0, 0, 0, 0, 0, 0, 1, 1, 1, 2, 0, 0, 0], \"mark\": 1}, \"reward\": 0.5, \"status\": \"ACTIVE\"}, {\"action\": 3, \"info\": {}, \"observation\": {\"board\": [0, 0, 0, 0, 0, 0, 0, 0, 0, 0, 0, 0, 0, 0, 0, 0, 0, 0, 0, 0, 0, 2, 0, 0, 0, 0, 0, 0, 2, 0, 0, 0, 0, 0, 0, 1, 1, 1, 2, 0, 0, 0], \"mark\": 2}, \"reward\": 0.5, \"status\": \"INACTIVE\"}], [{\"action\": 4, \"info\": {}, \"observation\": {\"board\": [0, 0, 0, 0, 0, 0, 0, 0, 0, 0, 0, 0, 0, 0, 0, 0, 0, 0, 0, 0, 0, 2, 0, 0, 0, 0, 0, 0, 2, 0, 0, 0, 0, 0, 0, 1, 1, 1, 2, 1, 0, 0], \"mark\": 1}, \"reward\": 0.5, \"status\": \"INACTIVE\"}, {\"action\": 0, \"info\": {}, \"observation\": {\"board\": [0, 0, 0, 0, 0, 0, 0, 0, 0, 0, 0, 0, 0, 0, 0, 0, 0, 0, 0, 0, 0, 2, 0, 0, 0, 0, 0, 0, 2, 0, 0, 0, 0, 0, 0, 1, 1, 1, 2, 1, 0, 0], \"mark\": 2}, \"reward\": 0.5, \"status\": \"ACTIVE\"}], [{\"action\": 0, \"info\": {}, \"observation\": {\"board\": [0, 0, 0, 0, 0, 0, 0, 0, 0, 0, 0, 0, 0, 0, 2, 0, 0, 0, 0, 0, 0, 2, 0, 0, 0, 0, 0, 0, 2, 0, 0, 0, 0, 0, 0, 1, 1, 1, 2, 1, 0, 0], \"mark\": 1}, \"reward\": 0.5, \"status\": \"ACTIVE\"}, {\"action\": 0, \"info\": {}, \"observation\": {\"board\": [0, 0, 0, 0, 0, 0, 0, 0, 0, 0, 0, 0, 0, 0, 2, 0, 0, 0, 0, 0, 0, 2, 0, 0, 0, 0, 0, 0, 2, 0, 0, 0, 0, 0, 0, 1, 1, 1, 2, 1, 0, 0], \"mark\": 2}, \"reward\": 0.5, \"status\": \"INACTIVE\"}], [{\"action\": 0, \"info\": {}, \"observation\": {\"board\": [0, 0, 0, 0, 0, 0, 0, 1, 0, 0, 0, 0, 0, 0, 2, 0, 0, 0, 0, 0, 0, 2, 0, 0, 0, 0, 0, 0, 2, 0, 0, 0, 0, 0, 0, 1, 1, 1, 2, 1, 0, 0], \"mark\": 1}, \"reward\": 0.5, \"status\": \"INACTIVE\"}, {\"action\": 0, \"info\": {}, \"observation\": {\"board\": [0, 0, 0, 0, 0, 0, 0, 1, 0, 0, 0, 0, 0, 0, 2, 0, 0, 0, 0, 0, 0, 2, 0, 0, 0, 0, 0, 0, 2, 0, 0, 0, 0, 0, 0, 1, 1, 1, 2, 1, 0, 0], \"mark\": 2}, \"reward\": 0.5, \"status\": \"ACTIVE\"}], [{\"action\": 0, \"info\": {}, \"observation\": {\"board\": [0, 0, 0, 0, 0, 0, 0, 1, 0, 0, 0, 0, 0, 0, 2, 0, 0, 0, 0, 0, 0, 2, 0, 0, 0, 0, 0, 0, 2, 2, 0, 0, 0, 0, 0, 1, 1, 1, 2, 1, 0, 0], \"mark\": 1}, \"reward\": 0.5, \"status\": \"ACTIVE\"}, {\"action\": 1, \"info\": {}, \"observation\": {\"board\": [0, 0, 0, 0, 0, 0, 0, 1, 0, 0, 0, 0, 0, 0, 2, 0, 0, 0, 0, 0, 0, 2, 0, 0, 0, 0, 0, 0, 2, 2, 0, 0, 0, 0, 0, 1, 1, 1, 2, 1, 0, 0], \"mark\": 2}, \"reward\": 0.5, \"status\": \"INACTIVE\"}], [{\"action\": 5, \"info\": {}, \"observation\": {\"board\": [0, 0, 0, 0, 0, 0, 0, 1, 0, 0, 0, 0, 0, 0, 2, 0, 0, 0, 0, 0, 0, 2, 0, 0, 0, 0, 0, 0, 2, 2, 0, 0, 0, 0, 0, 1, 1, 1, 2, 1, 1, 0], \"mark\": 1}, \"reward\": 0.5, \"status\": \"INACTIVE\"}, {\"action\": 0, \"info\": {}, \"observation\": {\"board\": [0, 0, 0, 0, 0, 0, 0, 1, 0, 0, 0, 0, 0, 0, 2, 0, 0, 0, 0, 0, 0, 2, 0, 0, 0, 0, 0, 0, 2, 2, 0, 0, 0, 0, 0, 1, 1, 1, 2, 1, 1, 0], \"mark\": 2}, \"reward\": 0.5, \"status\": \"ACTIVE\"}], [{\"action\": 0, \"info\": {}, \"observation\": {\"board\": [2, 0, 0, 0, 0, 0, 0, 1, 0, 0, 0, 0, 0, 0, 2, 0, 0, 0, 0, 0, 0, 2, 0, 0, 0, 0, 0, 0, 2, 2, 0, 0, 0, 0, 0, 1, 1, 1, 2, 1, 1, 0], \"mark\": 1}, \"reward\": 0.5, \"status\": \"ACTIVE\"}, {\"action\": 0, \"info\": {}, \"observation\": {\"board\": [2, 0, 0, 0, 0, 0, 0, 1, 0, 0, 0, 0, 0, 0, 2, 0, 0, 0, 0, 0, 0, 2, 0, 0, 0, 0, 0, 0, 2, 2, 0, 0, 0, 0, 0, 1, 1, 1, 2, 1, 1, 0], \"mark\": 2}, \"reward\": 0.5, \"status\": \"INACTIVE\"}], [{\"action\": 6, \"info\": {}, \"observation\": {\"board\": [2, 0, 0, 0, 0, 0, 0, 1, 0, 0, 0, 0, 0, 0, 2, 0, 0, 0, 0, 0, 0, 2, 0, 0, 0, 0, 0, 0, 2, 2, 0, 0, 0, 0, 0, 1, 1, 1, 2, 1, 1, 1], \"mark\": 1}, \"reward\": 0.5, \"status\": \"INACTIVE\"}, {\"action\": 0, \"info\": {}, \"observation\": {\"board\": [2, 0, 0, 0, 0, 0, 0, 1, 0, 0, 0, 0, 0, 0, 2, 0, 0, 0, 0, 0, 0, 2, 0, 0, 0, 0, 0, 0, 2, 2, 0, 0, 0, 0, 0, 1, 1, 1, 2, 1, 1, 1], \"mark\": 2}, \"reward\": 0.5, \"status\": \"ACTIVE\"}], [{\"action\": 0, \"info\": {}, \"observation\": {\"board\": [2, 0, 0, 0, 0, 0, 0, 1, 0, 0, 0, 0, 0, 0, 2, 0, 0, 0, 0, 0, 0, 2, 2, 0, 0, 0, 0, 0, 2, 2, 0, 0, 0, 0, 0, 1, 1, 1, 2, 1, 1, 1], \"mark\": 1}, \"reward\": 0.5, \"status\": \"ACTIVE\"}, {\"action\": 1, \"info\": {}, \"observation\": {\"board\": [2, 0, 0, 0, 0, 0, 0, 1, 0, 0, 0, 0, 0, 0, 2, 0, 0, 0, 0, 0, 0, 2, 2, 0, 0, 0, 0, 0, 2, 2, 0, 0, 0, 0, 0, 1, 1, 1, 2, 1, 1, 1], \"mark\": 2}, \"reward\": 0.5, \"status\": \"INACTIVE\"}], [{\"action\": 2, \"info\": {}, \"observation\": {\"board\": [2, 0, 0, 0, 0, 0, 0, 1, 0, 0, 0, 0, 0, 0, 2, 0, 0, 0, 0, 0, 0, 2, 2, 0, 0, 0, 0, 0, 2, 2, 1, 0, 0, 0, 0, 1, 1, 1, 2, 1, 1, 1], \"mark\": 1}, \"reward\": 0.5, \"status\": \"INACTIVE\"}, {\"action\": 0, \"info\": {}, \"observation\": {\"board\": [2, 0, 0, 0, 0, 0, 0, 1, 0, 0, 0, 0, 0, 0, 2, 0, 0, 0, 0, 0, 0, 2, 2, 0, 0, 0, 0, 0, 2, 2, 1, 0, 0, 0, 0, 1, 1, 1, 2, 1, 1, 1], \"mark\": 2}, \"reward\": 0.5, \"status\": \"ACTIVE\"}], [{\"action\": 0, \"info\": {}, \"observation\": {\"board\": [2, 0, 0, 0, 0, 0, 0, 1, 0, 0, 0, 0, 0, 0, 2, 2, 0, 0, 0, 0, 0, 2, 2, 0, 0, 0, 0, 0, 2, 2, 1, 0, 0, 0, 0, 1, 1, 1, 2, 1, 1, 1], \"mark\": 1}, \"reward\": 0.5, \"status\": \"ACTIVE\"}, {\"action\": 1, \"info\": {}, \"observation\": {\"board\": [2, 0, 0, 0, 0, 0, 0, 1, 0, 0, 0, 0, 0, 0, 2, 2, 0, 0, 0, 0, 0, 2, 2, 0, 0, 0, 0, 0, 2, 2, 1, 0, 0, 0, 0, 1, 1, 1, 2, 1, 1, 1], \"mark\": 2}, \"reward\": 0.5, \"status\": \"INACTIVE\"}], [{\"action\": 1, \"info\": {}, \"observation\": {\"board\": [2, 0, 0, 0, 0, 0, 0, 1, 1, 0, 0, 0, 0, 0, 2, 2, 0, 0, 0, 0, 0, 2, 2, 0, 0, 0, 0, 0, 2, 2, 1, 0, 0, 0, 0, 1, 1, 1, 2, 1, 1, 1], \"mark\": 1}, \"reward\": 0.5, \"status\": \"INACTIVE\"}, {\"action\": 0, \"info\": {}, \"observation\": {\"board\": [2, 0, 0, 0, 0, 0, 0, 1, 1, 0, 0, 0, 0, 0, 2, 2, 0, 0, 0, 0, 0, 2, 2, 0, 0, 0, 0, 0, 2, 2, 1, 0, 0, 0, 0, 1, 1, 1, 2, 1, 1, 1], \"mark\": 2}, \"reward\": 0.5, \"status\": \"ACTIVE\"}], [{\"action\": 0, \"info\": {}, \"observation\": {\"board\": [2, 2, 0, 0, 0, 0, 0, 1, 1, 0, 0, 0, 0, 0, 2, 2, 0, 0, 0, 0, 0, 2, 2, 0, 0, 0, 0, 0, 2, 2, 1, 0, 0, 0, 0, 1, 1, 1, 2, 1, 1, 1], \"mark\": 1}, \"reward\": 0.5, \"status\": \"ACTIVE\"}, {\"action\": 1, \"info\": {}, \"observation\": {\"board\": [2, 2, 0, 0, 0, 0, 0, 1, 1, 0, 0, 0, 0, 0, 2, 2, 0, 0, 0, 0, 0, 2, 2, 0, 0, 0, 0, 0, 2, 2, 1, 0, 0, 0, 0, 1, 1, 1, 2, 1, 1, 1], \"mark\": 2}, \"reward\": 0.5, \"status\": \"INACTIVE\"}], [{\"action\": 2, \"info\": {}, \"observation\": {\"board\": [2, 2, 0, 0, 0, 0, 0, 1, 1, 0, 0, 0, 0, 0, 2, 2, 0, 0, 0, 0, 0, 2, 2, 1, 0, 0, 0, 0, 2, 2, 1, 0, 0, 0, 0, 1, 1, 1, 2, 1, 1, 1], \"mark\": 1}, \"reward\": 0.5, \"status\": \"INACTIVE\"}, {\"action\": 0, \"info\": {}, \"observation\": {\"board\": [2, 2, 0, 0, 0, 0, 0, 1, 1, 0, 0, 0, 0, 0, 2, 2, 0, 0, 0, 0, 0, 2, 2, 1, 0, 0, 0, 0, 2, 2, 1, 0, 0, 0, 0, 1, 1, 1, 2, 1, 1, 1], \"mark\": 2}, \"reward\": 0.5, \"status\": \"ACTIVE\"}], [{\"action\": 0, \"info\": {}, \"observation\": {\"board\": [2, 2, 0, 0, 0, 0, 0, 1, 1, 0, 0, 0, 0, 0, 2, 2, 2, 0, 0, 0, 0, 2, 2, 1, 0, 0, 0, 0, 2, 2, 1, 0, 0, 0, 0, 1, 1, 1, 2, 1, 1, 1], \"mark\": 1}, \"reward\": 0.5, \"status\": \"ACTIVE\"}, {\"action\": 2, \"info\": {}, \"observation\": {\"board\": [2, 2, 0, 0, 0, 0, 0, 1, 1, 0, 0, 0, 0, 0, 2, 2, 2, 0, 0, 0, 0, 2, 2, 1, 0, 0, 0, 0, 2, 2, 1, 0, 0, 0, 0, 1, 1, 1, 2, 1, 1, 1], \"mark\": 2}, \"reward\": 0.5, \"status\": \"INACTIVE\"}], [{\"action\": 2, \"info\": {}, \"observation\": {\"board\": [2, 2, 0, 0, 0, 0, 0, 1, 1, 1, 0, 0, 0, 0, 2, 2, 2, 0, 0, 0, 0, 2, 2, 1, 0, 0, 0, 0, 2, 2, 1, 0, 0, 0, 0, 1, 1, 1, 2, 1, 1, 1], \"mark\": 1}, \"reward\": 0.5, \"status\": \"INACTIVE\"}, {\"action\": 0, \"info\": {}, \"observation\": {\"board\": [2, 2, 0, 0, 0, 0, 0, 1, 1, 1, 0, 0, 0, 0, 2, 2, 2, 0, 0, 0, 0, 2, 2, 1, 0, 0, 0, 0, 2, 2, 1, 0, 0, 0, 0, 1, 1, 1, 2, 1, 1, 1], \"mark\": 2}, \"reward\": 0.5, \"status\": \"ACTIVE\"}], [{\"action\": 0, \"info\": {}, \"observation\": {\"board\": [2, 2, 0, 0, 0, 0, 0, 1, 1, 1, 0, 0, 0, 0, 2, 2, 2, 0, 0, 0, 0, 2, 2, 1, 0, 0, 0, 0, 2, 2, 1, 2, 0, 0, 0, 1, 1, 1, 2, 1, 1, 1], \"mark\": 1}, \"reward\": 0.5, \"status\": \"ACTIVE\"}, {\"action\": 3, \"info\": {}, \"observation\": {\"board\": [2, 2, 0, 0, 0, 0, 0, 1, 1, 1, 0, 0, 0, 0, 2, 2, 2, 0, 0, 0, 0, 2, 2, 1, 0, 0, 0, 0, 2, 2, 1, 2, 0, 0, 0, 1, 1, 1, 2, 1, 1, 1], \"mark\": 2}, \"reward\": 0.5, \"status\": \"INACTIVE\"}], [{\"action\": 3, \"info\": {}, \"observation\": {\"board\": [2, 2, 0, 0, 0, 0, 0, 1, 1, 1, 0, 0, 0, 0, 2, 2, 2, 0, 0, 0, 0, 2, 2, 1, 1, 0, 0, 0, 2, 2, 1, 2, 0, 0, 0, 1, 1, 1, 2, 1, 1, 1], \"mark\": 1}, \"reward\": 0.5, \"status\": \"INACTIVE\"}, {\"action\": 0, \"info\": {}, \"observation\": {\"board\": [2, 2, 0, 0, 0, 0, 0, 1, 1, 1, 0, 0, 0, 0, 2, 2, 2, 0, 0, 0, 0, 2, 2, 1, 1, 0, 0, 0, 2, 2, 1, 2, 0, 0, 0, 1, 1, 1, 2, 1, 1, 1], \"mark\": 2}, \"reward\": 0.5, \"status\": \"ACTIVE\"}], [{\"action\": 0, \"info\": {}, \"observation\": {\"board\": [2, 2, 0, 0, 0, 0, 0, 1, 1, 1, 0, 0, 0, 0, 2, 2, 2, 2, 0, 0, 0, 2, 2, 1, 1, 0, 0, 0, 2, 2, 1, 2, 0, 0, 0, 1, 1, 1, 2, 1, 1, 1], \"mark\": 1}, \"reward\": 0, \"status\": \"DONE\"}, {\"action\": 3, \"info\": {}, \"observation\": {\"board\": [2, 2, 0, 0, 0, 0, 0, 1, 1, 1, 0, 0, 0, 0, 2, 2, 2, 2, 0, 0, 0, 2, 2, 1, 1, 0, 0, 0, 2, 2, 1, 2, 0, 0, 0, 1, 1, 1, 2, 1, 1, 1], \"mark\": 2}, \"reward\": 1, \"status\": \"DONE\"}]], \"title\": \"ConnectX\", \"version\": \"1.0.0\"}'},\n",
       " 'wasSuccessful': True}"
      ]
     },
     "execution_count": 13,
     "metadata": {},
     "output_type": "execute_result"
    }
   ],
   "source": [
    "# Returns the episode replay json for a particular episode id\n",
    "get_episode_replay(100000)"
   ]
  },
  {
   "cell_type": "markdown",
   "metadata": {
    "Collapsed": "true"
   },
   "source": [
    "### Generate Gameplay Data"
   ]
  },
  {
   "cell_type": "code",
   "execution_count": 75,
   "metadata": {
    "Collapsed": "false"
   },
   "outputs": [],
   "source": [
    "env = make(\"halite\", debug=True)\n",
    "trainer = env.train([None, \"random\", \"random\", \"random\"])\n",
    "obs = trainer.reset()"
   ]
  },
  {
   "cell_type": "code",
   "execution_count": 76,
   "metadata": {
    "Collapsed": "false"
   },
   "outputs": [],
   "source": [
    "hist = {\n",
    "    'obs': list(),\n",
    "    'reward': list(),\n",
    "    'done': list(),\n",
    "    'info': list(),\n",
    "}"
   ]
  },
  {
   "cell_type": "code",
   "execution_count": 77,
   "metadata": {
    "Collapsed": "false"
   },
   "outputs": [],
   "source": [
    "done = False\n",
    "while not done:\n",
    "    action = 'NORTH' # Action for the agent being trained.\n",
    "    obs, reward, done, info = trainer.step(action)\n",
    "    hist['obs'].append(obs)\n",
    "    hist['reward'].append(reward)\n",
    "    hist['done'].append(done)\n",
    "    hist['info'].append(info)"
   ]
  },
  {
   "cell_type": "code",
   "execution_count": 78,
   "metadata": {
    "Collapsed": "false"
   },
   "outputs": [],
   "source": [
    "env.render()"
   ]
  },
  {
   "cell_type": "code",
   "execution_count": 84,
   "metadata": {
    "Collapsed": "false"
   },
   "outputs": [
    {
     "data": {
      "text/plain": [
       "dict_keys(['halite', 'players', 'player', 'step'])"
      ]
     },
     "execution_count": 84,
     "metadata": {},
     "output_type": "execute_result"
    }
   ],
   "source": [
    "hist['obs'][0].keys()"
   ]
  },
  {
   "cell_type": "code",
   "execution_count": 98,
   "metadata": {
    "Collapsed": "false"
   },
   "outputs": [
    {
     "data": {
      "text/plain": [
       "[[5000, {}, {'0-1': [110, 0]}],\n",
       " [4000, {'4-1': 101}, {'5-1': [58, 18]}],\n",
       " [3535, {'1-1': 320}, {'2-1': [321, 0], '8-1': [297, 0]}],\n",
       " [3000, {'4-2': 328}, {'5-2': [349, 26], '7-1': [284, 0], '11-1': [328, 0]}]]"
      ]
     },
     "execution_count": 98,
     "metadata": {},
     "output_type": "execute_result"
    }
   ],
   "source": [
    "hist['obs'][10]['players']"
   ]
  },
  {
   "cell_type": "code",
   "execution_count": null,
   "metadata": {
    "Collapsed": "false"
   },
   "outputs": [],
   "source": [
    "env = make(\"halite\", debug=True)\n",
    "env.run([\"random\", \"random\", \"random\", \"random\"])\n",
    "env.render(mode=\"ipython\", width=800, height=600)"
   ]
  }
 ],
 "metadata": {
  "kernelspec": {
   "display_name": "halite",
   "language": "python",
   "name": "halite"
  },
  "language_info": {
   "codemirror_mode": {
    "name": "ipython",
    "version": 3
   },
   "file_extension": ".py",
   "mimetype": "text/x-python",
   "name": "python",
   "nbconvert_exporter": "python",
   "pygments_lexer": "ipython3",
   "version": "3.7.3"
  }
 },
 "nbformat": 4,
 "nbformat_minor": 4
}
