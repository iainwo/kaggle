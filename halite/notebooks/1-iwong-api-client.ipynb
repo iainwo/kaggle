{
 "cells": [
  {
   "cell_type": "markdown",
   "metadata": {
    "Collapsed": "false"
   },
   "source": [
    "# Kaggle Halite Episode Service API Client"
   ]
  },
  {
   "cell_type": "markdown",
   "metadata": {
    "Collapsed": "false"
   },
   "source": [
    "__Purpose is to make an API and program to fetch data from Kaggle__"
   ]
  },
  {
   "cell_type": "markdown",
   "metadata": {
    "Collapsed": "false"
   },
   "source": [
    "## Kaggle Halite API Endpoints"
   ]
  },
  {
   "cell_type": "markdown",
   "metadata": {
    "Collapsed": "false"
   },
   "source": [
    "Kaggle's Sam Harris release an API to pull Halite match data from games hosted on Kaggle.\n",
    "- Post documenting API: https://www.kaggle.com/c/halite/discussion/164932\n",
    "- API Wrapper here: https://github.com/Kaggle/kaggle-environments/blob/master/kaggle_environments/api.py\n",
    "- API service is located at: https://www.kaggle.com/requests/EpisodeService/"
   ]
  },
  {
   "cell_type": "markdown",
   "metadata": {
    "Collapsed": "false"
   },
   "source": [
    "#### GetEpisodeReplay Endpoint"
   ]
  },
  {
   "cell_type": "markdown",
   "metadata": {
    "Collapsed": "false"
   },
   "source": [
    "- URL: 'https://www.kaggle.com/requests/EpisodeService/GetEpisodeReplay'\n",
    "- Verb: Post\n",
    "- Schema: JSON\n",
    "- JSON Payload: {\"EpisodeId\": episode_id} # int"
   ]
  },
  {
   "cell_type": "markdown",
   "metadata": {
    "Collapsed": "false"
   },
   "source": [
    "#### ListEpisodes Endpoint"
   ]
  },
  {
   "cell_type": "markdown",
   "metadata": {
    "Collapsed": "false"
   },
   "source": [
    "- URL: 'https://www.kaggle.com/requests/EpisodeService/ListEpisodes'\n",
    "- Verb: Post\n",
    "- Schema: JSON\n",
    "- JSON Payload:\n",
    "    - {\"Ids\": episode_ids} # List[int]\n",
    "    - {\"TeamId\": team_id} # int\n",
    "    - {\"SubmissionId\": submission_id} # int"
   ]
  },
  {
   "cell_type": "markdown",
   "metadata": {
    "Collapsed": "false"
   },
   "source": [
    "## Kaggle Halite API Client Implementation"
   ]
  },
  {
   "cell_type": "code",
   "execution_count": 48,
   "metadata": {
    "Collapsed": "false"
   },
   "outputs": [],
   "source": [
    "__version__ = '0.0.1'\n",
    "\n",
    "\n",
    "from urllib.parse import urljoin\n",
    "import inspect\n",
    "import requests\n",
    "\n",
    "class KaggleClient(object):\n",
    "    \"\"\" A Kaggle Halite Episode Service API wrapper. \"\"\"\n",
    "    \n",
    "    def __init__(self):\n",
    "        self.requester = self.Requester()\n",
    "        self._attach_endpoints()\n",
    "        \n",
    "    def _attach_endpoints(self):\n",
    "        \"\"\" Generate and attach endpoints \"\"\"\n",
    "        for name, endpoint in inspect.getmembers(self):\n",
    "            if (inspect.isclass(endpoint) \n",
    "                and issubclass(endpoint, self._Endpoint) \n",
    "                and endpoint is not self._Endpoint):\n",
    "                endpoint_instance = endpoint(self.requester)\n",
    "                setattr(self, endpoint.name, endpoint_instance)\n",
    "    \n",
    "    class Requester(object):\n",
    "        \"\"\" An object for making API requests \"\"\"\n",
    "        \n",
    "        def GET(self, url, params=None, json=None):\n",
    "            if None is params:\n",
    "                params = dict()\n",
    "            if None is json:\n",
    "                json = dict()\n",
    "    \n",
    "            params.setdefault('datatype', 'json')\n",
    "            response = requests.post(url, params=params, json=json)\n",
    "            if 200 != response.status_code:\n",
    "                error = 'HTTPError: {}'.format(response.status_code)\n",
    "                return {'success': False, 'error': error}\n",
    "            try:\n",
    "                return response.json()\n",
    "            except ValueError as err:\n",
    "                return {'success': False, 'error': err}\n",
    "        \n",
    "    class _Endpoint(object):\n",
    "        \"\"\" Base class of an endpoint \"\"\"\n",
    "        url = 'https://www.kaggle.com/requests/EpisodeService/'\n",
    "        \n",
    "        def __init__(self, requester):\n",
    "            self.requester = requester            \n",
    "        \n",
    "        def _GET(self, path, params=None, json=None):\n",
    "            request_url = urljoin(self.url, path)\n",
    "            #print(f'url: {self.url}, request_url: {request_url}, path: {path}')\n",
    "            return self.requester.GET(request_url, params, json)\n",
    "    \n",
    "    class Replay(_Endpoint):\n",
    "        name = 'replay'\n",
    "        \n",
    "        def episode(self, episode_id, params=None):\n",
    "            json = {\"EpisodeId\": episode_id}\n",
    "            return self._GET('GetEpisodeReplay', params, json)\n",
    "        \n",
    "    class Episodes(_Endpoint):\n",
    "        name = 'episodes'\n",
    "\n",
    "        def episodes(self, episode_ids, params=None):\n",
    "            json = {'Ids': episode_ids}\n",
    "            return self._GET('ListEpisodes', params, json)\n",
    "        \n",
    "        def team(self, team_id, params=None):\n",
    "            json = {'TeamId': team_id}\n",
    "            return self._GET('ListEpisodes', params, json)\n",
    "        \n",
    "        def submission(self, submission_id, params=None):\n",
    "            json = {'SubmissionId': submission_id}\n",
    "            return self._GET('ListEpisodes', params, json)"
   ]
  },
  {
   "cell_type": "code",
   "execution_count": 49,
   "metadata": {
    "Collapsed": "false"
   },
   "outputs": [],
   "source": [
    "api = KaggleClient()"
   ]
  },
  {
   "cell_type": "code",
   "execution_count": 41,
   "metadata": {
    "Collapsed": "false"
   },
   "outputs": [],
   "source": [
    "json = api.episodes.team(TEAM_ID)"
   ]
  },
  {
   "cell_type": "code",
   "execution_count": 42,
   "metadata": {
    "Collapsed": "false"
   },
   "outputs": [
    {
     "data": {
      "text/plain": [
       "dict_keys(['result', 'wasSuccessful'])"
      ]
     },
     "execution_count": 42,
     "metadata": {},
     "output_type": "execute_result"
    }
   ],
   "source": [
    "json.keys()"
   ]
  },
  {
   "cell_type": "code",
   "execution_count": 44,
   "metadata": {
    "Collapsed": "false"
   },
   "outputs": [
    {
     "data": {
      "text/plain": [
       "dict_keys(['episodes', 'teams'])"
      ]
     },
     "execution_count": 44,
     "metadata": {},
     "output_type": "execute_result"
    }
   ],
   "source": [
    "json['result'].keys()"
   ]
  },
  {
   "cell_type": "code",
   "execution_count": 46,
   "metadata": {
    "Collapsed": "false"
   },
   "outputs": [
    {
     "data": {
      "text/plain": [
       "dict_keys(['id', 'competitionId', 'createTime', 'endTime', 'replayUrl', 'adminNotes', 'state', 'type', 'agents'])"
      ]
     },
     "execution_count": 46,
     "metadata": {},
     "output_type": "execute_result"
    }
   ],
   "source": [
    "json['result']['episodes'][0].keys()"
   ]
  }
 ],
 "metadata": {
  "kernelspec": {
   "display_name": "Python 3",
   "language": "python",
   "name": "python3"
  },
  "language_info": {
   "codemirror_mode": {
    "name": "ipython",
    "version": 3
   },
   "file_extension": ".py",
   "mimetype": "text/x-python",
   "name": "python",
   "nbconvert_exporter": "python",
   "pygments_lexer": "ipython3",
   "version": "3.7.3"
  }
 },
 "nbformat": 4,
 "nbformat_minor": 4
}
