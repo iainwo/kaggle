{
 "cells": [
  {
   "cell_type": "markdown",
   "metadata": {
    "Collapsed": "false"
   },
   "source": [
    "# Fetch Data API Client"
   ]
  },
  {
   "cell_type": "markdown",
   "metadata": {
    "Collapsed": "false"
   },
   "source": [
    "__Purpose is to make an API and program to fetch data from Kaggle__"
   ]
  },
  {
   "cell_type": "markdown",
   "metadata": {
    "Collapsed": "false"
   },
   "source": [
    "## Kaggle Halite API Endpoints"
   ]
  },
  {
   "cell_type": "code",
   "execution_count": 53,
   "metadata": {
    "Collapsed": "false"
   },
   "outputs": [],
   "source": [
    "# Kaggle Limits (https://www.kaggle.com/c/halite/discussion/164932)\n",
    "#    1000 requests per day max;  Rate limits are shared between the ListEpisodes and GetEpisodeReplay endpoints\n",
    "#    Exceeding limits repeatedly will lead to temporary and then permanent bans"
   ]
  },
  {
   "cell_type": "markdown",
   "metadata": {
    "Collapsed": "false"
   },
   "source": [
    "Kaggle's Sam Harris release an API to pull Halite match data from games hosted on Kaggle.\n",
    "- Post documenting API: https://www.kaggle.com/c/halite/discussion/164932\n",
    "- API Wrapper here: https://github.com/Kaggle/kaggle-environments/blob/master/kaggle_environments/api.py\n",
    "- API service is located at: https://www.kaggle.com/requests/EpisodeService/"
   ]
  },
  {
   "cell_type": "markdown",
   "metadata": {
    "Collapsed": "false"
   },
   "source": [
    "#### GetEpisodeReplay Endpoint"
   ]
  },
  {
   "cell_type": "markdown",
   "metadata": {
    "Collapsed": "false"
   },
   "source": [
    "- URL: 'https://www.kaggle.com/requests/EpisodeService/GetEpisodeReplay'\n",
    "- Verb: Post\n",
    "- Schema: JSON\n",
    "- JSON Payload: {\"EpisodeId\": episode_id} # int"
   ]
  },
  {
   "cell_type": "markdown",
   "metadata": {
    "Collapsed": "false"
   },
   "source": [
    "#### ListEpisodes Endpoint"
   ]
  },
  {
   "cell_type": "markdown",
   "metadata": {
    "Collapsed": "false"
   },
   "source": [
    "- URL: 'https://www.kaggle.com/requests/EpisodeService/ListEpisodes'\n",
    "- Verb: Post\n",
    "- Schema: JSON\n",
    "- JSON Payload:\n",
    "    - {\"Ids\": episode_ids} # List[int]\n",
    "    - {\"TeamId\": team_id} # int\n",
    "    - {\"SubmissionId\": submission_id} # int"
   ]
  },
  {
   "cell_type": "code",
   "execution_count": null,
   "metadata": {
    "Collapsed": "false"
   },
   "outputs": [],
   "source": [
    "base_url = \"https://www.kaggle.com/requests/EpisodeService/\"\n",
    "get_url = base_url + \"GetEpisodeReplay\"\n",
    "list_url = base_url + \"ListEpisodes\""
   ]
  },
  {
   "cell_type": "code",
   "execution_count": null,
   "metadata": {
    "Collapsed": "false"
   },
   "outputs": [],
   "source": []
  },
  {
   "cell_type": "code",
   "execution_count": null,
   "metadata": {
    "Collapsed": "false"
   },
   "outputs": [],
   "source": [
    "import requests\n",
    "\n",
    "from typing import *\n",
    "\n",
    "base_url = \"https://www.kaggle.com/requests/EpisodeService/\"\n",
    "get_url = base_url + \"GetEpisodeReplay\"\n",
    "list_url = base_url + \"ListEpisodes\"\n",
    "\n",
    "\n",
    "def get_episode_replay(episode_id: int):\n",
    "    body = {\n",
    "        \"EpisodeId\": episode_id\n",
    "    }\n",
    "\n",
    "    response = requests.post(get_url, json=body)\n",
    "    return response.json()\n",
    "\n",
    "\n",
    "def list_episodes(episode_ids: List[int]):\n",
    "    return __list_episodes({\n",
    "        \"Ids\": episode_ids\n",
    "    })\n",
    "\n",
    "\n",
    "def list_episodes_for_team(team_id: int):\n",
    "    return __list_episodes({\n",
    "        \"TeamId\": team_id\n",
    "    })\n",
    "\n",
    "\n",
    "def list_episodes_for_submission(submission_id: int):\n",
    "    return __list_episodes({\n",
    "        \"SubmissionId\": submission_id\n",
    "    })\n",
    "\n",
    "\n",
    "def __list_episodes(body):\n",
    "    response = requests.post(list_url, json=body)\n",
    "    return response.json()"
   ]
  },
  {
   "cell_type": "code",
   "execution_count": 48,
   "metadata": {
    "Collapsed": "false"
   },
   "outputs": [],
   "source": [
    "__version__ = '0.0.1'\n",
    "\n",
    "\n",
    "from urllib.parse import urljoin\n",
    "import inspect\n",
    "import requests\n",
    "\n",
    "class KaggleClient(object):\n",
    "    \"\"\" A Kaggle Halite Episode Service API wrapper. \"\"\"\n",
    "    \n",
    "    def __init__(self):\n",
    "        self.requester = self.Requester()\n",
    "        self._attach_endpoints()\n",
    "        \n",
    "    def _attach_endpoints(self):\n",
    "        \"\"\" Generate and attach endpoints \"\"\"\n",
    "        for name, endpoint in inspect.getmembers(self):\n",
    "            if (inspect.isclass(endpoint) \n",
    "                and issubclass(endpoint, self._Endpoint) \n",
    "                and endpoint is not self._Endpoint):\n",
    "                endpoint_instance = endpoint(self.requester)\n",
    "                setattr(self, endpoint.name, endpoint_instance)\n",
    "    \n",
    "    class Requester(object):\n",
    "        \"\"\" An object for making API requests \"\"\"\n",
    "        \n",
    "        def GET(self, url, params=None, json=None):\n",
    "            if None is params:\n",
    "                params = dict()\n",
    "            if None is json:\n",
    "                json = dict()\n",
    "    \n",
    "            params.setdefault('datatype', 'json')\n",
    "            response = requests.post(url, params=params, json=json)\n",
    "            if 200 != response.status_code:\n",
    "                error = 'HTTPError: {}'.format(response.status_code)\n",
    "                return {'success': False, 'error': error}\n",
    "            try:\n",
    "                return response.json()\n",
    "            except ValueError as err:\n",
    "                return {'success': False, 'error': err}\n",
    "        \n",
    "    class _Endpoint(object):\n",
    "        \"\"\" Base class of an endpoint \"\"\"\n",
    "        url = 'https://www.kaggle.com/requests/EpisodeService/'\n",
    "        \n",
    "        def __init__(self, requester):\n",
    "            self.requester = requester            \n",
    "        \n",
    "        def _GET(self, path, params=None, json=None):\n",
    "            request_url = urljoin(self.url, path)\n",
    "            #print(f'url: {self.url}, request_url: {request_url}, path: {path}')\n",
    "            return self.requester.GET(request_url, params, json)\n",
    "    \n",
    "    class Replay(_Endpoint):\n",
    "        name = 'replay'\n",
    "        \n",
    "        def episode(self, episode_id, params=None):\n",
    "            json = {\"EpisodeId\": episode_id}\n",
    "            return self._GET('GetEpisodeReplay', params, json)\n",
    "        \n",
    "    class Episodes(_Endpoint):\n",
    "        name = 'episodes'\n",
    "\n",
    "        def episodes(self, episode_ids, params=None):\n",
    "            json = {'Ids': episode_ids}\n",
    "            return self._GET('ListEpisodes', params, json)\n",
    "        \n",
    "        def team(self, team_id, params=None):\n",
    "            json = {'TeamId': team_id}\n",
    "            return self._GET('ListEpisodes', params, json)\n",
    "        \n",
    "        def submission(self, submission_id, params=None):\n",
    "            json = {'SubmissionId': submission_id}\n",
    "            return self._GET('ListEpisodes', params, json)"
   ]
  },
  {
   "cell_type": "code",
   "execution_count": 49,
   "metadata": {
    "Collapsed": "false"
   },
   "outputs": [],
   "source": [
    "api = KaggleClient()"
   ]
  },
  {
   "cell_type": "code",
   "execution_count": 41,
   "metadata": {
    "Collapsed": "false"
   },
   "outputs": [],
   "source": [
    "json = api.episodes.team(TEAM_ID)"
   ]
  },
  {
   "cell_type": "code",
   "execution_count": 42,
   "metadata": {
    "Collapsed": "false"
   },
   "outputs": [
    {
     "data": {
      "text/plain": [
       "dict_keys(['result', 'wasSuccessful'])"
      ]
     },
     "execution_count": 42,
     "metadata": {},
     "output_type": "execute_result"
    }
   ],
   "source": [
    "json.keys()"
   ]
  },
  {
   "cell_type": "code",
   "execution_count": 44,
   "metadata": {
    "Collapsed": "false"
   },
   "outputs": [
    {
     "data": {
      "text/plain": [
       "dict_keys(['episodes', 'teams'])"
      ]
     },
     "execution_count": 44,
     "metadata": {},
     "output_type": "execute_result"
    }
   ],
   "source": [
    "json['result'].keys()"
   ]
  },
  {
   "cell_type": "code",
   "execution_count": 46,
   "metadata": {
    "Collapsed": "false"
   },
   "outputs": [
    {
     "data": {
      "text/plain": [
       "dict_keys(['id', 'competitionId', 'createTime', 'endTime', 'replayUrl', 'adminNotes', 'state', 'type', 'agents'])"
      ]
     },
     "execution_count": 46,
     "metadata": {},
     "output_type": "execute_result"
    }
   ],
   "source": [
    "json['result']['episodes'][0].keys()"
   ]
  },
  {
   "cell_type": "code",
   "execution_count": 4,
   "metadata": {
    "Collapsed": "false"
   },
   "outputs": [],
   "source": [
    "NUM_TEAMS = 1\n",
    "EPISODES = 300\n",
    "MIN_RATING = 1000"
   ]
  },
  {
   "cell_type": "markdown",
   "metadata": {
    "Collapsed": "false"
   },
   "source": [
    "### Initialize"
   ]
  },
  {
   "cell_type": "code",
   "execution_count": 5,
   "metadata": {
    "Collapsed": "false"
   },
   "outputs": [],
   "source": [
    "# !pip install kaggle-environments --upgrade"
   ]
  },
  {
   "cell_type": "code",
   "execution_count": 5,
   "metadata": {
    "Collapsed": "false"
   },
   "outputs": [],
   "source": [
    "import pandas as pd\n",
    "import numpy as np\n",
    "import os"
   ]
  },
  {
   "cell_type": "code",
   "execution_count": 6,
   "metadata": {
    "Collapsed": "false"
   },
   "outputs": [],
   "source": [
    "import requests\n",
    "import json\n",
    "from zipfile import ZipFile"
   ]
  },
  {
   "cell_type": "code",
   "execution_count": 7,
   "metadata": {
    "Collapsed": "false"
   },
   "outputs": [],
   "source": [
    "import datetime\n",
    "import time"
   ]
  },
  {
   "cell_type": "code",
   "execution_count": 8,
   "metadata": {
    "Collapsed": "false"
   },
   "outputs": [],
   "source": [
    "import matplotlib.pyplot as plt\n",
    "plt.rcParams['figure.figsize'] = (10, 4)"
   ]
  },
  {
   "cell_type": "code",
   "execution_count": 9,
   "metadata": {
    "Collapsed": "false"
   },
   "outputs": [],
   "source": [
    "base_url = \"https://www.kaggle.com/requests/EpisodeService/\"\n",
    "get_url = base_url + \"GetEpisodeReplay\"\n",
    "list_url = base_url + \"ListEpisodes\""
   ]
  },
  {
   "cell_type": "markdown",
   "metadata": {
    "Collapsed": "false"
   },
   "source": [
    "### Get Initial Team List"
   ]
  },
  {
   "cell_type": "code",
   "execution_count": 24,
   "metadata": {
    "Collapsed": "false"
   },
   "outputs": [],
   "source": [
    "def get_teams(team_id):\n",
    "    r = requests.post(list_url, json = {\"teamId\":  5118174})\n",
    "    rj = r.json()\n",
    "    teams_df = pd.DataFrame(rj['result']['teams'])\n",
    "    teams_df.sort_values('publicLeaderboardRank', inplace = True)\n",
    "    return teams_df"
   ]
  },
  {
   "cell_type": "code",
   "execution_count": 25,
   "metadata": {
    "Collapsed": "false"
   },
   "outputs": [],
   "source": [
    "TEAM_ID = 5118174"
   ]
  },
  {
   "cell_type": "code",
   "execution_count": 26,
   "metadata": {
    "Collapsed": "false"
   },
   "outputs": [],
   "source": [
    "df = get_teams(TEAM_ID)"
   ]
  },
  {
   "cell_type": "code",
   "execution_count": 33,
   "metadata": {
    "Collapsed": "false"
   },
   "outputs": [
    {
     "data": {
      "text/plain": [
       "(430, 20)"
      ]
     },
     "execution_count": 33,
     "metadata": {},
     "output_type": "execute_result"
    }
   ],
   "source": [
    "df.shape"
   ]
  },
  {
   "cell_type": "code",
   "execution_count": 27,
   "metadata": {
    "Collapsed": "false"
   },
   "outputs": [
    {
     "data": {
      "text/html": [
       "<div>\n",
       "<style scoped>\n",
       "    .dataframe tbody tr th:only-of-type {\n",
       "        vertical-align: middle;\n",
       "    }\n",
       "\n",
       "    .dataframe tbody tr th {\n",
       "        vertical-align: top;\n",
       "    }\n",
       "\n",
       "    .dataframe thead th {\n",
       "        text-align: right;\n",
       "    }\n",
       "</style>\n",
       "<table border=\"1\" class=\"dataframe\">\n",
       "  <thead>\n",
       "    <tr style=\"text-align: right;\">\n",
       "      <th></th>\n",
       "      <th>competition</th>\n",
       "      <th>competitionId</th>\n",
       "      <th>createdAfterDeadline</th>\n",
       "      <th>dateMedalAwarded</th>\n",
       "      <th>id</th>\n",
       "      <th>inboundMergeRequests</th>\n",
       "      <th>isBenchmark</th>\n",
       "      <th>lastSubmissionDate</th>\n",
       "      <th>medal</th>\n",
       "      <th>outboundMergeRequests</th>\n",
       "      <th>privateLeaderboardRank</th>\n",
       "      <th>privateLeaderboardScore</th>\n",
       "      <th>privateLeaderboardSubmissionId</th>\n",
       "      <th>publicLeaderboardRank</th>\n",
       "      <th>publicLeaderboardScore</th>\n",
       "      <th>publicLeaderboardSubmissionId</th>\n",
       "      <th>submissionCount</th>\n",
       "      <th>teamLeaderId</th>\n",
       "      <th>teamMembers</th>\n",
       "      <th>teamName</th>\n",
       "    </tr>\n",
       "  </thead>\n",
       "  <tbody>\n",
       "    <tr>\n",
       "      <th>107</th>\n",
       "      <td>None</td>\n",
       "      <td>18011</td>\n",
       "      <td>False</td>\n",
       "      <td>None</td>\n",
       "      <td>5118779</td>\n",
       "      <td>[]</td>\n",
       "      <td>False</td>\n",
       "      <td>{'seconds': 1594329190, 'nanos': 513333300}</td>\n",
       "      <td>0</td>\n",
       "      <td>[]</td>\n",
       "      <td>None</td>\n",
       "      <td>None</td>\n",
       "      <td>None</td>\n",
       "      <td>1</td>\n",
       "      <td>None</td>\n",
       "      <td>16454608</td>\n",
       "      <td>9</td>\n",
       "      <td>80203</td>\n",
       "      <td>[]</td>\n",
       "      <td>mzotkiew</td>\n",
       "    </tr>\n",
       "    <tr>\n",
       "      <th>208</th>\n",
       "      <td>None</td>\n",
       "      <td>18011</td>\n",
       "      <td>False</td>\n",
       "      <td>None</td>\n",
       "      <td>5133228</td>\n",
       "      <td>[]</td>\n",
       "      <td>False</td>\n",
       "      <td>{'seconds': 1594936671, 'nanos': 950000000}</td>\n",
       "      <td>0</td>\n",
       "      <td>[]</td>\n",
       "      <td>None</td>\n",
       "      <td>None</td>\n",
       "      <td>None</td>\n",
       "      <td>2</td>\n",
       "      <td>None</td>\n",
       "      <td>16425049</td>\n",
       "      <td>26</td>\n",
       "      <td>5330482</td>\n",
       "      <td>[]</td>\n",
       "      <td>Robiland</td>\n",
       "    </tr>\n",
       "    <tr>\n",
       "      <th>21</th>\n",
       "      <td>None</td>\n",
       "      <td>18011</td>\n",
       "      <td>False</td>\n",
       "      <td>None</td>\n",
       "      <td>4820508</td>\n",
       "      <td>[]</td>\n",
       "      <td>False</td>\n",
       "      <td>{'seconds': 1594939322, 'nanos': 340000000}</td>\n",
       "      <td>0</td>\n",
       "      <td>[]</td>\n",
       "      <td>None</td>\n",
       "      <td>None</td>\n",
       "      <td>None</td>\n",
       "      <td>3</td>\n",
       "      <td>None</td>\n",
       "      <td>16362931</td>\n",
       "      <td>60</td>\n",
       "      <td>4941914</td>\n",
       "      <td>[]</td>\n",
       "      <td>Team VQ</td>\n",
       "    </tr>\n",
       "    <tr>\n",
       "      <th>147</th>\n",
       "      <td>None</td>\n",
       "      <td>18011</td>\n",
       "      <td>False</td>\n",
       "      <td>None</td>\n",
       "      <td>5124482</td>\n",
       "      <td>[]</td>\n",
       "      <td>False</td>\n",
       "      <td>{'seconds': 1594292899, 'nanos': 0}</td>\n",
       "      <td>0</td>\n",
       "      <td>[]</td>\n",
       "      <td>None</td>\n",
       "      <td>None</td>\n",
       "      <td>None</td>\n",
       "      <td>4</td>\n",
       "      <td>None</td>\n",
       "      <td>16449795</td>\n",
       "      <td>11</td>\n",
       "      <td>4788543</td>\n",
       "      <td>[]</td>\n",
       "      <td>Sergey Stupin</td>\n",
       "    </tr>\n",
       "    <tr>\n",
       "      <th>7</th>\n",
       "      <td>None</td>\n",
       "      <td>18011</td>\n",
       "      <td>False</td>\n",
       "      <td>None</td>\n",
       "      <td>4714287</td>\n",
       "      <td>[]</td>\n",
       "      <td>False</td>\n",
       "      <td>{'seconds': 1594416886, 'nanos': 153333300}</td>\n",
       "      <td>0</td>\n",
       "      <td>[]</td>\n",
       "      <td>None</td>\n",
       "      <td>None</td>\n",
       "      <td>None</td>\n",
       "      <td>5</td>\n",
       "      <td>None</td>\n",
       "      <td>16466155</td>\n",
       "      <td>2</td>\n",
       "      <td>582611</td>\n",
       "      <td>[]</td>\n",
       "      <td>Tom Van de Wiele</td>\n",
       "    </tr>\n",
       "  </tbody>\n",
       "</table>\n",
       "</div>"
      ],
      "text/plain": [
       "    competition  competitionId  createdAfterDeadline dateMedalAwarded  \\\n",
       "107        None          18011                 False             None   \n",
       "208        None          18011                 False             None   \n",
       "21         None          18011                 False             None   \n",
       "147        None          18011                 False             None   \n",
       "7          None          18011                 False             None   \n",
       "\n",
       "          id inboundMergeRequests  isBenchmark  \\\n",
       "107  5118779                   []        False   \n",
       "208  5133228                   []        False   \n",
       "21   4820508                   []        False   \n",
       "147  5124482                   []        False   \n",
       "7    4714287                   []        False   \n",
       "\n",
       "                              lastSubmissionDate  medal outboundMergeRequests  \\\n",
       "107  {'seconds': 1594329190, 'nanos': 513333300}      0                    []   \n",
       "208  {'seconds': 1594936671, 'nanos': 950000000}      0                    []   \n",
       "21   {'seconds': 1594939322, 'nanos': 340000000}      0                    []   \n",
       "147          {'seconds': 1594292899, 'nanos': 0}      0                    []   \n",
       "7    {'seconds': 1594416886, 'nanos': 153333300}      0                    []   \n",
       "\n",
       "    privateLeaderboardRank privateLeaderboardScore  \\\n",
       "107                   None                    None   \n",
       "208                   None                    None   \n",
       "21                    None                    None   \n",
       "147                   None                    None   \n",
       "7                     None                    None   \n",
       "\n",
       "    privateLeaderboardSubmissionId  publicLeaderboardRank  \\\n",
       "107                           None                      1   \n",
       "208                           None                      2   \n",
       "21                            None                      3   \n",
       "147                           None                      4   \n",
       "7                             None                      5   \n",
       "\n",
       "    publicLeaderboardScore  publicLeaderboardSubmissionId  submissionCount  \\\n",
       "107                   None                       16454608                9   \n",
       "208                   None                       16425049               26   \n",
       "21                    None                       16362931               60   \n",
       "147                   None                       16449795               11   \n",
       "7                     None                       16466155                2   \n",
       "\n",
       "     teamLeaderId teamMembers          teamName  \n",
       "107         80203          []          mzotkiew  \n",
       "208       5330482          []          Robiland  \n",
       "21        4941914          []           Team VQ  \n",
       "147       4788543          []     Sergey Stupin  \n",
       "7          582611          []  Tom Van de Wiele  "
      ]
     },
     "execution_count": 27,
     "metadata": {},
     "output_type": "execute_result"
    }
   ],
   "source": [
    "df.head()"
   ]
  },
  {
   "cell_type": "code",
   "execution_count": 17,
   "metadata": {
    "Collapsed": "false"
   },
   "outputs": [],
   "source": [
    "def getTeamEpisodes(team_id):\n",
    "    # request\n",
    "    r = requests.post(list_url, json = {\"teamId\":  int(team_id)})\n",
    "    rj = r.json()\n",
    "\n",
    "    # update teams list\n",
    "    global teams_df\n",
    "    teams_df_new = pd.DataFrame(rj['result']['teams'])\n",
    "    \n",
    "    if len(teams_df.columns) == len(teams_df_new.columns) and (teams_df.columns == teams_df_new.columns).all():\n",
    "        teams_df = pd.concat( (teams_df, teams_df_new.loc[[c for c in teams_df_new.index if c not in teams_df.index]] ) )\n",
    "        teams_df.sort_values('publicLeaderboardRank', inplace = True)\n",
    "#         print('{} teams on file'.format(len(teams_df)))\n",
    "    else:\n",
    "        print('teams dataframe did not match')\n",
    "    \n",
    "    # make df\n",
    "    team_episodes = pd.DataFrame(rj['result']['episodes'])\n",
    "    team_episodes['avg_score'] = -1;\n",
    "    \n",
    "    for i in range(len(team_episodes)):\n",
    "        agents = team_episodes['agents'].loc[i]\n",
    "        agent_scores = [a['updatedScore'] for a in agents if a['updatedScore'] is not None]\n",
    "        if len(agent_scores) > 0:\n",
    "            team_episodes.loc[i, 'avg_score'] = np.mean(agent_scores)\n",
    "\n",
    "    team_episodes.sort_values('avg_score', ascending = False, inplace=True)\n",
    "    return rj, team_episodes"
   ]
  },
  {
   "cell_type": "code",
   "execution_count": 18,
   "metadata": {
    "Collapsed": "false"
   },
   "outputs": [],
   "source": [
    "def saveEpisode(epid, rj):\n",
    "    # request\n",
    "    re = requests.post(get_url, json = {\"EpisodeId\": int(epid)})\n",
    "    \n",
    "    # save replay\n",
    "    with open('{}.json'.format(epid), 'w') as f:\n",
    "        f.write(re.json()['result']['replay'])\n",
    "\n",
    "    # save episode info\n",
    "    with open('{}_info.json'.format(epid), 'w') as f:\n",
    "        json.dump([r for r in rj['result']['episodes'] if r['id']==epid][0], f)"
   ]
  },
  {
   "cell_type": "markdown",
   "metadata": {
    "Collapsed": "false"
   },
   "source": [
    "### Scraper"
   ]
  },
  {
   "cell_type": "code",
   "execution_count": 19,
   "metadata": {
    "Collapsed": "false"
   },
   "outputs": [],
   "source": [
    "all_files = []\n",
    "for root, dirs, files in os.walk('../input/', topdown=False):\n",
    "    all_files.extend(files)"
   ]
  },
  {
   "cell_type": "code",
   "execution_count": 20,
   "metadata": {
    "Collapsed": "false"
   },
   "outputs": [],
   "source": [
    "seen_episodes = [int(f.split('.')[0]) for f in all_files \n",
    "                      if '.' in f and f.split('.')[0].isdigit() and f.split('.')[1] == 'json']"
   ]
  },
  {
   "cell_type": "code",
   "execution_count": 21,
   "metadata": {
    "Collapsed": "false"
   },
   "outputs": [
    {
     "name": "stdout",
     "output_type": "stream",
     "text": [
      "3450 games in existing library\n"
     ]
    }
   ],
   "source": [
    "print('{} games in existing library'.format(len(seen_episodes)))"
   ]
  },
  {
   "cell_type": "code",
   "execution_count": 22,
   "metadata": {
    "Collapsed": "false"
   },
   "outputs": [
    {
     "name": "stdout",
     "output_type": "stream",
     "text": [
      "8607 games for Team VQ\n",
      "   4737 with top competition\n",
      "      2194 remain to be downloaded\n",
      "\n",
      "Saved Episode #1506751 @ 2.2MB\n",
      "Saved Episode #1506726 @ 2.1MB\n",
      "Saved Episode #1506451 @ 2.3MB\n",
      "Saved Episode #1506461 @ 2.2MB\n",
      "Saved Episode #1506160 @ 2.1MB\n",
      "Saved Episode #1506565 @ 2.2MB\n",
      "Saved Episode #1506718 @ 2.1MB\n",
      "Saved Episode #1506125 @ 2.2MB\n",
      "Saved Episode #1506704 @ 2.2MB\n",
      "Saved Episode #1506706 @ 2.0MB\n",
      "Saved Episode #1506743 @ 2.1MB\n",
      "Saved Episode #1474264 @ 2.1MB\n",
      "Saved Episode #1314364 @ 1.9MB\n",
      "Saved Episode #1480700 @ 2.1MB\n",
      "Saved Episode #1382463 @ 2.2MB\n",
      "Saved Episode #1463325 @ 2.3MB\n",
      "Saved Episode #1331011 @ 2.0MB\n",
      "Saved Episode #1279811 @ 2.0MB\n",
      "Saved Episode #1220385 @ 2.0MB\n",
      "Saved Episode #1389284 @ 2.3MB\n",
      "Saved Episode #1422077 @ 2.0MB\n",
      "Saved Episode #1385812 @ 2.1MB\n",
      "Saved Episode #1499655 @ 2.0MB\n",
      "Saved Episode #1276599 @ 2.0MB\n",
      "Saved Episode #1321688 @ 1.9MB\n",
      "Saved Episode #1394517 @ 2.3MB\n",
      "Saved Episode #1343739 @ 2.1MB\n",
      "Saved Episode #1498730 @ 1.8MB\n",
      "Saved Episode #1343091 @ 1.8MB\n",
      "Saved Episode #1446927 @ 2.1MB\n",
      "Saved Episode #1413662 @ 2.0MB\n",
      "Saved Episode #1492274 @ 2.2MB\n",
      "Saved Episode #1284626 @ 2.1MB\n",
      "Saved Episode #1295906 @ 2.0MB\n",
      "Saved Episode #1355087 @ 2.0MB\n",
      "Saved Episode #1353426 @ 2.0MB\n",
      "Saved Episode #1335697 @ 2.2MB\n",
      "Saved Episode #1346082 @ 2.1MB\n",
      "Saved Episode #1304189 @ 2.1MB\n",
      "Saved Episode #1412341 @ 2.0MB\n",
      "Saved Episode #1464332 @ 2.3MB\n",
      "Saved Episode #1357682 @ 2.0MB\n",
      "Saved Episode #1375494 @ 2.0MB\n",
      "Saved Episode #1335694 @ 2.0MB\n",
      "Saved Episode #1373082 @ 2.2MB\n",
      "Saved Episode #1417204 @ 2.1MB\n",
      "Saved Episode #1232523 @ 1.9MB\n",
      "Saved Episode #1414103 @ 2.1MB\n",
      "Saved Episode #1398018 @ 2.0MB\n",
      "Saved Episode #1296411 @ 2.0MB\n",
      "Saved Episode #1219612 @ 2.1MB\n",
      "Saved Episode #1466115 @ 2.1MB\n",
      "Saved Episode #1462418 @ 2.3MB\n",
      "Saved Episode #1484093 @ 2.1MB\n",
      "Saved Episode #1453276 @ 2.1MB\n",
      "Saved Episode #1504238 @ 2.2MB\n",
      "Saved Episode #1274903 @ 2.3MB\n",
      "Saved Episode #1283885 @ 2.0MB\n",
      "Saved Episode #1386211 @ 2.1MB\n",
      "Saved Episode #1375503 @ 2.2MB\n",
      "Saved Episode #1251862 @ 1.9MB\n",
      "Saved Episode #1497597 @ 2.1MB\n",
      "Saved Episode #1418545 @ 1.8MB\n",
      "Saved Episode #1264785 @ 2.0MB\n",
      "Saved Episode #1326493 @ 2.0MB\n",
      "Saved Episode #1378904 @ 2.1MB\n",
      "Saved Episode #1412797 @ 2.4MB\n",
      "Saved Episode #1388417 @ 2.2MB\n",
      "Saved Episode #1457379 @ 2.2MB\n",
      "Saved Episode #1204171 @ 2.1MB\n",
      "Saved Episode #1478354 @ 2.4MB\n",
      "Saved Episode #1235564 @ 1.9MB\n",
      "Saved Episode #1319719 @ 1.9MB\n",
      "Saved Episode #1259744 @ 1.9MB\n",
      "Saved Episode #1335116 @ 2.0MB\n",
      "Saved Episode #1455203 @ 2.0MB\n",
      "Saved Episode #1449744 @ 2.3MB\n",
      "Saved Episode #1407320 @ 2.2MB\n",
      "Saved Episode #1330372 @ 1.9MB\n",
      "Saved Episode #1327035 @ 2.1MB\n",
      "Saved Episode #1428300 @ 2.2MB\n",
      "Saved Episode #1483090 @ 2.2MB\n",
      "Saved Episode #1457546 @ 2.0MB\n",
      "Saved Episode #1271816 @ 2.2MB\n",
      "Saved Episode #1411778 @ 2.2MB\n",
      "Saved Episode #1371985 @ 2.1MB\n",
      "Saved Episode #1361192 @ 1.9MB\n",
      "Saved Episode #1263098 @ 1.9MB\n",
      "Saved Episode #1314349 @ 2.1MB\n",
      "Saved Episode #1286614 @ 2.0MB\n",
      "Saved Episode #1276135 @ 2.0MB\n",
      "Saved Episode #1427136 @ 2.1MB\n",
      "Saved Episode #1435555 @ 2.0MB\n",
      "Saved Episode #1495804 @ 2.0MB\n",
      "Saved Episode #1215412 @ 2.1MB\n",
      "Saved Episode #1384329 @ 2.1MB\n",
      "Saved Episode #1299068 @ 1.8MB\n",
      "Saved Episode #1413097 @ 2.0MB\n",
      "Saved Episode #1243242 @ 1.9MB\n",
      "Saved Episode #1477935 @ 1.9MB\n",
      "Saved Episode #1451196 @ 2.0MB\n",
      "Saved Episode #1327152 @ 1.9MB\n",
      "Saved Episode #1288906 @ 1.9MB\n",
      "Saved Episode #1432313 @ 2.2MB\n",
      "Saved Episode #1466385 @ 2.1MB\n",
      "Saved Episode #1464660 @ 1.9MB\n",
      "Saved Episode #1251871 @ 1.9MB\n",
      "Saved Episode #1330215 @ 1.8MB\n",
      "Saved Episode #1272183 @ 2.0MB\n",
      "Saved Episode #1425640 @ 2.2MB\n",
      "Saved Episode #1446343 @ 1.9MB\n",
      "Saved Episode #1253515 @ 1.9MB\n",
      "Saved Episode #1198895 @ 1.9MB\n",
      "Saved Episode #1459436 @ 2.1MB\n",
      "Saved Episode #1232390 @ 1.9MB\n",
      "Saved Episode #1299059 @ 2.1MB\n",
      "Saved Episode #1397596 @ 2.3MB\n",
      "Saved Episode #1202102 @ 2.0MB\n",
      "Saved Episode #1435723 @ 2.1MB\n",
      "Saved Episode #1318930 @ 1.8MB\n",
      "Saved Episode #1193530 @ 1.9MB\n",
      "Saved Episode #1361176 @ 2.1MB\n",
      "Saved Episode #1424437 @ 2.0MB\n",
      "Saved Episode #1440448 @ 2.2MB\n",
      "Saved Episode #1443935 @ 2.3MB\n",
      "Saved Episode #1392197 @ 2.2MB\n",
      "Saved Episode #1231022 @ 1.9MB\n",
      "Saved Episode #1209711 @ 2.1MB\n",
      "Saved Episode #1330072 @ 2.0MB\n",
      "Saved Episode #1459015 @ 2.4MB\n",
      "Saved Episode #1269249 @ 2.1MB\n",
      "Saved Episode #1333026 @ 2.0MB\n",
      "Saved Episode #1301456 @ 2.0MB\n",
      "Saved Episode #1402128 @ 2.0MB\n",
      "Saved Episode #1256110 @ 2.0MB\n",
      "Saved Episode #1382213 @ 2.2MB\n",
      "Saved Episode #1199410 @ 1.9MB\n",
      "Saved Episode #1327526 @ 2.1MB\n",
      "Saved Episode #1392015 @ 2.1MB\n",
      "Saved Episode #1326736 @ 1.8MB\n",
      "Saved Episode #1328756 @ 2.2MB\n",
      "Saved Episode #1457131 @ 2.1MB\n",
      "Saved Episode #1486614 @ 2.3MB\n",
      "Saved Episode #1445153 @ 2.3MB\n",
      "Saved Episode #1433625 @ 2.2MB\n",
      "Saved Episode #1313696 @ 1.8MB\n",
      "Saved Episode #1238327 @ 1.9MB\n",
      "Saved Episode #1183742 @ 2.0MB\n",
      "Saved Episode #1256221 @ 1.9MB\n",
      "Saved Episode #1387810 @ 1.9MB\n",
      "Saved Episode #1259761 @ 1.9MB\n",
      "Saved Episode #1388399 @ 2.0MB\n",
      "Saved Episode #1342669 @ 1.9MB\n",
      "Saved Episode #1337840 @ 2.1MB\n",
      "Saved Episode #1459926 @ 1.9MB\n",
      "Saved Episode #1237171 @ 2.0MB\n",
      "Saved Episode #1333293 @ 2.1MB\n",
      "Saved Episode #1429380 @ 2.1MB\n",
      "Saved Episode #1377352 @ 2.4MB\n",
      "Saved Episode #1290794 @ 2.0MB\n",
      "Saved Episode #1313448 @ 2.1MB\n",
      "Saved Episode #1354674 @ 2.0MB\n",
      "Saved Episode #1192988 @ 1.8MB\n",
      "Saved Episode #1291529 @ 2.0MB\n",
      "Saved Episode #1331035 @ 2.2MB\n",
      "Saved Episode #1448975 @ 2.3MB\n",
      "Saved Episode #1446908 @ 1.9MB\n",
      "Saved Episode #1292908 @ 1.8MB\n",
      "Saved Episode #1385777 @ 2.2MB\n",
      "Saved Episode #1229339 @ 1.9MB\n",
      "Saved Episode #1292146 @ 1.9MB\n",
      "Saved Episode #1215505 @ 2.1MB\n",
      "Saved Episode #1426255 @ 2.1MB\n",
      "Saved Episode #1363824 @ 1.9MB\n",
      "Saved Episode #1398026 @ 2.2MB\n",
      "Saved Episode #1429181 @ 2.0MB\n",
      "Saved Episode #1282989 @ 1.9MB\n",
      "Saved Episode #1295185 @ 1.8MB\n",
      "Saved Episode #1395524 @ 2.1MB\n",
      "Saved Episode #1478678 @ 2.3MB\n",
      "Saved Episode #1298191 @ 2.1MB\n",
      "Saved Episode #1409382 @ 2.0MB\n",
      "Saved Episode #1304435 @ 1.9MB\n",
      "Saved Episode #1300464 @ 2.2MB\n",
      "Saved Episode #1417343 @ 2.3MB\n",
      "Saved Episode #1295923 @ 1.9MB\n",
      "Saved Episode #1301204 @ 1.8MB\n",
      "Saved Episode #1265736 @ 1.9MB\n",
      "Saved Episode #1277225 @ 1.8MB\n",
      "Saved Episode #1250241 @ 2.0MB\n",
      "Saved Episode #1369690 @ 2.0MB\n",
      "Saved Episode #1412660 @ 2.1MB\n",
      "Saved Episode #1372821 @ 2.3MB\n",
      "Saved Episode #1254098 @ 2.0MB\n",
      "Saved Episode #1300562 @ 1.9MB\n",
      "Saved Episode #1417375 @ 2.1MB\n",
      "Saved Episode #1469053 @ 2.4MB\n",
      "Saved Episode #1242785 @ 1.9MB\n",
      "Saved Episode #1337414 @ 1.8MB\n",
      "Saved Episode #1407647 @ 2.2MB\n",
      "Saved Episode #1245857 @ 2.1MB\n",
      "Saved Episode #1269258 @ 1.9MB\n",
      "Saved Episode #1309849 @ 2.1MB\n",
      "Saved Episode #1412057 @ 2.1MB\n",
      "Saved Episode #1282853 @ 1.9MB\n",
      "Saved Episode #1436880 @ 2.0MB\n",
      "Saved Episode #1451074 @ 2.3MB\n",
      "Saved Episode #1395676 @ 1.9MB\n",
      "Saved Episode #1409077 @ 2.2MB\n",
      "Saved Episode #1307801 @ 1.9MB\n",
      "Saved Episode #1213629 @ 1.8MB\n",
      "Saved Episode #1341187 @ 1.9MB\n",
      "Saved Episode #1375750 @ 1.8MB\n",
      "Saved Episode #1310509 @ 2.1MB\n",
      "Saved Episode #1396573 @ 2.4MB\n",
      "Saved Episode #1405713 @ 2.1MB\n",
      "Saved Episode #1310761 @ 2.0MB\n",
      "Saved Episode #1356875 @ 2.0MB\n",
      "Saved Episode #1437785 @ 2.1MB\n",
      "Saved Episode #1433374 @ 2.1MB\n",
      "Saved Episode #1320753 @ 1.8MB\n",
      "Saved Episode #1309474 @ 2.1MB\n",
      "Saved Episode #1372831 @ 1.8MB\n",
      "Saved Episode #1477778 @ 2.0MB\n",
      "Saved Episode #1316947 @ 2.2MB\n",
      "Saved Episode #1415121 @ 2.1MB\n",
      "Saved Episode #1384062 @ 2.0MB\n",
      "Saved Episode #1184982 @ 1.8MB\n",
      "Saved Episode #1501848 @ 2.1MB\n",
      "Saved Episode #1502872 @ 2.3MB\n",
      "Saved Episode #1244599 @ 1.9MB\n",
      "Saved Episode #1421793 @ 2.1MB\n",
      "Saved Episode #1414529 @ 2.2MB\n",
      "Saved Episode #1444118 @ 2.0MB\n",
      "Saved Episode #1421904 @ 1.9MB\n",
      "Saved Episode #1421218 @ 2.1MB\n",
      "Saved Episode #1257532 @ 2.0MB\n",
      "Saved Episode #1243343 @ 1.8MB\n",
      "Saved Episode #1466110 @ 2.1MB\n",
      "Saved Episode #1477014 @ 2.1MB\n",
      "Saved Episode #1465393 @ 1.9MB\n",
      "Saved Episode #1421940 @ 2.2MB\n",
      "Saved Episode #1261762 @ 2.0MB\n",
      "Saved Episode #1254943 @ 2.0MB\n",
      "Saved Episode #1206131 @ 1.8MB\n",
      "Saved Episode #1288128 @ 1.9MB\n",
      "Saved Episode #1396991 @ 2.3MB\n",
      "Saved Episode #1418105 @ 2.0MB\n",
      "Saved Episode #1190342 @ 1.8MB\n",
      "Saved Episode #1261529 @ 1.9MB\n",
      "Saved Episode #1456793 @ 1.9MB\n",
      "Saved Episode #1394371 @ 2.4MB\n",
      "Saved Episode #1329973 @ 2.0MB\n",
      "Saved Episode #1393740 @ 2.0MB\n",
      "Saved Episode #1456667 @ 2.3MB\n",
      "Saved Episode #1180873 @ 2.1MB\n",
      "Saved Episode #1227993 @ 1.9MB\n",
      "Saved Episode #1224862 @ 1.9MB\n",
      "Saved Episode #1247439 @ 1.9MB\n",
      "Saved Episode #1246518 @ 2.0MB\n",
      "Saved Episode #1184357 @ 1.7MB\n",
      "Saved Episode #1295045 @ 1.8MB\n",
      "Saved Episode #1220077 @ 1.7MB\n",
      "Saved Episode #1272923 @ 1.9MB\n",
      "Saved Episode #1362991 @ 2.0MB\n",
      "Saved Episode #1430973 @ 2.3MB\n",
      "Saved Episode #1379487 @ 2.1MB\n",
      "Saved Episode #1479834 @ 1.9MB\n",
      "Saved Episode #1476612 @ 2.2MB\n",
      "Saved Episode #1387397 @ 2.1MB\n",
      "Saved Episode #1394058 @ 2.0MB\n",
      "Saved Episode #1330226 @ 2.0MB\n",
      "Saved Episode #1245179 @ 1.8MB\n",
      "Saved Episode #1174212 @ 2.1MB\n",
      "Saved Episode #1317480 @ 1.9MB\n",
      "Saved Episode #1406604 @ 2.2MB\n",
      "Saved Episode #1393621 @ 1.8MB\n",
      "Saved Episode #1411459 @ 2.2MB\n",
      "Saved Episode #1330466 @ 1.8MB\n",
      "Saved Episode #1215386 @ 1.8MB\n",
      "Saved Episode #1412067 @ 1.6MB\n",
      "Saved Episode #1240132 @ 2.2MB\n",
      "Saved Episode #1467282 @ 2.1MB\n",
      "Saved Episode #1178336 @ 2.1MB\n",
      "Saved Episode #1334079 @ 1.9MB\n",
      "Saved Episode #1497146 @ 2.0MB\n",
      "Saved Episode #1236728 @ 1.9MB\n",
      "Saved Episode #1280548 @ 2.0MB\n",
      "Saved Episode #1365503 @ 1.9MB\n",
      "Saved Episode #1433056 @ 2.2MB\n",
      "Saved Episode #1390459 @ 2.0MB\n",
      "Saved Episode #1411442 @ 2.0MB\n",
      "Saved Episode #1373957 @ 2.1MB\n",
      "Saved Episode #1402582 @ 2.2MB\n",
      "Saved Episode #1232502 @ 2.0MB\n",
      "Saved Episode #1495359 @ 1.8MB\n",
      "Saved Episode #1294416 @ 1.8MB\n",
      "Saved Episode #1408503 @ 2.0MB\n",
      "Saved Episode #1240834 @ 2.1MB\n",
      "Saved Episode #1421202 @ 1.9MB\n",
      "\n",
      "\n"
     ]
    },
    {
     "data": {
      "image/png": "[encoded data removed]",
      "text/plain": [
       "<Figure size 720x288 with 1 Axes>"
      ]
     },
     "metadata": {
      "needs_background": "light"
     },
     "output_type": "display_data"
    }
   ],
   "source": [
    "pulled_teams = {}\n",
    "pulled_episodes = []\n",
    "start_time = datetime.datetime.now()\n",
    "r = 0;\n",
    "\n",
    "while len(pulled_episodes) < EPISODES:\n",
    "    # pull team\n",
    "    top_teams = [i for i in teams_df.id if i not in pulled_teams]\n",
    "    if len(top_teams) > 0:\n",
    "        team_id = top_teams[0]\n",
    "    else:\n",
    "        break;\n",
    "        \n",
    "    # get team data\n",
    "    team_json, team_df = getTeamEpisodes(team_id); r+=1;\n",
    "    print('{} games for {}'.format(len(team_df), teams_df.loc[teams_df.id == team_id].iloc[0].teamName))\n",
    "    plt.hist(team_df.avg_score, bins = 150);\n",
    "    \n",
    "    team_df = team_df[team_df.avg_score > MIN_RATING]\n",
    "    print('   {} with top competition'.format(len(team_df)))\n",
    "    \n",
    "    team_df = team_df[~team_df.id.isin(pulled_episodes + seen_episodes)]        \n",
    "    print('      {} remain to be downloaded\\n'.format(len(team_df)))\n",
    "    \n",
    "    # pull games\n",
    "    target_team_games = int(np.ceil(EPISODES / NUM_TEAMS))\n",
    "    if target_team_games + len(pulled_episodes) > EPISODES:\n",
    "        target_team_games = EPISODES - len(pulled_episodes)\n",
    "     \n",
    "    pulled_teams[team_id] = 0\n",
    "    \n",
    "    i = 0\n",
    "    while i < len(team_df) and pulled_teams[team_id] < target_team_games:\n",
    "        epid = team_df.id.iloc[i]\n",
    "        if not (epid in pulled_episodes or epid in seen_episodes):\n",
    "            saveEpisode(epid, team_json); r+=1;\n",
    "            pulled_episodes.append(epid)\n",
    "            pulled_teams[team_id] += 1\n",
    "            try:\n",
    "                size = os.path.getsize('{}.json'.format(epid)) / 1e6\n",
    "                print('Saved Episode #{} @ {:.1f}MB'.format(epid, size))\n",
    "            except:\n",
    "                print('  file {}.json did not seem to save'.format(epid))    \n",
    "            if r > (datetime.datetime.now() - start_time).seconds:\n",
    "                time.sleep( r - (datetime.datetime.now() - start_time).seconds)\n",
    "                \n",
    "\n",
    "        i+=1;\n",
    "    print(); print()"
   ]
  },
  {
   "cell_type": "code",
   "execution_count": 23,
   "metadata": {
    "Collapsed": "false"
   },
   "outputs": [
    {
     "name": "stdout",
     "output_type": "stream",
     "text": [
      "\n",
      "   Post and share your datasets publicly on this thread:\n",
      "        https://www.kaggle.com/c/halite/discussion/164932\n",
      "\n"
     ]
    }
   ],
   "source": [
    "print('\\n   Post and share your datasets publicly on this thread:')\n",
    "print('        https://www.kaggle.com/c/halite/discussion/164932\\n')"
   ]
  },
  {
   "cell_type": "code",
   "execution_count": null,
   "metadata": {
    "Collapsed": "false"
   },
   "outputs": [],
   "source": []
  },
  {
   "cell_type": "markdown",
   "metadata": {
    "Collapsed": "false"
   },
   "source": [
    "### Check JSON"
   ]
  },
  {
   "cell_type": "code",
   "execution_count": 24,
   "metadata": {
    "Collapsed": "false"
   },
   "outputs": [],
   "source": [
    "file = './{}.json'.format(epid)"
   ]
  },
  {
   "cell_type": "code",
   "execution_count": 25,
   "metadata": {
    "Collapsed": "false",
    "_cell_guid": "79c7e3d0-c299-4dcb-8224-4455121ee9b0",
    "_uuid": "d629ff2d2480ee46fbb7e2d37f6b5fab8052498a"
   },
   "outputs": [],
   "source": [
    "with open(file) as f:\n",
    "    data = json.load(f)"
   ]
  },
  {
   "cell_type": "code",
   "execution_count": 26,
   "metadata": {
    "Collapsed": "false"
   },
   "outputs": [
    {
     "data": {
      "text/plain": [
       "[5262, 828, 8294, 574]"
      ]
     },
     "execution_count": 26,
     "metadata": {},
     "output_type": "execute_result"
    }
   ],
   "source": [
    "data['rewards']"
   ]
  }
 ],
 "metadata": {
  "kernelspec": {
   "display_name": "Python 3",
   "language": "python",
   "name": "python3"
  },
  "language_info": {
   "codemirror_mode": {
    "name": "ipython",
    "version": 3
   },
   "file_extension": ".py",
   "mimetype": "text/x-python",
   "name": "python",
   "nbconvert_exporter": "python",
   "pygments_lexer": "ipython3",
   "version": "3.7.3"
  }
 },
 "nbformat": 4,
 "nbformat_minor": 4
}
