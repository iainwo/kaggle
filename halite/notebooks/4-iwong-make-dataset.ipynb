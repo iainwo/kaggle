{
 "cells": [
  {
   "cell_type": "code",
   "execution_count": 3,
   "metadata": {
    "Collapsed": "false"
   },
   "outputs": [
    {
     "name": "stdout",
     "output_type": "stream",
     "text": [
      "total 2827224\n",
      "drwxr-xr-x  7 iainwong  staff   224B 13 Jul 21:00 \u001b[34m..\u001b[m\u001b[m\n",
      "-rw-r--r--  1 iainwong  staff     0B 13 Jul 21:00 .gitkeep\n",
      "-rw-r--r--@ 1 iainwong  staff   2.0M 13 Jul 22:31 1497443.json\n",
      "drwxr-xr-x  3 iainwong  staff    96B 13 Jul 22:31 \u001b[34m.ipynb_checkpoints\u001b[m\u001b[m\n",
      "-rw-r--r--@ 1 iainwong  staff   1.3G 16 Jul 19:01 768202_1334982_bundle_archive.zip\n",
      "drwxr-xr-x  6 iainwong  staff   192B 16 Jul 19:05 \u001b[34m.\u001b[m\u001b[m\n"
     ]
    }
   ],
   "source": [
    "!ls -larth ../data/external"
   ]
  },
  {
   "cell_type": "code",
   "execution_count": null,
   "metadata": {
    "Collapsed": "false"
   },
   "outputs": [],
   "source": [
    "!"
   ]
  }
 ],
 "metadata": {
  "kernelspec": {
   "display_name": "halite",
   "language": "python",
   "name": "halite"
  },
  "language_info": {
   "codemirror_mode": {
    "name": "ipython",
    "version": 3
   },
   "file_extension": ".py",
   "mimetype": "text/x-python",
   "name": "python",
   "nbconvert_exporter": "python",
   "pygments_lexer": "ipython3",
   "version": "3.7.3"
  }
 },
 "nbformat": 4,
 "nbformat_minor": 4
}
