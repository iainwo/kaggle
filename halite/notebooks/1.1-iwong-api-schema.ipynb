{
 "cells": [
  {
   "cell_type": "markdown",
   "metadata": {
    "Collapsed": "false"
   },
   "source": [
    "# API Schema"
   ]
  },
  {
   "cell_type": "markdown",
   "metadata": {
    "Collapsed": "false"
   },
   "source": [
    "__The Purpose of this notebook is to gain an understanding of the API schema. An ontology will allow us to write a data-scraper__"
   ]
  },
  {
   "cell_type": "markdown",
   "metadata": {
    "Collapsed": "false"
   },
   "source": [
    "## How-to Use API Client Implementation"
   ]
  },
  {
   "cell_type": "code",
   "execution_count": 2,
   "metadata": {
    "Collapsed": "false"
   },
   "outputs": [],
   "source": [
    "from src.api.KaggleClient import KaggleClient"
   ]
  },
  {
   "cell_type": "code",
   "execution_count": 6,
   "metadata": {
    "Collapsed": "false"
   },
   "outputs": [],
   "source": [
    "TEAM_ID = 5118174"
   ]
  },
  {
   "cell_type": "code",
   "execution_count": 4,
   "metadata": {
    "Collapsed": "false"
   },
   "outputs": [],
   "source": [
    "api = KaggleClient()"
   ]
  },
  {
   "cell_type": "markdown",
   "metadata": {
    "Collapsed": "false"
   },
   "source": [
    "Get Team Endpoint Response."
   ]
  },
  {
   "cell_type": "code",
   "execution_count": 7,
   "metadata": {
    "Collapsed": "false"
   },
   "outputs": [],
   "source": [
    "team_ep_resp = api.episodes.team(TEAM_ID)"
   ]
  },
  {
   "cell_type": "code",
   "execution_count": 12,
   "metadata": {
    "Collapsed": "false"
   },
   "outputs": [
    {
     "data": {
      "text/plain": [
       "1052028"
      ]
     },
     "execution_count": 12,
     "metadata": {},
     "output_type": "execute_result"
    }
   ],
   "source": [
    "team_ep_resp['result']['episodes'][0]['id']"
   ]
  },
  {
   "cell_type": "markdown",
   "metadata": {
    "Collapsed": "false"
   },
   "source": [
    "Get Episode Endpoint Response."
   ]
  },
  {
   "cell_type": "code",
   "execution_count": 19,
   "metadata": {
    "Collapsed": "false"
   },
   "outputs": [],
   "source": [
    "episode_ids = [team_ep_resp['result']['episodes'][i]['id'] for i in range(10) if len(team_ep_resp['result']['episodes']) >= i]"
   ]
  },
  {
   "cell_type": "code",
   "execution_count": 21,
   "metadata": {
    "Collapsed": "false"
   },
   "outputs": [],
   "source": [
    "episodes_ep_resp = api.episodes.episodes(episode_ids)"
   ]
  },
  {
   "cell_type": "markdown",
   "metadata": {
    "Collapsed": "false"
   },
   "source": [
    "Get Submission Endpoint Response."
   ]
  },
  {
   "cell_type": "code",
   "execution_count": 52,
   "metadata": {
    "Collapsed": "false"
   },
   "outputs": [],
   "source": [
    "submission_ids = [episodes_ep_resp['result']['episodes'][i]['agents'][0]['submission']['id'] for i in range(10) if len(team_ep_resp['result']['episodes']) >= i]"
   ]
  },
  {
   "cell_type": "code",
   "execution_count": 56,
   "metadata": {
    "Collapsed": "false"
   },
   "outputs": [],
   "source": [
    "submission_ep_resp = api.episodes.submission(submission_ids[0])"
   ]
  },
  {
   "cell_type": "markdown",
   "metadata": {
    "Collapsed": "false"
   },
   "source": [
    "Get Replay Endpoint Response"
   ]
  },
  {
   "cell_type": "code",
   "execution_count": 36,
   "metadata": {
    "Collapsed": "false"
   },
   "outputs": [],
   "source": [
    "replay_ep_resp = api.replay.episode(episode_ids[0])"
   ]
  },
  {
   "cell_type": "markdown",
   "metadata": {
    "Collapsed": "false"
   },
   "source": [
    "## Visualize JSON Return Schema"
   ]
  },
  {
   "cell_type": "code",
   "execution_count": 124,
   "metadata": {
    "Collapsed": "false"
   },
   "outputs": [],
   "source": [
    "import json\n",
    "def sample_sparse_dict(obj, stub_primitives=False):\n",
    "    ret = obj if stub_primitives else None\n",
    "    if isinstance(obj, dict):\n",
    "        ret = {k: sample_sparse_dict(v) for k,v in obj.items()}\n",
    "    elif isinstance(obj, list) or isinstance(obj, set):\n",
    "        if 1 <= len(obj):\n",
    "            ret = [sample_sparse_dict(obj[0])]\n",
    "    elif isinstance(obj, str):\n",
    "        try:\n",
    "            parsed_obj = json.loads(obj)\n",
    "            if isinstance(parsed_obj, dict):\n",
    "                ret = sample_sparse_dict(parsed_obj)\n",
    "        except json.decoder.JSONDecodeError:\n",
    "            pass\n",
    "\n",
    "    return ret"
   ]
  },
  {
   "cell_type": "markdown",
   "metadata": {
    "Collapsed": "false"
   },
   "source": [
    "### Team Endpoint"
   ]
  },
  {
   "cell_type": "code",
   "execution_count": 125,
   "metadata": {
    "Collapsed": "false"
   },
   "outputs": [],
   "source": [
    "sparse_team_ep_resp = sample_sparse_dict(team_ep_resp, stub_primitives=True)"
   ]
  },
  {
   "cell_type": "code",
   "execution_count": 126,
   "metadata": {
    "Collapsed": "false"
   },
   "outputs": [
    {
     "data": {
      "text/plain": [
       "{'result': {'episodes': [{'id': None,\n",
       "    'competitionId': None,\n",
       "    'createTime': {'seconds': None, 'nanos': None},\n",
       "    'endTime': {'seconds': None, 'nanos': None},\n",
       "    'replayUrl': None,\n",
       "    'adminNotes': None,\n",
       "    'state': None,\n",
       "    'type': None,\n",
       "    'agents': [{'id': None,\n",
       "      'submissionId': None,\n",
       "      'reward': None,\n",
       "      'index': None,\n",
       "      'initialScore': None,\n",
       "      'initialConfidence': None,\n",
       "      'updatedScore': None,\n",
       "      'updatedConfidence': None,\n",
       "      'state': None,\n",
       "      'submission': {'id': None,\n",
       "       'title': None,\n",
       "       'details': None,\n",
       "       'submittedUserId': None,\n",
       "       'dateSubmitted': {'seconds': None, 'nanos': None},\n",
       "       'teamId': None,\n",
       "       'privateScore': None,\n",
       "       'publicScore': None,\n",
       "       'isSelected': None,\n",
       "       'status': None,\n",
       "       'isAfterDeadline': None,\n",
       "       'publicScoreAdditionalDetails': None,\n",
       "       'privateScoreAdditionalDetails': None,\n",
       "       'processingDetails': None,\n",
       "       'contentLength': None,\n",
       "       'sourceScriptVersionId': None,\n",
       "       'clonedFromSubmissionId': None,\n",
       "       'dateInvalidated': None,\n",
       "       'syncRerunId': None,\n",
       "       'publicConfidence': None,\n",
       "       'team': None,\n",
       "       'sourceKernelRun': None,\n",
       "       'syncRerunState': None}}]}],\n",
       "  'teams': [{'id': None,\n",
       "    'teamName': None,\n",
       "    'competitionId': None,\n",
       "    'teamLeaderId': None,\n",
       "    'isBenchmark': None,\n",
       "    'createdAfterDeadline': None,\n",
       "    'medal': None,\n",
       "    'dateMedalAwarded': None,\n",
       "    'submissionCount': None,\n",
       "    'lastSubmissionDate': {'seconds': None, 'nanos': None},\n",
       "    'publicLeaderboardSubmissionId': None,\n",
       "    'publicLeaderboardScore': None,\n",
       "    'publicLeaderboardRank': None,\n",
       "    'privateLeaderboardSubmissionId': None,\n",
       "    'privateLeaderboardScore': None,\n",
       "    'privateLeaderboardRank': None,\n",
       "    'competition': None,\n",
       "    'teamMembers': None,\n",
       "    'inboundMergeRequests': None,\n",
       "    'outboundMergeRequests': None}]},\n",
       " 'wasSuccessful': None}"
      ]
     },
     "execution_count": 126,
     "metadata": {},
     "output_type": "execute_result"
    }
   ],
   "source": [
    "sparse_team_ep_resp"
   ]
  },
  {
   "cell_type": "markdown",
   "metadata": {
    "Collapsed": "false"
   },
   "source": [
    "### Episodes Endpoint"
   ]
  },
  {
   "cell_type": "code",
   "execution_count": 127,
   "metadata": {
    "Collapsed": "false"
   },
   "outputs": [],
   "source": [
    "sparse_episodes_ep_resp = sample_sparse_dict(episodes_ep_resp, stub_primitives=True)"
   ]
  },
  {
   "cell_type": "code",
   "execution_count": 128,
   "metadata": {
    "Collapsed": "false"
   },
   "outputs": [
    {
     "data": {
      "text/plain": [
       "{'result': {'episodes': [{'id': None,\n",
       "    'competitionId': None,\n",
       "    'createTime': {'seconds': None, 'nanos': None},\n",
       "    'endTime': {'seconds': None, 'nanos': None},\n",
       "    'replayUrl': None,\n",
       "    'adminNotes': None,\n",
       "    'state': None,\n",
       "    'type': None,\n",
       "    'agents': [{'id': None,\n",
       "      'submissionId': None,\n",
       "      'reward': None,\n",
       "      'index': None,\n",
       "      'initialScore': None,\n",
       "      'initialConfidence': None,\n",
       "      'updatedScore': None,\n",
       "      'updatedConfidence': None,\n",
       "      'state': None,\n",
       "      'submission': {'id': None,\n",
       "       'title': None,\n",
       "       'details': None,\n",
       "       'submittedUserId': None,\n",
       "       'dateSubmitted': {'seconds': None, 'nanos': None},\n",
       "       'teamId': None,\n",
       "       'privateScore': None,\n",
       "       'publicScore': None,\n",
       "       'isSelected': None,\n",
       "       'status': None,\n",
       "       'isAfterDeadline': None,\n",
       "       'publicScoreAdditionalDetails': None,\n",
       "       'privateScoreAdditionalDetails': None,\n",
       "       'processingDetails': None,\n",
       "       'contentLength': None,\n",
       "       'sourceScriptVersionId': None,\n",
       "       'clonedFromSubmissionId': None,\n",
       "       'dateInvalidated': None,\n",
       "       'syncRerunId': None,\n",
       "       'publicConfidence': None,\n",
       "       'team': None,\n",
       "       'sourceKernelRun': None,\n",
       "       'syncRerunState': None}}]}],\n",
       "  'teams': [{'id': None,\n",
       "    'teamName': None,\n",
       "    'competitionId': None,\n",
       "    'teamLeaderId': None,\n",
       "    'isBenchmark': None,\n",
       "    'createdAfterDeadline': None,\n",
       "    'medal': None,\n",
       "    'dateMedalAwarded': None,\n",
       "    'submissionCount': None,\n",
       "    'lastSubmissionDate': {'seconds': None, 'nanos': None},\n",
       "    'publicLeaderboardSubmissionId': None,\n",
       "    'publicLeaderboardScore': None,\n",
       "    'publicLeaderboardRank': None,\n",
       "    'privateLeaderboardSubmissionId': None,\n",
       "    'privateLeaderboardScore': None,\n",
       "    'privateLeaderboardRank': None,\n",
       "    'competition': None,\n",
       "    'teamMembers': None,\n",
       "    'inboundMergeRequests': None,\n",
       "    'outboundMergeRequests': None}]},\n",
       " 'wasSuccessful': None}"
      ]
     },
     "execution_count": 128,
     "metadata": {},
     "output_type": "execute_result"
    }
   ],
   "source": [
    "sparse_episodes_ep_resp"
   ]
  },
  {
   "cell_type": "markdown",
   "metadata": {
    "Collapsed": "false"
   },
   "source": [
    "### Submissions Endpoint"
   ]
  },
  {
   "cell_type": "code",
   "execution_count": 129,
   "metadata": {
    "Collapsed": "false"
   },
   "outputs": [],
   "source": [
    "sparse_submission_ep_resp = sample_sparse_dict(submission_ep_resp, stub_primitives=True)"
   ]
  },
  {
   "cell_type": "code",
   "execution_count": 130,
   "metadata": {
    "Collapsed": "false"
   },
   "outputs": [
    {
     "data": {
      "text/plain": [
       "{'result': {'episodes': [{'id': None,\n",
       "    'competitionId': None,\n",
       "    'createTime': {'seconds': None, 'nanos': None},\n",
       "    'endTime': {'seconds': None, 'nanos': None},\n",
       "    'replayUrl': None,\n",
       "    'adminNotes': None,\n",
       "    'state': None,\n",
       "    'type': None,\n",
       "    'agents': [{'id': None,\n",
       "      'submissionId': None,\n",
       "      'reward': None,\n",
       "      'index': None,\n",
       "      'initialScore': None,\n",
       "      'initialConfidence': None,\n",
       "      'updatedScore': None,\n",
       "      'updatedConfidence': None,\n",
       "      'state': None,\n",
       "      'submission': {'id': None,\n",
       "       'title': None,\n",
       "       'details': None,\n",
       "       'submittedUserId': None,\n",
       "       'dateSubmitted': {'seconds': None, 'nanos': None},\n",
       "       'teamId': None,\n",
       "       'privateScore': None,\n",
       "       'publicScore': None,\n",
       "       'isSelected': None,\n",
       "       'status': None,\n",
       "       'isAfterDeadline': None,\n",
       "       'publicScoreAdditionalDetails': None,\n",
       "       'privateScoreAdditionalDetails': None,\n",
       "       'processingDetails': None,\n",
       "       'contentLength': None,\n",
       "       'sourceScriptVersionId': None,\n",
       "       'clonedFromSubmissionId': None,\n",
       "       'dateInvalidated': None,\n",
       "       'syncRerunId': None,\n",
       "       'publicConfidence': None,\n",
       "       'team': None,\n",
       "       'sourceKernelRun': None,\n",
       "       'syncRerunState': None}}]}],\n",
       "  'teams': [{'id': None,\n",
       "    'teamName': None,\n",
       "    'competitionId': None,\n",
       "    'teamLeaderId': None,\n",
       "    'isBenchmark': None,\n",
       "    'createdAfterDeadline': None,\n",
       "    'medal': None,\n",
       "    'dateMedalAwarded': None,\n",
       "    'submissionCount': None,\n",
       "    'lastSubmissionDate': {'seconds': None, 'nanos': None},\n",
       "    'publicLeaderboardSubmissionId': None,\n",
       "    'publicLeaderboardScore': None,\n",
       "    'publicLeaderboardRank': None,\n",
       "    'privateLeaderboardSubmissionId': None,\n",
       "    'privateLeaderboardScore': None,\n",
       "    'privateLeaderboardRank': None,\n",
       "    'competition': None,\n",
       "    'teamMembers': None,\n",
       "    'inboundMergeRequests': None,\n",
       "    'outboundMergeRequests': None}]},\n",
       " 'wasSuccessful': None}"
      ]
     },
     "execution_count": 130,
     "metadata": {},
     "output_type": "execute_result"
    }
   ],
   "source": [
    "sparse_submission_ep_resp"
   ]
  },
  {
   "cell_type": "markdown",
   "metadata": {
    "Collapsed": "false"
   },
   "source": [
    "### Replay Endpoint"
   ]
  },
  {
   "cell_type": "code",
   "execution_count": 131,
   "metadata": {
    "Collapsed": "false"
   },
   "outputs": [],
   "source": [
    "sparse_replay_ep_resp = sample_sparse_dict(replay_ep_resp, stub_primitives=True)"
   ]
  },
  {
   "cell_type": "code",
   "execution_count": 132,
   "metadata": {
    "Collapsed": "false"
   },
   "outputs": [
    {
     "data": {
      "text/plain": [
       "{'result': {'replay': {'configuration': {'actTimeout': None,\n",
       "    'agentExec': None,\n",
       "    'agentTimeout': None,\n",
       "    'collectRate': None,\n",
       "    'convertCost': None,\n",
       "    'episodeSteps': None,\n",
       "    'maxCellHalite': None,\n",
       "    'moveCost': None,\n",
       "    'regenRate': None,\n",
       "    'runTimeout': None,\n",
       "    'size': None,\n",
       "    'spawnCost': None,\n",
       "    'startingHalite': None},\n",
       "   'description': None,\n",
       "   'id': None,\n",
       "   'name': None,\n",
       "   'rewards': [None],\n",
       "   'schema_version': None,\n",
       "   'specification': {'action': {'additionalProperties': {'description': None,\n",
       "      'enum': [None]},\n",
       "     'default': None,\n",
       "     'description': None,\n",
       "     'type': None},\n",
       "    'agents': [None],\n",
       "    'configuration': {'actTimeout': {'default': None,\n",
       "      'description': None,\n",
       "      'minimum': None,\n",
       "      'type': None},\n",
       "     'agentExec': {'default': None,\n",
       "      'description': None,\n",
       "      'enum': [None],\n",
       "      'type': None},\n",
       "     'agentTimeout': {'default': None,\n",
       "      'description': None,\n",
       "      'minimum': None,\n",
       "      'type': None},\n",
       "     'collectRate': {'default': None,\n",
       "      'description': None,\n",
       "      'minimum': None,\n",
       "      'type': None},\n",
       "     'convertCost': {'default': None,\n",
       "      'description': None,\n",
       "      'minimum': None,\n",
       "      'type': None},\n",
       "     'episodeSteps': {'default': None,\n",
       "      'description': None,\n",
       "      'minimum': None,\n",
       "      'type': None},\n",
       "     'maxCellHalite': {'default': None,\n",
       "      'description': None,\n",
       "      'minimum': None,\n",
       "      'type': None},\n",
       "     'moveCost': {'default': None,\n",
       "      'description': None,\n",
       "      'minimum': None,\n",
       "      'type': None},\n",
       "     'regenRate': {'default': None,\n",
       "      'description': None,\n",
       "      'minimum': None,\n",
       "      'type': None},\n",
       "     'runTimeout': {'default': None,\n",
       "      'description': None,\n",
       "      'minimum': None,\n",
       "      'type': None},\n",
       "     'size': {'default': None,\n",
       "      'description': None,\n",
       "      'minimum': None,\n",
       "      'type': None},\n",
       "     'spawnCost': {'default': None,\n",
       "      'description': None,\n",
       "      'minimum': None,\n",
       "      'type': None},\n",
       "     'startingHalite': {'default': None, 'description': None, 'type': None}},\n",
       "    'info': {},\n",
       "    'observation': {'halite': {'description': None,\n",
       "      'shared': None,\n",
       "      'type': None},\n",
       "     'player': {'defaults': [None], 'description': None, 'type': None},\n",
       "     'players': {'description': None, 'shared': None, 'type': None},\n",
       "     'step': {'description': None,\n",
       "      'minimum': None,\n",
       "      'shared': None,\n",
       "      'type': None}},\n",
       "    'reward': {'default': None,\n",
       "     'description': None,\n",
       "     'minimum': None,\n",
       "     'type': [None]}},\n",
       "   'statuses': [None],\n",
       "   'steps': [[{'action': {},\n",
       "      'info': {},\n",
       "      'observation': {'halite': [None],\n",
       "       'player': None,\n",
       "       'players': [[None]],\n",
       "       'step': None},\n",
       "      'reward': None,\n",
       "      'status': None}]],\n",
       "   'title': None,\n",
       "   'version': None}},\n",
       " 'wasSuccessful': None}"
      ]
     },
     "execution_count": 132,
     "metadata": {},
     "output_type": "execute_result"
    }
   ],
   "source": [
    "sparse_replay_ep_resp"
   ]
  },
  {
   "cell_type": "markdown",
   "metadata": {
    "Collapsed": "false"
   },
   "source": [
    "## Compare JSON Responses"
   ]
  },
  {
   "cell_type": "code",
   "execution_count": 140,
   "metadata": {
    "Collapsed": "false"
   },
   "outputs": [],
   "source": [
    "def recursive_compare(d1, d2, level='root'):\n",
    "    # Taken from: https://stackoverflow.com/a/53818532\n",
    "    if isinstance(d1, dict) and isinstance(d2, dict):\n",
    "        if d1.keys() != d2.keys():\n",
    "            s1 = set(d1.keys())\n",
    "            s2 = set(d2.keys())\n",
    "            print('{:<20} + {} - {}'.format(level, s1-s2, s2-s1))\n",
    "            common_keys = s1 & s2\n",
    "        else:\n",
    "            common_keys = set(d1.keys())\n",
    "\n",
    "        for k in common_keys:\n",
    "            recursive_compare(d1[k], d2[k], level='{}.{}'.format(level, k))\n",
    "\n",
    "    elif isinstance(d1, list) and isinstance(d2, list):\n",
    "        if len(d1) != len(d2):\n",
    "            print('{:<20} len1={}; len2={}'.format(level, len(d1), len(d2)))\n",
    "        common_len = min(len(d1), len(d2))\n",
    "\n",
    "        for i in range(common_len):\n",
    "            recursive_compare(d1[i], d2[i], level='{}[{}]'.format(level, i))\n",
    "\n",
    "    else:\n",
    "        if d1 != d2:\n",
    "            print('{:<20} {} != {}'.format(level, d1, d2))\n",
    "        else:\n",
    "            print('{:<20} {} == {}'.format(level, d1, d2)) # modded"
   ]
  },
  {
   "cell_type": "markdown",
   "metadata": {
    "Collapsed": "false"
   },
   "source": [
    "### sparse_submission_ep_resp vs. sparse_episodes_ep_resp"
   ]
  },
  {
   "cell_type": "code",
   "execution_count": 144,
   "metadata": {
    "Collapsed": "false"
   },
   "outputs": [
    {
     "name": "stdout",
     "output_type": "stream",
     "text": [
      "root.result.episodes[0].id None == None\n",
      "root.result.episodes[0].endTime.nanos None == None\n",
      "root.result.episodes[0].endTime.seconds None == None\n",
      "root.result.episodes[0].adminNotes None == None\n",
      "root.result.episodes[0].state None == None\n",
      "root.result.episodes[0].replayUrl None == None\n",
      "root.result.episodes[0].createTime.nanos None == None\n",
      "root.result.episodes[0].createTime.seconds None == None\n",
      "root.result.episodes[0].agents[0].id None == None\n",
      "root.result.episodes[0].agents[0].updatedConfidence None == None\n",
      "root.result.episodes[0].agents[0].updatedScore None == None\n",
      "root.result.episodes[0].agents[0].submission.status None == None\n",
      "root.result.episodes[0].agents[0].submission.isAfterDeadline None == None\n",
      "root.result.episodes[0].agents[0].submission.submittedUserId None == None\n",
      "root.result.episodes[0].agents[0].submission.publicConfidence None == None\n",
      "root.result.episodes[0].agents[0].submission.sourceKernelRun None == None\n",
      "root.result.episodes[0].agents[0].submission.privateScoreAdditionalDetails None == None\n",
      "root.result.episodes[0].agents[0].submission.teamId None == None\n",
      "root.result.episodes[0].agents[0].submission.syncRerunState None == None\n",
      "root.result.episodes[0].agents[0].submission.dateInvalidated None == None\n",
      "root.result.episodes[0].agents[0].submission.dateSubmitted.nanos None == None\n",
      "root.result.episodes[0].agents[0].submission.dateSubmitted.seconds None == None\n",
      "root.result.episodes[0].agents[0].submission.syncRerunId None == None\n",
      "root.result.episodes[0].agents[0].submission.processingDetails None == None\n",
      "root.result.episodes[0].agents[0].submission.clonedFromSubmissionId None == None\n",
      "root.result.episodes[0].agents[0].submission.publicScore None == None\n",
      "root.result.episodes[0].agents[0].submission.details None == None\n",
      "root.result.episodes[0].agents[0].submission.publicScoreAdditionalDetails None == None\n",
      "root.result.episodes[0].agents[0].submission.team None == None\n",
      "root.result.episodes[0].agents[0].submission.title None == None\n",
      "root.result.episodes[0].agents[0].submission.id None == None\n",
      "root.result.episodes[0].agents[0].submission.contentLength None == None\n",
      "root.result.episodes[0].agents[0].submission.privateScore None == None\n",
      "root.result.episodes[0].agents[0].submission.isSelected None == None\n",
      "root.result.episodes[0].agents[0].submission.sourceScriptVersionId None == None\n",
      "root.result.episodes[0].agents[0].submissionId None == None\n",
      "root.result.episodes[0].agents[0].reward None == None\n",
      "root.result.episodes[0].agents[0].state None == None\n",
      "root.result.episodes[0].agents[0].initialScore None == None\n",
      "root.result.episodes[0].agents[0].index None == None\n",
      "root.result.episodes[0].agents[0].initialConfidence None == None\n",
      "root.result.episodes[0].competitionId None == None\n",
      "root.result.episodes[0].type None == None\n",
      "root.result.teams[0].teamMembers None == None\n",
      "root.result.teams[0].submissionCount None == None\n",
      "root.result.teams[0].publicLeaderboardScore None == None\n",
      "root.result.teams[0].outboundMergeRequests None == None\n",
      "root.result.teams[0].createdAfterDeadline None == None\n",
      "root.result.teams[0].isBenchmark None == None\n",
      "root.result.teams[0].inboundMergeRequests None == None\n",
      "root.result.teams[0].privateLeaderboardRank None == None\n",
      "root.result.teams[0].competitionId None == None\n",
      "root.result.teams[0].publicLeaderboardSubmissionId None == None\n",
      "root.result.teams[0].teamLeaderId None == None\n",
      "root.result.teams[0].privateLeaderboardScore None == None\n",
      "root.result.teams[0].medal None == None\n",
      "root.result.teams[0].competition None == None\n",
      "root.result.teams[0].dateMedalAwarded None == None\n",
      "root.result.teams[0].teamName None == None\n",
      "root.result.teams[0].id None == None\n",
      "root.result.teams[0].publicLeaderboardRank None == None\n",
      "root.result.teams[0].lastSubmissionDate.nanos None == None\n",
      "root.result.teams[0].lastSubmissionDate.seconds None == None\n",
      "root.result.teams[0].privateLeaderboardSubmissionId None == None\n",
      "root.wasSuccessful   None == None\n"
     ]
    }
   ],
   "source": [
    "recursive_compare(sparse_submission_ep_resp, sparse_episodes_ep_resp)"
   ]
  },
  {
   "cell_type": "markdown",
   "metadata": {
    "Collapsed": "false"
   },
   "source": [
    "### sparse_submission_ep_resp vs. sparse_team_ep_resp"
   ]
  },
  {
   "cell_type": "code",
   "execution_count": 147,
   "metadata": {
    "Collapsed": "false"
   },
   "outputs": [
    {
     "name": "stdout",
     "output_type": "stream",
     "text": [
      "root.result.episodes[0].id None == None\n",
      "root.result.episodes[0].endTime.nanos None == None\n",
      "root.result.episodes[0].endTime.seconds None == None\n",
      "root.result.episodes[0].adminNotes None == None\n",
      "root.result.episodes[0].state None == None\n",
      "root.result.episodes[0].replayUrl None == None\n",
      "root.result.episodes[0].createTime.nanos None == None\n",
      "root.result.episodes[0].createTime.seconds None == None\n",
      "root.result.episodes[0].agents[0].id None == None\n",
      "root.result.episodes[0].agents[0].updatedConfidence None == None\n",
      "root.result.episodes[0].agents[0].updatedScore None == None\n",
      "root.result.episodes[0].agents[0].submission.status None == None\n",
      "root.result.episodes[0].agents[0].submission.isAfterDeadline None == None\n",
      "root.result.episodes[0].agents[0].submission.submittedUserId None == None\n",
      "root.result.episodes[0].agents[0].submission.publicConfidence None == None\n",
      "root.result.episodes[0].agents[0].submission.sourceKernelRun None == None\n",
      "root.result.episodes[0].agents[0].submission.privateScoreAdditionalDetails None == None\n",
      "root.result.episodes[0].agents[0].submission.teamId None == None\n",
      "root.result.episodes[0].agents[0].submission.syncRerunState None == None\n",
      "root.result.episodes[0].agents[0].submission.dateInvalidated None == None\n",
      "root.result.episodes[0].agents[0].submission.dateSubmitted.nanos None == None\n",
      "root.result.episodes[0].agents[0].submission.dateSubmitted.seconds None == None\n",
      "root.result.episodes[0].agents[0].submission.syncRerunId None == None\n",
      "root.result.episodes[0].agents[0].submission.processingDetails None == None\n",
      "root.result.episodes[0].agents[0].submission.clonedFromSubmissionId None == None\n",
      "root.result.episodes[0].agents[0].submission.publicScore None == None\n",
      "root.result.episodes[0].agents[0].submission.details None == None\n",
      "root.result.episodes[0].agents[0].submission.publicScoreAdditionalDetails None == None\n",
      "root.result.episodes[0].agents[0].submission.team None == None\n",
      "root.result.episodes[0].agents[0].submission.title None == None\n",
      "root.result.episodes[0].agents[0].submission.id None == None\n",
      "root.result.episodes[0].agents[0].submission.contentLength None == None\n",
      "root.result.episodes[0].agents[0].submission.privateScore None == None\n",
      "root.result.episodes[0].agents[0].submission.isSelected None == None\n",
      "root.result.episodes[0].agents[0].submission.sourceScriptVersionId None == None\n",
      "root.result.episodes[0].agents[0].submissionId None == None\n",
      "root.result.episodes[0].agents[0].reward None == None\n",
      "root.result.episodes[0].agents[0].state None == None\n",
      "root.result.episodes[0].agents[0].initialScore None == None\n",
      "root.result.episodes[0].agents[0].index None == None\n",
      "root.result.episodes[0].agents[0].initialConfidence None == None\n",
      "root.result.episodes[0].competitionId None == None\n",
      "root.result.episodes[0].type None == None\n",
      "root.result.teams[0].teamMembers None == None\n",
      "root.result.teams[0].submissionCount None == None\n",
      "root.result.teams[0].publicLeaderboardScore None == None\n",
      "root.result.teams[0].outboundMergeRequests None == None\n",
      "root.result.teams[0].createdAfterDeadline None == None\n",
      "root.result.teams[0].isBenchmark None == None\n",
      "root.result.teams[0].inboundMergeRequests None == None\n",
      "root.result.teams[0].privateLeaderboardRank None == None\n",
      "root.result.teams[0].competitionId None == None\n",
      "root.result.teams[0].publicLeaderboardSubmissionId None == None\n",
      "root.result.teams[0].teamLeaderId None == None\n",
      "root.result.teams[0].privateLeaderboardScore None == None\n",
      "root.result.teams[0].medal None == None\n",
      "root.result.teams[0].competition None == None\n",
      "root.result.teams[0].dateMedalAwarded None == None\n",
      "root.result.teams[0].teamName None == None\n",
      "root.result.teams[0].id None == None\n",
      "root.result.teams[0].publicLeaderboardRank None == None\n",
      "root.result.teams[0].lastSubmissionDate.nanos None == None\n",
      "root.result.teams[0].lastSubmissionDate.seconds None == None\n",
      "root.result.teams[0].privateLeaderboardSubmissionId None == None\n",
      "root.wasSuccessful   None == None\n"
     ]
    }
   ],
   "source": [
    "recursive_compare(sparse_submission_ep_resp, sparse_team_ep_resp)"
   ]
  },
  {
   "cell_type": "markdown",
   "metadata": {
    "Collapsed": "false"
   },
   "source": [
    "### sparse_replay_ep_resp vs. sparse_replay_ep_resp (reflexive)"
   ]
  },
  {
   "cell_type": "code",
   "execution_count": 149,
   "metadata": {
    "Collapsed": "false"
   },
   "outputs": [
    {
     "name": "stdout",
     "output_type": "stream",
     "text": [
      "root.result.replay.configuration.maxCellHalite None == None\n",
      "root.result.replay.configuration.spawnCost None == None\n",
      "root.result.replay.configuration.convertCost None == None\n",
      "root.result.replay.configuration.moveCost None == None\n",
      "root.result.replay.configuration.agentExec None == None\n",
      "root.result.replay.configuration.runTimeout None == None\n",
      "root.result.replay.configuration.episodeSteps None == None\n",
      "root.result.replay.configuration.actTimeout None == None\n",
      "root.result.replay.configuration.regenRate None == None\n",
      "root.result.replay.configuration.size None == None\n",
      "root.result.replay.configuration.startingHalite None == None\n",
      "root.result.replay.configuration.agentTimeout None == None\n",
      "root.result.replay.configuration.collectRate None == None\n",
      "root.result.replay.title None == None\n",
      "root.result.replay.id None == None\n",
      "root.result.replay.version None == None\n",
      "root.result.replay.description None == None\n",
      "root.result.replay.statuses[0] None == None\n",
      "root.result.replay.rewards[0] None == None\n",
      "root.result.replay.steps[0][0].reward None == None\n",
      "root.result.replay.steps[0][0].status None == None\n",
      "root.result.replay.steps[0][0].observation.player None == None\n",
      "root.result.replay.steps[0][0].observation.halite[0] None == None\n",
      "root.result.replay.steps[0][0].observation.players[0][0] None == None\n",
      "root.result.replay.steps[0][0].observation.step None == None\n",
      "root.result.replay.specification.configuration.maxCellHalite.type None == None\n",
      "root.result.replay.specification.configuration.maxCellHalite.description None == None\n",
      "root.result.replay.specification.configuration.maxCellHalite.minimum None == None\n",
      "root.result.replay.specification.configuration.maxCellHalite.default None == None\n",
      "root.result.replay.specification.configuration.spawnCost.type None == None\n",
      "root.result.replay.specification.configuration.spawnCost.description None == None\n",
      "root.result.replay.specification.configuration.spawnCost.minimum None == None\n",
      "root.result.replay.specification.configuration.spawnCost.default None == None\n",
      "root.result.replay.specification.configuration.convertCost.type None == None\n",
      "root.result.replay.specification.configuration.convertCost.description None == None\n",
      "root.result.replay.specification.configuration.convertCost.minimum None == None\n",
      "root.result.replay.specification.configuration.convertCost.default None == None\n",
      "root.result.replay.specification.configuration.moveCost.type None == None\n",
      "root.result.replay.specification.configuration.moveCost.description None == None\n",
      "root.result.replay.specification.configuration.moveCost.minimum None == None\n",
      "root.result.replay.specification.configuration.moveCost.default None == None\n",
      "root.result.replay.specification.configuration.agentExec.description None == None\n",
      "root.result.replay.specification.configuration.agentExec.enum[0] None == None\n",
      "root.result.replay.specification.configuration.agentExec.type None == None\n",
      "root.result.replay.specification.configuration.agentExec.default None == None\n",
      "root.result.replay.specification.configuration.runTimeout.type None == None\n",
      "root.result.replay.specification.configuration.runTimeout.description None == None\n",
      "root.result.replay.specification.configuration.runTimeout.minimum None == None\n",
      "root.result.replay.specification.configuration.runTimeout.default None == None\n",
      "root.result.replay.specification.configuration.episodeSteps.type None == None\n",
      "root.result.replay.specification.configuration.episodeSteps.description None == None\n",
      "root.result.replay.specification.configuration.episodeSteps.minimum None == None\n",
      "root.result.replay.specification.configuration.episodeSteps.default None == None\n",
      "root.result.replay.specification.configuration.actTimeout.type None == None\n",
      "root.result.replay.specification.configuration.actTimeout.description None == None\n",
      "root.result.replay.specification.configuration.actTimeout.minimum None == None\n",
      "root.result.replay.specification.configuration.actTimeout.default None == None\n",
      "root.result.replay.specification.configuration.regenRate.type None == None\n",
      "root.result.replay.specification.configuration.regenRate.description None == None\n",
      "root.result.replay.specification.configuration.regenRate.minimum None == None\n",
      "root.result.replay.specification.configuration.regenRate.default None == None\n",
      "root.result.replay.specification.configuration.size.type None == None\n",
      "root.result.replay.specification.configuration.size.description None == None\n",
      "root.result.replay.specification.configuration.size.minimum None == None\n",
      "root.result.replay.specification.configuration.size.default None == None\n",
      "root.result.replay.specification.configuration.startingHalite.description None == None\n",
      "root.result.replay.specification.configuration.startingHalite.type None == None\n",
      "root.result.replay.specification.configuration.startingHalite.default None == None\n",
      "root.result.replay.specification.configuration.agentTimeout.type None == None\n",
      "root.result.replay.specification.configuration.agentTimeout.description None == None\n",
      "root.result.replay.specification.configuration.agentTimeout.minimum None == None\n",
      "root.result.replay.specification.configuration.agentTimeout.default None == None\n",
      "root.result.replay.specification.configuration.collectRate.type None == None\n",
      "root.result.replay.specification.configuration.collectRate.description None == None\n",
      "root.result.replay.specification.configuration.collectRate.minimum None == None\n",
      "root.result.replay.specification.configuration.collectRate.default None == None\n",
      "root.result.replay.specification.reward.type[0] None == None\n",
      "root.result.replay.specification.reward.description None == None\n",
      "root.result.replay.specification.reward.minimum None == None\n",
      "root.result.replay.specification.reward.default None == None\n",
      "root.result.replay.specification.action.description None == None\n",
      "root.result.replay.specification.action.additionalProperties.description None == None\n",
      "root.result.replay.specification.action.additionalProperties.enum[0] None == None\n",
      "root.result.replay.specification.action.type None == None\n",
      "root.result.replay.specification.action.default None == None\n",
      "root.result.replay.specification.observation.player.type None == None\n",
      "root.result.replay.specification.observation.player.description None == None\n",
      "root.result.replay.specification.observation.player.defaults[0] None == None\n",
      "root.result.replay.specification.observation.halite.description None == None\n",
      "root.result.replay.specification.observation.halite.shared None == None\n",
      "root.result.replay.specification.observation.halite.type None == None\n",
      "root.result.replay.specification.observation.players.description None == None\n",
      "root.result.replay.specification.observation.players.shared None == None\n",
      "root.result.replay.specification.observation.players.type None == None\n",
      "root.result.replay.specification.observation.step.type None == None\n",
      "root.result.replay.specification.observation.step.description None == None\n",
      "root.result.replay.specification.observation.step.shared None == None\n",
      "root.result.replay.specification.observation.step.minimum None == None\n",
      "root.result.replay.specification.agents[0] None == None\n",
      "root.result.replay.schema_version None == None\n",
      "root.result.replay.name None == None\n",
      "root.wasSuccessful   None == None\n"
     ]
    }
   ],
   "source": [
    "recursive_compare(sparse_replay_ep_resp, sparse_replay_ep_resp)"
   ]
  },
  {
   "cell_type": "markdown",
   "metadata": {
    "Collapsed": "false"
   },
   "source": [
    "## Documenting API Endpoints"
   ]
  },
  {
   "cell_type": "markdown",
   "metadata": {
    "Collapsed": "false"
   },
   "source": [
    "#### GetEpisodeReplay Endpoint"
   ]
  },
  {
   "cell_type": "markdown",
   "metadata": {
    "Collapsed": "false"
   },
   "source": [
    "- URL: 'https://www.kaggle.com/requests/EpisodeService/GetEpisodeReplay'\n",
    "- Verb: Post\n",
    "- Schema: JSON\n",
    "- JSON Payload: {\"EpisodeId\": episode_id} # int\n",
    "- Description: this endpoint retrieves the game spec, the game config, and the progression of game states."
   ]
  },
  {
   "cell_type": "markdown",
   "metadata": {
    "Collapsed": "false"
   },
   "source": [
    "#### ListEpisodes Endpoint"
   ]
  },
  {
   "cell_type": "markdown",
   "metadata": {
    "Collapsed": "false"
   },
   "source": [
    "- URL: 'https://www.kaggle.com/requests/EpisodeService/ListEpisodes'\n",
    "- Verb: Post\n",
    "- Schema: JSON\n",
    "- JSON Payload:\n",
    "    - {\"Ids\": episode_ids} # List[int]\n",
    "    - {\"TeamId\": team_id} # int\n",
    "    - {\"SubmissionId\": submission_id} # int\n",
    "- Description: this endpoint retrieves team, episode metadata, agent and submission data that matches a coresponding Episode/Team/Submission ID."
   ]
  },
  {
   "cell_type": "code",
   "execution_count": null,
   "metadata": {
    "Collapsed": "false"
   },
   "outputs": [],
   "source": []
  }
 ],
 "metadata": {
  "kernelspec": {
   "display_name": "halite",
   "language": "python",
   "name": "halite"
  },
  "language_info": {
   "codemirror_mode": {
    "name": "ipython",
    "version": 3
   },
   "file_extension": ".py",
   "mimetype": "text/x-python",
   "name": "python",
   "nbconvert_exporter": "python",
   "pygments_lexer": "ipython3",
   "version": "3.7.3"
  }
 },
 "nbformat": 4,
 "nbformat_minor": 4
}
